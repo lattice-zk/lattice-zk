{
 "cells": [
  {
   "cell_type": "markdown",
   "metadata": {},
   "source": [
    "<br>\n",
    "<p><center>Anonymous Authors</i></center></p>\n",
    "\n",
    "<h1><center>Lattice-Based Zero-Knowledge Proofs<br>Implementing Lantern</center></h1>\n",
    "\n",
    "<br>\n",
    "<b><center>Abstract</center></b>\n",
    "\n",
    "Lattice-based cryptography has emerged as a promising new candidate to build cryptographic primitives due to its post-quantum resistance, ability to build fully homomorphic encryption, and strong theoretical security. Zero-Knowledge Proofs are an essential primitive for many privacy-enhancing technologies as they give us verifiability of private information as in, for example, anonymous credentials, group signatures, and verifiable oblivious pseudorandom functions. Currently, most implementations of zero-knowledge proof systems are either elliptic-curve-based systems, which are not post-quantum-resistant, or hash-based systems that are not very efficient for proofs involving lattice secrets. We provide the first implementation for Lantern, a state-of-the-art lattice-based zero-knowledge proof system that can create compact proofs of only a few dozen KB for basic statements. We explain the proof techniques and provide a Python/Sage implementation with the goal of making Lantern more accessible to researchers. This implementation allows us to construct a Module-LWE secret proof in 35s on a consumer laptop. We discuss the performance bottlenecks of the scheme and give ideas for an efficient implementation."
   ]
  },
  {
   "cell_type": "markdown",
   "metadata": {},
   "source": [
    "- Open interactive notebook [![Binder](https://mybinder.org/badge_logo.svg)](https://mybinder.org/v2/git/https%3A%2F%2Fextgit.iaik.tugraz.at%2Fpublic-shared%2Flattice-zk.git/HEAD?filepath=lattice-zk.ipynb) (may take a while to load)\n",
    "- Download notebook [here](https://extgit.iaik.tugraz.at/public-shared/lattice-zk/-/raw/main/notebooks/lattice-zk.ipynb?inline=false)\n",
    "- Download code only [here](https://extgit.iaik.tugraz.at/public-shared/lattice-zk/-/raw/main/code/lattice-zk.py?inline=false)"
   ]
  },
  {
   "cell_type": "markdown",
   "metadata": {},
   "source": [
    "## Outline\n",
    "\n",
    "1. [Introduction](#1.-Introduction)\n",
    "    1. [Zero-Knowledge Proofs](#1.1-Zero-Knowledge-Proofs)\n",
    "    2. [Lattice Cryptography](#1.2-Lattice-Cryptography)\n",
    "2. [Related Work](#2.-Related-Work)\n",
    "3. [Lantern Zero-Knowledge Proof Approach](#3.-Lantern-Zero-Knowledge-Proof-Approach)\n",
    "    1. [Commitment Scheme](#3.1-Commitment-Scheme)\n",
    "    2. [Linear Relations](#3.2-Linear-Relations)\n",
    "    3. [Quadratic Relations](#3.3-Quadratic-Relations)\n",
    "4. [Implementation](#4.-Implementation)\n",
    "    1. [Preliminaries](#4.1-Preliminaries)\n",
    "        1. [Polynomial Rings](#4.1.1-Polynomial-Rings)\n",
    "        2. [Random Distributions and Sampling](#4.1.2-Random-Distributions-and-Sampling)\n",
    "        3. [Rejection Sampling](#4.1.3-Rejection-Sampling)\n",
    "        4. [Challenge Space](#4.1.4-Challenge-Space)\n",
    "    2. [ABDLOP Commitment Opening Proof with Linear Proofs over Rq](#4.2-ABDLOP-Commitment-Opening-Proof-with-Linear-Proofs-over-Rq)\n",
    "    3. [Linear Proofs over Zq](#4.3-Linear-Proofs-over-Zq)\n",
    "    4. [Quadratic Proofs over Rq](#4.4-Quadratic-Proofs-over-Rq)\n",
    "    5. [Quadratic Proofs over Zq](#4.5-Quadratic-Proofs-over-Zq)\n",
    "    6. [Proving Knowledge of a Module-LWE Secret](#4.6-Proving-Knowledge-of-a-Module-LWE-Secret)\n",
    "    7. [Toolbox for Proving Lattice Relations](#4.7-Toolbox-for-Proving-Lattice-Relations)\n",
    "    8. [Benchmark Code](#4.7-Benchmark-Code)\n",
    "5. [Benchmarks](#5.-Benchmarks)\n",
    "6. [Conclusion](#Conclusion)\n"
   ]
  },
  {
   "cell_type": "markdown",
   "metadata": {},
   "source": [
    "## 1. Introduction"
   ]
  },
  {
   "cell_type": "markdown",
   "metadata": {},
   "source": [
    "In this master project, we were looking for a practical, efficient zero-knowledge proof system that we could use to build post-quantum secure privacy-enhancing technologies. Lattice cryptography is a great candidate for building post-quantum applications due to its efficiency and strong theoretical security. For some primitives like fully homomorphic encryption, the only known constructions are based on lattices [[CKK+17]](https://link.springer.com/chapter/10.1007/978-3-319-70694-8_15). As many companies switch to the new lattice-based encryption and signature schemes proposed in the [NIST post-quantum competition](https://csrc.nist.gov/projects/post-quantum-cryptography), we can expect lattice cryptography to become a new standard. Our privacy-enhancing applications will most likely use lattice keys, and the built-in zero-knowledge proof systems will need to prove statements involving lattice keys.\n",
    "\n",
    "For example, consider a lattice-based group signature scheme. A zero-knowledge proof shows that the signer of a document belongs to a particular group of people without revealing who the signer is, thus allowing them to stay anonymous. It is crucial for this proof system to create concise and quick-to-process proofs, as practical privacy solutions tend to be overlooked by companies and users if they introduce too much overhead.\n",
    "\n",
    "There are ways to prove statements about lattice keys using hash-based proof systems, which are post-quantum secure. However, they turn out to be very inefficient, especially for more advanced proofs, as they struggle with the requirements of the lattice hardness assumptions [[Bos+20]](https://link.springer.com/chapter/10.1007/978-3-030-44223-1_14). A more elegant and potentially efficient approach is to use lattice-based proof systems. Research in this direction has only recently made enough theoretical advancements to consider this approach in practice, leaving us a research gap with theoretically efficient schemes but no public implementations available.\n",
    "\n",
    "Lantern [[LNP22]](https://link.springer.com/chapter/10.1007/978-3-031-15979-4_3) [[Ngu22]](https://www.research-collection.ethz.ch/bitstream/handle/20.500.11850/574844/1/PhD_Thesis-3.pdf) is a new lattice-based zero-knowledge proof system that provides the most compact proofs of its kind. However, no public implementation is available, and the authors do not report any implementation-specific information in their paper. Previously, it was not clear how practical this scheme is, which is what we are examining in this project.\n",
    "\n",
    "In the next two sections, we introduce zero-knowledge proofs based on the discrete logarithm problem and show how to take the same ideas and apply them to lattice cryptography. Afterward, we compare Lantern to similar approaches, summarize the basic ideas of the Lantern scheme and give implementations of various Lantern protocols, culminating in a Module-LWE secret proof. Finally, we benchmark our implementations and discuss the performance bottlenecks that arise. We hope that our contribution makes the scheme more accessible to researchers who are interested in bringing the theoretical advancements of lattice-based zero-knowledge proofs into practice."
   ]
  },
  {
   "cell_type": "markdown",
   "metadata": {},
   "source": [
    "### 1.1 Zero-Knowledge Proofs"
   ]
  },
  {
   "cell_type": "markdown",
   "metadata": {},
   "source": [
    "Zero-knowledge proofs are a versatile cryptographic primitive that allows us to prove statements about a secret without revealing any information about the secret, except for the statement we want to prove. This property of only disclosing necessary information and keeping everything else secret makes this especially useful for building privacy-preserving protocols. For example, in anonymous credentials, we can use zero-knowledge proofs to verify that someone is of age without disclosing their actual birth date or anything else about their identity.\n",
    "\n",
    "Because these protocols require us to prove knowledge of commitment openings, let us briefly explain the concept of commitment schemes. A commitment scheme is a 2-step protocol in which one party commits to a chosen value while keeping it secret from others and later reveals the value. Others can then verify whether the value is really the one committed to before. Every commitment scheme needs to provide two security properties: \n",
    "- Hiding: The commitment should hide the committed value, making it computationally infeasible for anyone to determine the original value from the commitment alone.\n",
    "- Binding: Once the commitment is created, it should be computationally infeasible to reveal a different value than the one originally committed to.\n",
    "\n",
    "Using the discrete logarithm hardness assumption one can build a commitment scheme like this:\n",
    "- Commitment: $t = g^s$\n",
    "- Opening: $s$\n",
    "\n",
    "where $s \\in \\mathbb{Z}_q$ is a discrete logarithm secret, $g$ is the group generator and all computations are done modulo $q$.\n",
    "\n",
    "Now that we have a commitment scheme, instead of revealing $s$ in the end, we would like to prove knowledge of $s$ such that $g^s = t$ using a zero-knowledge proof. In the discrete logarithm case, this turns out to have a simple and efficient solution called a Schnorr Proof [[Sch89]](https://link.springer.com/chapter/10.1007/0-387-34805-0_22):\n",
    "\n",
    "$$\n",
    "  \\begin{array}{ccc}\n",
    "    {\\cal P}(g, s) & & {\\cal V}(g, t) \\\\\n",
    "    \\hline\n",
    "    \\text{pick}\\; y \\overset{\\tiny R}{\\leftarrow} \\mathbb{Z}_p,~~~ w \\leftarrow g^y & \\overset{w}{\\longrightarrow} & \\\\\n",
    "                                                                            & \\overset{c}{\\longleftarrow}  & \\text{pick challenge}\\; c \\overset{\\tiny R}{\\leftarrow} \\mathbb{Z}_q \\\\\n",
    "    z \\leftarrow y + cs                                                     & \\overset{z}{\\longrightarrow} & g^z \\stackrel{?}{=} w \\cdot t^c\n",
    "  \\end{array}\n",
    "$$\n",
    "<br>\n",
    "\n",
    "This protocol satisfies the three security properties of zero-knowledge proofs:\n",
    "- Completeness: An honest prover can convince a verifier that a valid statement is true.\n",
    "- Soundness: A malicious prover cannot convince the verifier of a false statement.\n",
    "- Zero-Knowledge: The proof reveals nothing about the secret or any other information except for the statement's validity.\n",
    "\n",
    "Unfortunately, when trying to build a similar proof using lattice cryptography, one encounters some problems, which we discuss in the next section.\n"
   ]
  },
  {
   "cell_type": "markdown",
   "metadata": {},
   "source": [
    "### 1.2 Lattice Cryptography"
   ]
  },
  {
   "cell_type": "markdown",
   "metadata": {},
   "source": [
    "Lattice cryptography allows us to build cryptographic primitives using hard lattice problems. Cryptography built from lattices is secure even with the advent of quantum computers. Furthermore, we can only build some advanced applications like fully homomorphic encryption efficiently using lattice cryptography. Because of this, many consider lattice cryptography the standard of the future, as evidenced by the [NIST post-quantum competition](https://csrc.nist.gov/projects/post-quantum-cryptography).\n",
    "\n",
    "Our protocols build upon the well-known computational lattice problems Module-LWE (MLWE) and Module-SIS (MSIS) [[LS15]](https://link.springer.com/article/10.1007/s10623-014-9938-4). Both problems are defined over a polynomial ring $\\mathcal{R}_q$. We use the polynomial ring $\\mathcal{R}_q = \\mathbb{Z}_q[X] /(X^d+1)$. To illustrate what we are dealing with, consider that a ring element $a$ can be represented using $d$ integer coefficients in $\\mathbb{Z}_q$ like\n",
    "\n",
    "$$\n",
    "a = a_0 + a_1 X + a_2 X^2 + \\dots + a_{d-1} X^{d-1}\n",
    "$$\n",
    "\n",
    "where $d$ is the degree of the ring and $q$ is the modulus prime. This is possible because the polynomial is reduced modulo $X^d+1$. The following matrices and vectors consist of such polynomials and addition and multiplication are computed according to polynomial arithmetic.\n",
    "\n",
    "**Module-SIS**: Given matrix $\\textbf{A} \\leftarrow \\mathcal{R}_q^{n \\times m}$, find a vector $\\textbf{s} \\in \\mathcal{R}_q^m$ of **small norm** $(0 < ||\\mathbf{s}|| \\leq B)$ such that\n",
    "\n",
    "$$\n",
    "\\textbf{As} = \\textbf{0}.\n",
    "$$\n",
    "\n",
    "It's easy to see that solving the SIS problem is equivalent to solving a linear equation system where the matrix $\\mathbf{A}$ gives the coefficients and the vector $\\mathbf{s}$ the desired variables. The additional requirement that $||\\mathbf{s}||$ needs to be small is crucial for the hardness of the problem because otherwise it could be easily solved using Gaussian elimination. This smallness requirement will follow us throughout our discussion and is the reason for many complications in lattice cryptography, in particular for building zero-knowledge proofs.\n",
    "\n",
    "Decision **Module-LWE**: Given matrix $\\textbf{A} \\leftarrow \\mathcal{R}_q^{n \\times m}$, error distribution $\\mathcal{X}$ over $\\mathcal{R}$, secret vector $\\mathbf{s} \\gets \\mathcal{X}^m$ and error vector $\\mathbf{e} \\gets \\mathcal{X}^n$, distinguish\n",
    "\n",
    "$$\n",
    "(\\mathbf{A}, \\mathbf{As} + \\mathbf{e})\n",
    "$$\n",
    "\n",
    "form uniformly random.\n",
    "\n",
    "The LWE problem can be seen as a noisy equation system, where $\\mathbf{A}$ gives the coefficients, the vector $\\mathbf{s}$ the desired variables and the vector $\\mathbf{e}$ represents added noise, which makes the problem hard. Our protocols need the decision variant of the problem as stated above."
   ]
  },
  {
   "cell_type": "markdown",
   "metadata": {},
   "source": [
    "Now that we have defined the hard problems, we can build cryptographic primitives from them. Using the MSIS problem, we can build a commitment scheme like this:\n",
    "- Commitment: $\\mathbf{t} = \\mathbf{A}\\mathbf{s}$\n",
    "- Opening: $\\mathbf{s}$\n",
    "\n",
    "where $s \\in \\mathcal{R}_q$ and $||\\mathbf{s}||$ is small.\n",
    "\n",
    "For lattice-based zero-knowledge proofs, one must prove knowledge of a secret $\\mathbf{s}$ in the lattice commitment \n",
    "\n",
    "$$\n",
    "\\mathbf{A}\\mathbf{s} = \\mathbf{t}\n",
    "$$\n",
    "\n",
    "and crucially, because the MSIS problem is only secure if $||\\mathbf{s}||$ is small, prove that $\\mathbf{s}$ has a small norm. This extra step of having to prove that $||\\mathbf{s}||$ is small turns out to be a major complication in lattice-based zero-knowledge proofs in comparison to their discrete logarithm-based counterparts. All the complexity of the following protocols comes from this small norm requirement in lattice cryptography.\n",
    "\n",
    "The Lyubashevsky Identification Scheme [[Lyu09]](https://link.springer.com/chapter/10.1007/978-3-642-10366-7_35) tries to adopt the Schnorr Proof to the lattice setting but only manages to give a reduced proof. Namely, it proves knowledge of an $\\mathbf{\\bar s} \\in \\mathcal{R}_q$ such that $\\mathbf{A}\\mathbf{\\bar s} = c\\mathbf{t}$, where $||\\mathbf{\\bar s}|| > ||\\mathbf{s}||$:\n",
    "\n",
    "$$\n",
    "  \\begin{array}{ccc}\n",
    "    {\\cal P}(\\mathbf{A}, \\mathbf{s}) & & {\\cal V}(\\mathbf{A}, \\mathbf{t}) \\\\\n",
    "    \\hline\n",
    "    \\text{pick}\\; \\mathbf{y} \\overset{\\tiny R}{\\leftarrow} D_{\\mathfrak{s}}^{md},~~~ \\mathbf{w} \\leftarrow \\mathbf{Ay} & \\overset{\\mathbf{w}}{\\longrightarrow} & \\\\\n",
    "                                                                                                                       & \\overset{c}{\\longleftarrow}           & \\text{pick challenge}\\; c \\overset{\\tiny R}{\\leftarrow} \\mathcal{C} \\\\\n",
    "    \\mathbf{z} \\leftarrow \\mathbf{y} + c \\mathbf{s},~~~ \\text{Rej}(\\mathbf{z}, c \\mathbf{s}, \\mathfrak{s})             & \\overset{\\mathbf{z}}{\\longrightarrow} & ||\\mathbf{z}|| \\stackrel{?}{\\leq} B,~~~  \\mathbf{w} \\stackrel{?}{=} \\mathbf{Az} - c \\mathbf{t}\n",
    "  \\end{array}\n",
    "$$\n",
    "<br>\n",
    "\n",
    "This protocol follows the same commit, challenge, response structure as the Schnorr Proof. Because of the small norm requirement of the MSIS problem, randomness $\\mathbf{y}$ needs to be kept small and is therefore sampled from a Gaussian distribution rather than uniformly random. Notice that $\\mathbf{y}$ is used to mask the secret $\\mathbf{s}$. Now, because $\\mathbf{y}$ is not uniformly random anymore, the distribution of $\\mathbf{z}$ needs to be adjusted using rejection sampling (Rej), such that $\\mathbf{z}$ does not reveal anything about the secret. The challenge $c$ also needs to be small to keep $\\mathbf{z}$ small, so it has to be sampled from a specially crafted challenge space $\\mathcal{C}$.\n",
    "\n",
    "Such a reduced proof is enough for constructing fairly efficient basic protocols like signatures. The NIST post-quantum signature candidate Dilithium [[DKL+18]](https://tches.iacr.org/index.php/TCHES/article/view/839) for example uses a non-interactive version of this protocol. However, the fact that the norm of the extracted $\\mathbf{\\bar s}$ is noticeably larger than that of $\\mathbf{s}$, along with the presence of the extra multiplicand $c$, makes these proofs awkward to use in many other situations. This very often results in the protocols employing these proofs being less efficient than necessary, or in not giving the resulting scheme the desired functionality. For example, consider a Regev-style [[Reg09]](https://dl.acm.org/doi/10.1145/1568318.1568324) lattice-based encryption scheme where $\\mathbf{s}$ is the randomness (including the message) and $\\mathbf{t}$ is the ciphertext. To decrypt, $\\mathbf{t}$ must have a short pre-image. The reduced proof is not enough to guarantee that the ciphertext $\\mathbf{t}$ can be decrypted because only $c \\mathbf{t}$ is guaranteed to have a short pre-image, and not $\\mathbf{t}$ (and $c$ is not known to the decryptor). As a consequence, the previously most efficient lattice-based verifiable encryption scheme [[LN17]](https://link.springer.com/chapter/10.1007/978-3-319-56620-7_11) has the undesirable property that the expected decryption time is equal to the adversary's running time because the decryptor needs to essentially guess $c$. Other lattice-based constructions like group signature schemes (e.g. [[LNPS21]](https://link.springer.com/chapter/10.1007/978-3-030-92068-5_8)) were required to select much larger parameters than needed to accommodate the presence of the multiplicand $c$ and the “slack” between the length of the known solution $\\mathbf{s}$ and the solution $\\mathbf{\\bar s}$ that one can prove.\n",
    "\n",
    "In Lantern [[LNP22]](https://link.springer.com/chapter/10.1007/978-3-031-15979-4_3) [[Ngu22]](https://www.research-collection.ethz.ch/bitstream/handle/20.500.11850/574844/1/PhD_Thesis-3.pdf) a new approach for proving a tight bound on $||\\mathbf{s}||$ is introduced, which improves upon previous works in terms of simplicity and efficiency. This allows us to construct a complete lattice zero-knowledge proof and instantiate more efficient protocols like verifiable encryption or group signature schemes."
   ]
  },
  {
   "cell_type": "markdown",
   "metadata": {},
   "source": [
    "## 2. Related Work"
   ]
  },
  {
   "cell_type": "markdown",
   "metadata": {},
   "source": [
    "There has been a lot of progress in post-quantum secure zero-knowledge proofs in recent years. Many new schemes have been proposed, which can be categorized into two major research directions: Lattice-based schemes, which build upon the hardness of lattice problems, and hash-based schemes, which are only based on the hardness of cryptographic hash functions. In the following table (taken from [[Ngu22]](https://www.research-collection.ethz.ch/bitstream/handle/20.500.11850/574844/1/PhD_Thesis-3.pdf)) you can see a proof length comparison for proving knowledge of an MLWE secret, specifically proving knowledge of short $\\mathbf{s}, \\mathbf{e}$ satisfying $\\mathbf{As} + \\mathbf{e} = \\mathbf{t}$, where $\\mathbf{A} \\in \\mathcal{R}_{q}^{n \\times m}$, $(n, m, d, q) = (16, 16, 64, \\approx 2^{32})$, and $||(\\mathbf{s}, \\mathbf{e})|| \\leq \\sqrt{2048}$.\n",
    "\n",
    "$$\n",
    "\\begin{array}{rllr}\n",
    "          & \\text{Lattice-based}             & \\text{Hash-based}      & \\text{Proof Size} \\\\\n",
    "     \\hline\n",
    "     2017 & \\text{Stern-type proofs [Ste93]} &  & \\text{3522 KB} \\\\\n",
    "          &                                  & \\text{Ligero [Ame+17]} &  \\text{157 KB} \\\\\n",
    "     2019 & \\text{Bootle et al. [BLS19]}     &                        &  \\text{384 KB} \\\\\n",
    "          &                                  & \\text{Aurora [Ben+19]} &   \\text{72 KB} \\\\\n",
    "     2020 & \\text{Esgin et al. [ENS20]}      &                        &   \\text{47 KB} \\\\\n",
    "     2022 & \\text{Lantern [LNP22]}           &                        &   \\text{13 KB} \\\\\n",
    "\\end{array}\n",
    "$$\n",
    "<br>\n",
    "\n",
    "The first lattice-based protocols for complete proofs used the combinatorial algorithm of Stern [[Ste93]](https://link.springer.com/chapter/10.1007/3-540-48329-2_2) to prove that the $L_\\infty$ norm is bounded by revealing a random permutation of $\\mathbf{s}$. The main problem with these protocols was their high soundness error, meaning they had to be repeated around 200 times to make the error acceptably small $(2^{-128})$, which resulted in proofs of size more than 1MB [[Lin+13]](https://link.springer.com/chapter/10.1007/978-3-642-36362-7_8). Later, a more algebraic approach combined commitments and zero-knowledge proofs of committed values to prove linear relations between the coefficients of $\\mathbf{s}$ to prove a bound on its norm [[BLS19]](https://link.springer.com/chapter/10.1007/978-3-030-26948-7_7). These proofs were significantly improved through Chinese remainder theorem (CRT) slots, reducing the proof size by another order of magnitude [[ENS20]](https://link.springer.com/chapter/10.1007/978-3-030-64834-3_9). The CRT slots, however, require support for large message coefficients, meaning they need to use a more expensive commitment scheme like BDLOP [[Bau+18b]](https://link.springer.com/chapter/10.1007/978-3-319-98113-0_20). Lantern introduces a different approach to prove the smallness of $\\mathbf{s}$, not based on CRT slots, allowing for a more efficient commitment scheme like Ajtai [[Ajt96]](https://dl.acm.org/doi/10.1145/237814.237838). This and other improvements got the proof size down to 13KB, of which 8KB are just the \"minimum\" commitment (i.e. a commitment to just one element in $\\mathcal{R}_q$) and its opening proof, showing that Lantern is quite close to optimal for any approach that uses lattice-based commitment schemes.\n",
    "\n",
    "Hash-based protocols have in the past outperformed their lattice-based counterparts and have also seen much development, most notably the introduction of Ligero [[Ame+17]](https://dl.acm.org/doi/10.1145/3133956.3134104) and Aurora [[Ben+19]](https://link.springer.com/chapter/10.1007/978-3-030-17653-2_4). However, the lattice-based alternatives have now caught up in terms of proof size.\n",
    "\n",
    "Comparing the schemes in terms of real-world runtime remains difficult because the given lattice-based schemes don't have any public implementations. Esgin et al. [[ENS20]](https://link.springer.com/chapter/10.1007/978-3-030-64834-3_9) mention that they implemented their scheme with a Module-LWE secret proof runtime (prover + verifier) of 4ms. For the hash-based schemes, such a proof was to date only implemented with Aurora [[Bos+20]](https://link.springer.com/chapter/10.1007/978-3-030-44223-1_14). They manage to prove knowledge of a Module-LWE secret in 40s on a laptop, but for proofs in more advanced protocols like group signatures, they run out of memory even on large memory cloud machines with more than 1 TB of memory. So, while the given schemes provide concise proofs, it is not clear whether they are feasible in practice in terms of runtime and memory usage. This is why we implement the Lantern scheme and show that we can run it on a consumer laptop."
   ]
  },
  {
   "cell_type": "markdown",
   "metadata": {},
   "source": [
    "## 3. Lantern Zero-Knowledge Proof Approach"
   ]
  },
  {
   "cell_type": "markdown",
   "metadata": {},
   "source": [
    "To construct a zero-knowledge proof of a secret $\\mathbf{s} \\in \\mathcal{R}_q$ in a lattice commitment like $\\mathbf{A}\\mathbf{s} = \\mathbf{t}$, one also needs to prove that $||\\mathbf{s}||$ is small, which, as explained previously, is required for the security of the protocol. Lantern introduces a new approach to prove that $||\\mathbf{s}|| \\leq B$, where $B \\in \\mathbb{Z}$ is some bound on the norm of $\\mathbf{s}$.\n",
    "\n",
    "Note that $||\\mathbf{s}||$ is equal to the square of the inner product of $\\mathbf{s}$ with itself $\\langle \\mathbf{s}, \\mathbf{s} \\rangle^2$. This means we need to prove the following relation:\n",
    "\n",
    "$$\n",
    "\\langle \\mathbf{s}, \\mathbf{s} \\rangle \\leq B^2, \\quad B \\in \\mathbb{Z}\n",
    "$$\n",
    "\n",
    "which is a quadratic relation over $\\mathbb{Z}$. However, proving quadratic relations over $\\mathbb{Z}$ is difficult when we have a proof system defined over $\\mathcal{R}_q$. Lantern gives us a multi-step approach to get from a commitment opening proof like the Lyubashevsky Identification Scheme [[Lyu09]](https://link.springer.com/chapter/10.1007/978-3-642-10366-7_35) (discussed previously) to a proof of quadratic relations over $\\mathbb{Z}$. This is done by making use of several algebraic transformations and a new efficient lattice commitment scheme. In the following sections, we show the individual steps required to get from a commitment scheme with proof of opening to quadratic relations over $\\mathbb{Z}$. We first use the commitment scheme to prove linear relation over $\\mathcal{R}_q$, then over $\\mathbb{Z}_q$ and finally over $\\mathbb{Z}$. Then we use the commitment scheme to prove quadratic relations over $\\mathcal{R}_q$, then over $\\mathbb{Z}_q$. To finally get quadratic relations over $\\mathbb{Z}$, we combine linear relations over $\\mathbb{Z}$ with quadratic relations over $\\mathbb{Z}_q$.\n"
   ]
  },
  {
   "cell_type": "markdown",
   "metadata": {},
   "source": [
    "### 3.1 Commitment Scheme"
   ]
  },
  {
   "cell_type": "markdown",
   "metadata": {},
   "source": [
    "For more efficiency, Lantern introduces a new commitment scheme that combines the advantages of the Ajtai [[Ajt96]](https://dl.acm.org/doi/10.1145/237814.237838) and BDLOP [[BDL+18]](https://link.springer.com/chapter/10.1007/978-3-319-98113-0_20) schemes into one they call ABDLOP.\n",
    "\n",
    "In the Ajtai commitment scheme, one commits to a message $\\mathbf{s}_1$ using randomness $\\mathbf{s}_2$, where both $||\\mathbf{s}_i||$ are small and\n",
    "\n",
    "$$\n",
    "\\mathbf{A}_1\\mathbf{s}_1 + \\mathbf{A}_2\\mathbf{s}_2 = \\mathbf{t}.\n",
    "$$\n",
    "\n",
    "The advantage of the Ajtai commitment is that the dimension of the message $\\mathbf{s}_1$ does not increase the commitment size. The disadvantage is that the coefficients of $\\mathbf{s}_1$ need to be small.\n",
    "\n",
    "In the BDLOP commitment scheme, one commits to a message $\\mathbf{m}$ using randomness $\\mathbf{s}$ as\n",
    "\n",
    "$$\n",
    "{\\begin{bmatrix}{\\mathbf{A}} \\\\ {\\mathbf{B}}\\end{bmatrix}} * \\mathbf{s} + {\\begin{bmatrix}{\\mathbf{0}} \\\\ {\\mathbf{m}}\\end{bmatrix}} = {\\begin{bmatrix}{\\mathbf{t}_A} \\\\ {\\mathbf{t}_B}\\end{bmatrix}},\n",
    "$$\n",
    "\n",
    "The disadvantage of this scheme is that both the commitment size and the opening size grow linearly with the dimension of message vector $\\mathbf{m}$. The advantages are that first, the coefficients of $\\mathbf{m}$ can be arbitrarily large modulo $q$. Secondly, if one plans ahead and sets the dimension of $\\mathbf{s}$ large enough, appending new commitments is very cheap. For example, assume we have created a commitment to $\\mathbf{m}$ and would like to commit another $\\mathbf{m}'$. Then we just need to compute $\\mathbf{B}'\\mathbf{s} + \\mathbf{m}' = \\mathbf{t}_B'$, where $\\mathbf{B}'$ is public randomness. Now we have a new commitment for $(\\mathbf{m}, \\mathbf{m}')$ as\n",
    "\n",
    "$$\n",
    "{\\begin{bmatrix}{\\mathbf{A}} \\\\ {\\mathbf{B}} \\\\ {\\mathbf{B}'}\\end{bmatrix}} * \\mathbf{s} + {\\begin{bmatrix}{\\mathbf{0}} \\\\ {\\mathbf{m}} \\\\ {\\mathbf{m}'}\\end{bmatrix}} = {\\begin{bmatrix}{\\mathbf{t}_A} \\\\ {\\mathbf{t}_B} \\\\ {\\mathbf{t}_B'}\\end{bmatrix}}.\n",
    "$$\n",
    "\n",
    "The new ABDLOP commitment scheme combines the two above in the following way: $\\mathbf{s}_1$ is used for messages with small norm, and $\\mathbf{m}$ is used for messages with unrestricted coefficients modulo $q$ as\n",
    "\n",
    "$$\n",
    "{\\begin{bmatrix}{\\mathbf{A}_1} \\\\ {\\mathbf{0}}\\end{bmatrix}} * \\mathbf{s}_1 + {\\begin{bmatrix}{\\mathbf{A}_2} \\\\ {\\mathbf{B}}\\end{bmatrix}} * \\mathbf{s}_2 + {\\begin{bmatrix}{\\mathbf{0}} \\\\ {\\mathbf{m}}\\end{bmatrix}} = {\\begin{bmatrix}{\\mathbf{t}_A} \\\\ {\\mathbf{t}_B}\\end{bmatrix}},\n",
    "$$\n",
    "\n",
    "where $\\mathbf{s}_2$ is randomness. Commitments and openings are shorter than if one would use the two schemes separately: Instead of needing $\\mathbf{t}$ from Ajtai and $\\mathbf{t}_A$ from BDLOP, we only need $\\mathbf{t}_A$. Similarly, we only need $\\mathbf{s}_2$ for the opening.\n"
   ]
  },
  {
   "cell_type": "markdown",
   "metadata": {},
   "source": [
    "### 3.2 Linear Relations"
   ]
  },
  {
   "cell_type": "markdown",
   "metadata": {},
   "source": [
    "#### Linear Relations over Rq"
   ]
  },
  {
   "cell_type": "markdown",
   "metadata": {},
   "source": [
    "One can construct a proof of opening for the ABDLOP commitment scheme similar to the Lyubashevsky Identification Scheme discussed previously. For the sake of simplicity, we will now use the Ajtai commitment to show how to prove linear relations over $\\mathcal{R}_q$, but the same can be done using ABDLOP commitments.\n",
    "\n",
    "Assume we want to prove linear relations over the secret $\\mathbf{s}_1 \\in \\mathcal{R}_q$ in the Ajtai commitment $\\mathbf{A}_1\\mathbf{s}_1 + \\mathbf{A}_2\\mathbf{s}_2 = \\mathbf{t}$. We can represent these relations using matrix $\\mathbf{R}$ and vector $\\mathbf{r}$ like $\\mathbf{R}\\mathbf{s}_1 + \\mathbf{r} = \\mathbf{0}$.\n",
    "\n",
    "To prove this relation, we simply extend the Ajtai matrices and vectors like\n",
    "\n",
    "$$\n",
    "{\\begin{bmatrix}{\\mathbf{A}_1} \\\\ {\\mathbf{-R}}\\end{bmatrix}} \\mathbf{s}_1 + {\\begin{bmatrix}{\\mathbf{A}_2} \\\\ {\\mathbf{0}}\\end{bmatrix}} \\mathbf{s}_2 = {\\begin{bmatrix}{\\mathbf{t}} \\\\ {\\mathbf{r}}\\end{bmatrix}}\n",
    "$$\n",
    "\n",
    "and run the opening proof protocol. This protocol now proves knowledge of the opening and the linear relation given.\n"
   ]
  },
  {
   "cell_type": "markdown",
   "metadata": {},
   "source": [
    "#### Linear Relations over Zq"
   ]
  },
  {
   "cell_type": "markdown",
   "metadata": {},
   "source": [
    "Once we have linear relations over $\\mathcal{R}_q$ we can use an algebraic equality to lift the proof and get linear relations over $\\mathbb{Z}_q$.\n",
    "\n",
    "Remember that every ${a \\in \\mathcal{R}_q}$ can be represented as a coefficient vector in $\\mathbb{Z}_q$ of size $d$ such that \n",
    "\n",
    "$$\n",
    "{a = a_0 + a_1 X + a_2 X^2 + \\dots + a_{d-1} X^{d-1}}.\n",
    "$$\n",
    "\n",
    "Notice that the inner product of the coefficient vectors of two polynomials\n",
    "\n",
    "$$\n",
    "u = {\\langle r',s' \\rangle} \\quad r', s' \\in \\mathbb{Z}_q^d\n",
    "$$\n",
    "\n",
    "is equivalent to the constant coefficient of the polynomial product of the two polynomials\n",
    "\n",
    "$$\n",
    "u = \\widetilde{(r*s)}\n",
    "$$\n",
    "\n",
    "where $r, s$ are constructed from the coefficient vectors like\n",
    "\n",
    "$$\n",
    "r = r'_0 - r'_{d-1} X - r'_{d-2} X^2 - \\dots - r'_1 X^{d-1 } \\in \\mathcal{R}_q\n",
    "$$\n",
    "\n",
    "$$\n",
    "s = s'_0 + s'_1 X + s'_2 X^2 + \\dots + s'_{d-1} X^{d-1 } \\in \\mathcal{R}_q\n",
    "$$\n",
    "\n",
    "Notice that $s$ was not changed, but for $r$ the coefficients except the constant coefficients are negated and their order is reversed. This operation is an automorphism  of the ring denoted as $\\sigma_{-1}$, which is explained later.\n",
    "\n",
    "Essentially, if we can prove linear relations of the constant coefficient of an $\\mathcal{R}_q$ polynomial, we can also prove linear relations over $\\mathbb{Z}_q$. Now, we can just take the proof protocol that proves linear relations over $\\mathcal{R}_q$, mask all coefficients except the constant one, and we have a proof protocol that can prove linear relations over $\\mathbb{Z}_q$."
   ]
  },
  {
   "cell_type": "markdown",
   "metadata": {},
   "source": [
    "#### Linear Relations over Z"
   ]
  },
  {
   "cell_type": "markdown",
   "metadata": {},
   "source": [
    "Now that we can prove linear relation over $\\mathbb{Z}_q$, we need to get rid of the modulus $q$. In particular, to prove $||\\mathbf{s}||$ is small, we need to get from smallness modulo $q$ to smallness without a modulo. For this Lantern provides a theorem that builds on top of the Johnson-Lindenstrauss Lemma and states: For a matrix $\\mathbf{C} \\in \\mathbb{Z}$ with $\\{-1, 0, 1\\}$ coefficients it holds that for $\\mathbf{z} = \\mathbf{y} + \\mathbf{Cs}$\n",
    "\n",
    "$$\n",
    "\\text{if} \\; ||\\mathbf{y} + \\mathbf{Cs} \\mod q|| \\; \\text{is small, then} \\; \\mathbf{z} \\; \\text{is small}.\n",
    "$$\n",
    "\n",
    "Unfortunately, this gives us only approximate shortness proofs. The norm of $\\mathbf{z}$ is not exactly the norm of $\\mathbf{s}$, because of the $\\mathbf{y}$ and $C$ terms. However, we can now construct approximate proofs if we sample challenges from matrices with $\\{-1, 0, 1\\}$ coefficients. We can use these approximate proofs to prove that linear equations over $\\mathbb{Z}_q$ hold also over $\\mathbb{Z}$ by showing that no wrap-around modulo $q$ occurs."
   ]
  },
  {
   "cell_type": "markdown",
   "metadata": {},
   "source": [
    "### 3.3 Quadratic Relations"
   ]
  },
  {
   "cell_type": "markdown",
   "metadata": {},
   "source": [
    "#### Quadratic Relations over Rq"
   ]
  },
  {
   "cell_type": "markdown",
   "metadata": {},
   "source": [
    "Above we saw how one can prove relations of the secret with a public value. Now we show how to prove relations between two secrets, in other words, quadratic relations.\n",
    "\n",
    "Assume we wanted to prove the following relation between secrets:\n",
    "\n",
    "$$\n",
    "s_1 s_2 - s_3 = 0\n",
    "$$\n",
    "\n",
    "where $s_i$ are parts of the secret vector $\\mathbf{s}$. Remember that in the opening proof, the prover sends the vector $\\mathbf{z} = \\mathbf{y} + c \\mathbf{s}$, which we can split into $z_i = y_i + cs_i$, where $c$ is the challenge and $y_i$ is the masking polynomial used to hide $s_i$.\n",
    "\n",
    "Now the verifier creates a quadratic equation in $c$ out of the linear equations $z_i = y_i + cs_i$:\n",
    "\n",
    "$$\n",
    "z_1 z_2 - c z_3 = (s_1 s_2 - s_3) c^2 + g_1 c + g_0\n",
    "$$\n",
    "\n",
    "where $g_1, g_0$ are garbage terms that depend on $y_i, s_i$ and are committed to by the prover in the commitment phase (prior to receiving the challenge). If the prover shows that $z_1 z_2 - c z_3 = g_1 c + g_0$, which is a linear equation where the quadratic part of the above equation is left out, it implies that the quadratic part $s_1 s_2 - s_3 = 0$ with high probability, which is exactly the relation we wanted to prove originally."
   ]
  },
  {
   "cell_type": "markdown",
   "metadata": {},
   "source": [
    "#### Quadratic Relations over Z"
   ]
  },
  {
   "cell_type": "markdown",
   "metadata": {},
   "source": [
    "Once we have quadratic relations of $\\mathcal{R}_q$, we can apply the same technique as with linear proofs to get quadratic relations over $\\mathbb{Z}_q$. To get quadratic relations over $\\mathbb{Z}$, however, we need to combine proofs of quadratic relations over $\\mathbb{Z}_q$ with proofs of linear relations over $\\mathbb{Z}$.\n",
    "\n",
    "Remember, we want to prove that $||\\mathbf{s}||^2 = \\langle \\mathbf{s}, \\mathbf{s}\\rangle \\leq B^2$.\n",
    "\n",
    "We first prove that $\\langle \\mathbf{s}, \\mathbf{s}\\rangle \\leq B^2 \\mod q$, a quadratic relation over $\\mathbb{Z}_q$. However, this only tells us that the norm is small modulo $q$. To prove that no wraparound occurred, we additionally prove the approximate smallness of the norm using the approximate range-proof technique seen previously, which uses linear relations over $\\mathbb{Z}$."
   ]
  },
  {
   "cell_type": "markdown",
   "metadata": {},
   "source": [
    "## 4. Implementation"
   ]
  },
  {
   "cell_type": "markdown",
   "metadata": {},
   "source": [
    "Here we provide a Python/Sage implementation of the zero-knowledge proof techniques of Lantern [[LNP22]](https://link.springer.com/chapter/10.1007/978-3-031-15979-4_3) [[Ngu22]](https://www.research-collection.ethz.ch/bitstream/handle/20.500.11850/574844/1/PhD_Thesis-3.pdf). We start with preliminaries by defining the polynomial rings and some required algebraic functions, go over sampling techniques like Gaussian Sampling, provide the rejection sampling algorithms and algorithms for sampling the challenge polynomials. Then we provide zero-knowledge proof implementations for various relations using Lantern techniques. As discussed in the previous section, we incrementally expand our proof system to be able to prove more kinds of relations. We start with simple commitment opening proofs and linear proofs over $\\mathcal{R}_q$ and expand them to proofs over $\\mathbb{Z_q}$. Then we add the ability to prove quadratic relations and from this finally build a proof system to prove knowledge of a Module-LWE secret. The code of the expanded proof systems will call previous proof systems as a sub-protocol."
   ]
  },
  {
   "cell_type": "code",
   "execution_count": null,
   "metadata": {
    "vscode": {
     "languageId": "python"
    }
   },
   "outputs": [],
   "source": [
    "# Make sure to select a SageMath kernel when running this notebook!\n",
    "import sage.all as sg\n",
    "import numpy as np\n",
    "import random\n",
    "import time\n",
    "from itertools import chain\n",
    "from sage.stats.distributions.discrete_gaussian_polynomial import DiscreteGaussianDistributionPolynomialSampler\n"
   ]
  },
  {
   "cell_type": "markdown",
   "metadata": {},
   "source": [
    "### 4.1 Preliminaries"
   ]
  },
  {
   "attachments": {},
   "cell_type": "markdown",
   "metadata": {},
   "source": [
    "#### 4.1.1 Polynomial Rings"
   ]
  },
  {
   "attachments": {},
   "cell_type": "markdown",
   "metadata": {},
   "source": [
    "We are using the following polynomial rings (primarily $\\mathcal{R}_q$)\n",
    "\n",
    " $\\mathcal{R}=\\mathbb{Z}[X] /\\left(X^d+1\\right)$ \n",
    "\n",
    " $\\mathcal{R}_q=\\mathbb{Z}_q[X] /\\left(X^d+1\\right)$ \n",
    " \n",
    "with the parameters provided in the code below."
   ]
  },
  {
   "cell_type": "code",
   "execution_count": null,
   "metadata": {
    "vscode": {
     "languageId": "python"
    }
   },
   "outputs": [],
   "source": [
    "kappa = 128     # security parameter\n",
    "d = 128         # degree of polynomial ring\n",
    "q = 2**32 - 99  # modulus prime\n",
    "\n",
    "# Define polynomial rings using sage\n",
    "IR = sg.IntegerRing()\n",
    "P = sg.PolynomialRing(IR, 't')\n",
    "t = P.gen()\n",
    "R = sg.QuotientRing(P, t**d + 1, 'X')\n",
    "X = R.gen()\n",
    "\n",
    "IR_q = sg.IntegerModRing(q)\n",
    "P_q = sg.PolynomialRing(IR_q, 't')\n",
    "t_q = P_q.gen()\n",
    "R_q = sg.QuotientRing(P_q, t_q**d + 1, 'X')\n",
    "X_q = R_q.gen()\n",
    "\n",
    "print(f\"R: {R}\")\n",
    "print(f\"R_q: {R_q}\")\n",
    "print(f\"Example R_q polynomial demonstrating wraparound: {X_q**d - X_q}\")\n"
   ]
  },
  {
   "cell_type": "markdown",
   "metadata": {},
   "source": [
    "Remember, a ring element $a \\in \\mathcal{R}$ (resp. ${\\mathcal{R}_q}$ ) can be represented using $d$ integer coefficients:\n",
    "\n",
    "$$\n",
    "a = a_0 + a_1 X + a_2 X^2 + \\dots + a_{d-1} X^{d-1}\n",
    "$$\n",
    "\n",
    "We use a special modulo variant to convert polynomials to their coefficient vector representation and to define the norm of polynomial vectors: Define $r' = r \\;\\text{mod}^{\\pm}\\; q$ for odd integer $q$ to be the unique element in the range $−\\frac{q - 1}{2} < r' \\leq \\frac{q - 1}{2}$ such that $r' = r \\;\\text{mod}\\; q$. \n",
    "\n",
    "Here, we define some convenience functions for converting a Sage polynomial to its coefficient representation and back."
   ]
  },
  {
   "cell_type": "code",
   "execution_count": null,
   "metadata": {
    "vscode": {
     "languageId": "python"
    }
   },
   "outputs": [],
   "source": [
    "def Zq_2_ZZ(r):\n",
    "    \"\"\"\n",
    "    Return r_p = r mod+- q (for odd interger q)\n",
    "    as the unique element in range [-((q-1)/2), (q-1)/2] \n",
    "    such that r_p = r mod q \n",
    "    \"\"\"\n",
    "    if r <= (q-1)//2:\n",
    "        return int(r)\n",
    "    else:\n",
    "        return int(r) - q\n",
    "    \n",
    "\n",
    "def Rql_2_ZZl(vec):\n",
    "    \"\"\"Convert polynomial vector to coefficient vector\"\"\"\n",
    "    return sg.vector(sg.ZZ, chain.from_iterable([[Zq_2_ZZ(coeff) for coeff in poly.list()] for poly in vec]))\n",
    "\n",
    "\n",
    "def chunks(lst, n):\n",
    "    \"\"\"Yield successive n-sized chunks from lst.\"\"\"\n",
    "    for i in range(0, len(lst), n):\n",
    "        yield lst[i:i + n]\n",
    "\n",
    "\n",
    "def ZZl_2_Rql(vec):\n",
    "    \"\"\"Convert coefficient vector to polynomial vector\"\"\"\n",
    "    assert(len(vec) % d == 0)\n",
    "    return sg.vector(R_q, chunks(list(vec), d))\n",
    "\n",
    "\n",
    "def stack_vec_Rql(vecs):\n",
    "    \"\"\"Stack polynomial sage vectors\"\"\"\n",
    "    return sg.vector(R_q, chain(*vecs))\n",
    "\n",
    "\n",
    "def IM(n):\n",
    "    \"\"\"Identity matrix\"\"\"\n",
    "    return sg.identity_matrix(R_q, n)\n",
    "\n",
    "\n",
    "def zv(n):\n",
    "    \"\"\"Zero vector\"\"\"\n",
    "    return sg.zero_vector(R_q, n)\n",
    "\n",
    "\n",
    "def ZM(n, m):\n",
    "    \"\"\"Zero matrix\"\"\"\n",
    "    return sg.zero_matrix(R_q, n, m)\n"
   ]
  },
  {
   "attachments": {},
   "cell_type": "markdown",
   "metadata": {},
   "source": [
    "Next, we define the norms for polynomials and their vectors using our special modulo variant. This is the norm we mean when we say that secret $||\\mathbf{s}||$ needs to have small norm. This norm stays small when we compute $\\mathbf{z} \\leftarrow \\mathbf{y} + c \\mathbf{s}$, where $c$ is the challenge, $\\mathbf{s}$ the secret, and $\\mathbf{y}$ the randomness.\n",
    "\n",
    "Define the $\\ell_p$ norm of a polynomial vector $\\mathbf{w} \\in \\mathcal{R}^{\\ell}$ as:\n",
    "\n",
    "$$\n",
    "\\|\\mathbf{w}\\|_p =(\\left\\|w_1\\right\\|^p + \\ldots + \\left\\|w_{\\ell}\\right\\|^p)^{1/p}\n",
    "$$\n",
    "\n",
    "where the $\\ell_p$ norm of a polynomial $w = w_0 + w_1X + \\ldots + w_{d-1}X^{d-1} \\in \\mathcal{R}$ is defined as:\n",
    "\n",
    "$$\n",
    "\\|w\\|_p = (\\left\\|w_0\\right\\|_{\\infty}^p + \\ldots + \\left\\|w_{d-1}\\right\\|_{\\infty}^p)^{1/p}.\n",
    "$$\n",
    "\n",
    "where the infinity norm of an element $w \\in \\mathbb{Z}_q$ is defined as:\n",
    "\n",
    "$$\n",
    "\\left\\|w\\right\\|_{\\infty} = |w\\mathrm{~mod}^{\\pm}\\,q|.\n",
    "$$\n",
    "\n",
    "By default $\\|w\\| = \\|w\\|_2$.\n",
    "\n",
    "Define the infinity norm of a polynomial vector $\\mathbf{w} \\in \\mathcal{R}^{\\ell}$ as:\n",
    "\n",
    "$$\n",
    "\\|\\mathbf{w}\\|_{\\infty} = \\max_j\\left\\|w_j\\right\\|_{\\infty}\\quad\n",
    "$$\n",
    "\n",
    "where the infinity norm of a polynomial $w \\in \\mathcal{R}$ is defined as:\n",
    "\n",
    "$$\n",
    "\\left\\|w\\right\\|_{\\infty} = \\max_j\\left\\|w_j\\right\\|_{\\infty}.\n",
    "$$"
   ]
  },
  {
   "cell_type": "code",
   "execution_count": null,
   "metadata": {
    "vscode": {
     "languageId": "python"
    }
   },
   "outputs": [],
   "source": [
    "def inf_norm_Zq(x):\n",
    "    \"\"\"Compute the infitity norm of an integer mod q according to definition\"\"\"\n",
    "    if x <= (q-1)//2:\n",
    "        return int(x)\n",
    "    else:\n",
    "        return -(int(x) - q)\n",
    "\n",
    "\n",
    "def p_norm_Rl(vec, p):\n",
    "    \"\"\"Compute p-norm of polynomial vector in R^l according to definition\"\"\"\n",
    "    return sum([p_norm_R(poly, p) for poly in vec])**(1/p)\n",
    "\n",
    "\n",
    "def p_norm_R(poly, p):\n",
    "    \"\"\"Compute p-norm of a polynomial in R according to definition\"\"\"\n",
    "    return sum([int(coeff)**p for coeff in poly])**(1/p)\n",
    "\n",
    "\n",
    "def norm_Rl(vec):\n",
    "    \"\"\"Compute Euclidean norm of polynomial vector in R^l\"\"\"\n",
    "    return p_norm_Rl(vec, 2)\n",
    "\n",
    "\n",
    "def p_norm_Rq(poly, p):\n",
    "    \"\"\"Compute p-norm of a polynomial in R_q according to definition\"\"\"\n",
    "    return sum([inf_norm_Zq(coeff)**p for coeff in poly])**(1/p)\n",
    "\n",
    "\n",
    "def p_norm_Rql(vec, p):\n",
    "    \"\"\"Compute p-norm of polynomial vector in R_q^l according to definition\"\"\"\n",
    "    return sum([p_norm_Rq(poly, p)**p for poly in vec])**(1/p)\n",
    "\n",
    "\n",
    "def norm_Rql(vec):\n",
    "    \"\"\"Compute Euclidean norm of polynomial vector in R_q^l according to definition\"\"\"\n",
    "    return p_norm_Rql(vec, 2)\n",
    "\n",
    "\n",
    "def norm_Rql_bound(l, max_coeff):\n",
    "    \"\"\"\n",
    "    Compute upper bound of Euclidean norm of polynomial vector in R_q^l \n",
    "    with only inf_norm_Zq <= max_coeff coefficients\n",
    "    \"\"\"\n",
    "    return max_coeff * sg.sqrt(d * l)\n",
    "\n",
    "\n",
    "def inf_norm_Rl(vec):\n",
    "    \"\"\"Compute infinity norm of a polynomial vector in R^l\"\"\"\n",
    "    return max([max(poly) for poly in vec])\n",
    "\n",
    "\n",
    "def inf_norm_Rql(vec):\n",
    "    \"\"\"Compute infinity norm of a polynomial vector in R_q^l\"\"\"\n",
    "    return max([max([inf_norm_Zq(coeff) for coeff in poly]) for poly in vec])\n"
   ]
  },
  {
   "attachments": {},
   "cell_type": "markdown",
   "metadata": {},
   "source": [
    "Define the dot product $\\langle\\mathbf{u}, \\mathbf{v}\\rangle \\in \\mathbb{Z}$ for polynomial vectors $\\mathbf{u}, \\mathbf{v} \\in \\mathcal{R}_q^{\\ell}$ as:\n",
    "\n",
    "$$\n",
    "\\langle\\mathbf{u}, \\mathbf{v}\\rangle = \\sum_{i=1}^{\\ell} \\langle u_1,v_1 \\rangle + \\ldots + \\langle u_{\\ell},v_{\\ell} \\rangle\n",
    "$$\n",
    "\n",
    "where $u_i,v_i$ are the respective coefficient vectors of the polynomials."
   ]
  },
  {
   "cell_type": "code",
   "execution_count": null,
   "metadata": {
    "vscode": {
     "languageId": "python"
    }
   },
   "outputs": [],
   "source": [
    "def dot_Rql(v, w):\n",
    "    \"\"\"Compute dot product of polynomial vector in R_q^l according to definition\"\"\"\n",
    "    return Rql_2_ZZl(v).dot_product(Rql_2_ZZl(w))\n"
   ]
  },
  {
   "attachments": {},
   "cell_type": "markdown",
   "metadata": {},
   "source": [
    "#### 4.1.2 Random Distributions and Sampling"
   ]
  },
  {
   "attachments": {},
   "cell_type": "markdown",
   "metadata": {},
   "source": [
    "In this section we provide the code for sampling polynomials from random distributions. Note that our sampling methods are not secure and should not be used in practice. They are just placeholders to show the feasibility of the protocols.\n",
    "\n",
    "The Gaussian distribution on $\\mathcal{R}^{\\ell}$ centered around $\\mathbf{v} \\in \\mathcal{R}^{\\ell}$ with standard deviation $\\mathfrak{s} > 0$ is given by:\n",
    "\n",
    "$$\n",
    "D_{\\mathbf{v}, \\mathfrak{s}}^{\\ell}(\\mathbf{z})=\\frac{e^{-\\|\\mathbf{z}-\\mathbf{v}\\|^2 / 2 \\mathfrak{s}^2}}{\\sum_{\\mathbf{z}^{\\prime} \\in \\mathcal{R}^{\\ell}} e^{-\\left\\|\\mathbf{z}^{\\prime}\\right\\|^2 / 2 \\mathfrak{s}^2}}\n",
    "$$\n",
    "\n",
    "When it is centered around $\\mathbf{0} \\in \\mathcal{R}^{\\ell}$ we write $D_{\\mathfrak{s}}^{\\ell} = D_{\\mathbf{0}, \\mathfrak{s}}^{\\ell}$."
   ]
  },
  {
   "cell_type": "code",
   "execution_count": null,
   "metadata": {
    "vscode": {
     "languageId": "python"
    }
   },
   "outputs": [],
   "source": [
    "class GaussianSampler:\n",
    "    \"\"\"Sample from discrete gaussian distribution\"\"\"\n",
    "    def __init__(self, R, s, l):\n",
    "        self.R = R\n",
    "        self.D = DiscreteGaussianDistributionPolynomialSampler(self.R, n=d, sigma=s)\n",
    "        self.l = l\n",
    "\n",
    "    def get(self):\n",
    "        return sg.vector(self.R, [self.D() for _ in range(self.l)])\n"
   ]
  },
  {
   "cell_type": "markdown",
   "metadata": {},
   "source": [
    "The binomial distribution with a positive integer parameter $k$, written as ${\\text{Bin}}_k$ is the distribution \n",
    "\n",
    "$$\n",
    "\\sum_{i = 1}^{k}(a_i - b_i),\\quad \\text{where}\\; a_i, b_i \\gets \\{0, 1\\}.\n",
    "$$\n",
    "\n",
    "The variance of this distribution is $k/2$ and it holds that \n",
    "\n",
    "$$\n",
    "\\text{Bin}_{k_1} \\pm {\\text{Bin}}_{k_2} = \\text{Bin}_{k_1 \\pm k_2}.\n",
    "$$"
   ]
  },
  {
   "cell_type": "code",
   "execution_count": null,
   "metadata": {
    "vscode": {
     "languageId": "python"
    }
   },
   "outputs": [],
   "source": [
    "def rand_ZZ_mat_binomial(rows, cols, k):\n",
    "    \"\"\"Sample an integer matrix from a binomial distribution\"\"\"\n",
    "    return sg.matrix(sg.ZZ, np.random.binomial(k, 0.5, (rows, cols)))\n"
   ]
  },
  {
   "cell_type": "markdown",
   "metadata": {},
   "source": [
    "Here, we define some convenience functions for sampling uniformly random polynomial vectors and matrices."
   ]
  },
  {
   "cell_type": "code",
   "execution_count": null,
   "metadata": {
    "vscode": {
     "languageId": "python"
    }
   },
   "outputs": [],
   "source": [
    "def rand_Rql(l):\n",
    "    \"\"\"Sample uniformly random polynomial vector in R_q^l\"\"\"\n",
    "    return sg.vector(R_q, [R_q(random.choices(range(q), k=d)) for _ in range(l)])\n",
    "\n",
    "\n",
    "def rand_Rql_small(l, max_coeff):\n",
    "    \"\"\"Sample uniformly random polynomial vector in R_q^l with only inf_norm_Zq <= max_coeff coefficients\"\"\"\n",
    "    return sg.vector(R_q, [R_q(random.choices(range(-max_coeff, max_coeff + 1), k=d)) for _ in range(l)])\n",
    "\n",
    "\n",
    "def rand_Rql_bin(l):\n",
    "    \"\"\"Sample uniformly random binary polynomial vector in R_q^l\"\"\"\n",
    "    return sg.vector(R_q, [R_q(random.choices([0, 1], k=d)) for _ in range(l)])\n",
    "\n",
    "\n",
    "def rand_Rql_first_zero(l):\n",
    "    \"\"\"Sample uniformly random polynomial vector in R_q^l where first element (constant coefficient) is 0\"\"\"\n",
    "    return sg.vector(R_q, [R_q([0] + random.choices(range(q), k=d-1)) for _ in range(l)])\n",
    "\n",
    "\n",
    "def rand_Rq_mat(rows, cols):\n",
    "    \"\"\"Sample uniformly random polynomial matrix in R_q^{m x n} with only inf_norm_Zq <= 1 coefficients\"\"\"\n",
    "    return sg.matrix(R_q, [[R_q(random.choices(range(q), k=d)) for col in range(cols)] for row in range(rows)])\n",
    "\n",
    "\n",
    "def rand_Rq_mat_first_zero(rows, cols):\n",
    "    \"\"\"Sample uniformly random polynomial matrix in R_q^l where first element (constant coefficient) is 0\"\"\"\n",
    "    return sg.matrix(R_q, [[R_q([0] + random.choices(range(q), k=d-1)) for col in range(cols)] for row in range(rows)])\n",
    "\n",
    "\n",
    "def rand_Zq_mat(rows, cols):\n",
    "    \"\"\"Sample uniformly random matrix in Z_q^{m x n}\"\"\"\n",
    "    return sg.matrix(IR_q, [[IR_q(random.randrange(q)) for col in range(cols)] for row in range(rows)])\n"
   ]
  },
  {
   "attachments": {},
   "cell_type": "markdown",
   "metadata": {},
   "source": [
    "#### 4.1.3 Rejection Sampling"
   ]
  },
  {
   "cell_type": "markdown",
   "metadata": {},
   "source": [
    "As explained in the introduction, we need rejection sampling in our protocols, because of the smallness requirement of the norm in lattice cryptography. We sample the randomness $\\mathbf{y}$ from a Gaussian distribution. If we would just set $\\mathbf{z} = \\mathbf{y} + c \\mathbf{s}$ then $\\mathbf{z}$ would leak information about the secret $\\mathbf{s}$. Rejection sampling helps us to adjust the distribution of $\\mathbf{z}$, such that it does not leak information anymore. In this section, we assume that the challenge $c$ is small and therefore $\\mathbf{v} = c \\mathbf{s}$ is small. The variables $\\mathbf{z}$ and $\\mathbf{v}$ are passed to the rejection sampling algorithm as parameters. If the algorithm rejects a given $\\mathbf{z}$, the protocol has to be restarted from the beginning.\n"
   ]
  },
  {
   "attachments": {},
   "cell_type": "markdown",
   "metadata": {},
   "source": [
    "Repetition rate $M$ needs to be chosen to be an upper bound on\n",
    "\n",
    "$$\n",
    "\\frac{D_{\\mathfrak{s}}^{\\ell}(\\mathbf{z})}{D_{\\mathbf{v}, \\mathfrak{s}}^{\\ell}(\\mathbf{z})}=\\exp \\left(\\frac{-2\\langle\\mathbf{z}, \\mathbf{v}\\rangle+\\|\\mathbf{v}\\|^2}{2 \\mathfrak{s}^2}\\right) \\leqslant M.\n",
    "$$"
   ]
  },
  {
   "cell_type": "markdown",
   "metadata": {},
   "source": [
    "Repetition rate $M$ needs to be chosen to be an upper bound on\n",
    "\n",
    "$$\n",
    "\\frac{D_{\\mathfrak{s}}^{\\ell}(\\mathbf{z})}{D_{\\mathbf{v}, \\mathfrak{s}}^{\\ell}(\\mathbf{z})}=\\exp \\left(\\frac{-2\\langle\\mathbf{z}, \\mathbf{v}\\rangle+\\|\\mathbf{v}\\|^2}{2 \\mathfrak{s}^2}\\right) \\leqslant \\exp \\left(\\frac{28 \\mathfrak{s}\\|\\mathbf{v}\\|+\\|\\mathbf{v}\\|^2}{2 \\mathfrak{s}^2}\\right)=M.\n",
    "$$\n",
    "\n",
    "We used the fact that with probability at least $1 - 2^{128}$, we have $|\\langle\\mathbf{z}, \\mathbf{v}\\rangle|<14 \\,\\mathfrak{s}\\, \\|\\mathbf{v}\\|$ for $\\mathbf{z} \\leftarrow D_{\\mathfrak{s}}^{\\ell}$."
   ]
  },
  {
   "attachments": {},
   "cell_type": "markdown",
   "metadata": {},
   "source": [
    "##### Rej1 Algorithm "
   ]
  },
  {
   "cell_type": "markdown",
   "metadata": {},
   "source": [
    "This is the standard rejection algorithm proposed by [[Lyu12]](https://link.springer.com/chapter/10.1007/978-3-642-29011-4_43).\n",
    "\n",
    "$$\n",
    "\\frac{D_{\\mathfrak{s}}^{\\ell}(\\mathbf{z})}{D_{\\mathbf{v}, \\mathfrak{s}}^{\\ell}(\\mathbf{z})}=\\exp \\left(\\frac{-2\\langle\\mathbf{z}, \\mathbf{v}\\rangle+\\|\\mathbf{v}\\|^2}{2 \\mathfrak{s}^2}\\right) \\leqslant \\exp \\left(\\frac{28 \\mathfrak{s}\\|\\mathbf{v}\\|+\\|\\mathbf{v}\\|^2}{2 \\mathfrak{s}^2}\\right)=M.\n",
    "$$\n",
    "\n",
    "Here, we used the fact that with probability at least $1 - 2^{128}$, we have $|\\langle\\mathbf{z}, \\mathbf{v}\\rangle|<14 \\,\\mathfrak{s}\\, \\|\\mathbf{v}\\|$ for $\\mathbf{z} \\leftarrow D_{\\mathfrak{s}}^{\\ell}$."
   ]
  },
  {
   "cell_type": "code",
   "execution_count": null,
   "metadata": {
    "vscode": {
     "languageId": "python"
    }
   },
   "outputs": [],
   "source": [
    "def rej1_M(gamma):\n",
    "    return sg.exp(sg.sqrt(2*(kappa + 1) / sg.log(sg.e, 2)) * (1 / gamma) + (1 / (2 * gamma**2)))\n",
    "\n",
    "\n",
    "def rej1(z, v, std, M):\n",
    "    \"\"\"Rej1 rejection sampling algorithm\"\"\"\n",
    "    v_norm = norm_Rql(v)\n",
    "    expr = (1/M) * sg.exp(((-2)*dot_Rql(z, v) + (v_norm**2)) / (2*(std**2)))\n",
    "    u = random.random()\n",
    "    return u > expr\n"
   ]
  },
  {
   "cell_type": "markdown",
   "metadata": {},
   "source": [
    "##### Test Rej1"
   ]
  },
  {
   "cell_type": "markdown",
   "metadata": {},
   "source": [
    "Here, we test the correctness of the Rej1 rejection sampling code. We expect a repetition rate $M \\approx 3$ when we set $\\mathfrak{s}=13\\|\\mathbf{v}\\|$."
   ]
  },
  {
   "cell_type": "code",
   "execution_count": null,
   "metadata": {
    "vscode": {
     "languageId": "python"
    }
   },
   "outputs": [],
   "source": [
    "def rej1_M_test(std, v_norm):\n",
    "    \"\"\"Compute repetition rate M for Rej1 algorithm\"\"\"\n",
    "    return sg.exp((28*std*v_norm + v_norm**2) / (2*(std**2)))\n",
    "\n",
    "\n",
    "def test_rej1(num_tests):\n",
    "    ell = 8  # polynomial ring vector dimension\n",
    "\n",
    "    # Generate dummy v (in the full protocol v is obtained by multiplying the challenge c with the secret s)\n",
    "    v = rand_Rql(ell)\n",
    "    v_norm = norm_Rql(v)\n",
    "    print(f\"v_norm = {float(v_norm)}\")\n",
    "\n",
    "    gamma = 13\n",
    "    std = gamma * v_norm  # standard deviation\n",
    "    print(f\"std = {float(std)}\")\n",
    "    M = rej1_M_test(std, v_norm)  # repetition rate\n",
    "    print(f\"M = {float(M)}\")\n",
    "\n",
    "    smplr = GaussianSampler(R, std, ell)\n",
    "\n",
    "    rejections = 0\n",
    "    for _ in range(num_tests):\n",
    "        y = smplr.get()\n",
    "        z = y + v\n",
    "\n",
    "        if rej1(z, v, std, M):\n",
    "            rejections += 1\n",
    "\n",
    "    if rejections == num_tests:\n",
    "        print(\"All rejected\")\n",
    "    else:\n",
    "        success_prob = 1 - (rejections / num_tests)\n",
    "        print(f\"Expected success prob: {float((1 - 2**-128) / M)}\")\n",
    "        print(f\"Success prob: {float(success_prob)}\")\n",
    "        avg_reps = 1 / success_prob\n",
    "        print(f\"Avg repetitions: {float(avg_reps)}\")"
   ]
  },
  {
   "cell_type": "code",
   "execution_count": null,
   "metadata": {
    "vscode": {
     "languageId": "python"
    }
   },
   "outputs": [],
   "source": [
    "#test_rej1(500)"
   ]
  },
  {
   "attachments": {},
   "cell_type": "markdown",
   "metadata": {},
   "source": [
    "##### Rej2 Algorithm"
   ]
  },
  {
   "attachments": {},
   "cell_type": "markdown",
   "metadata": {},
   "source": [
    "This modified rejection sampling algorithm proposed by [[LNS21a]](https://link.springer.com/chapter/10.1007/978-3-030-75245-3_9) manages to reduce the standard deviation by more than a factor of 10, which gives us shorter proofs. However, the expected number of rejections is at most $2M$ and the sign of $\\langle\\mathbf{z}, \\mathbf{v}\\rangle$ is leaked, which makes this only useable for one-time use commitments.\n",
    "\n",
    "With assumption $\\langle\\mathbf{z}, \\mathbf{v}\\rangle \\geqslant 0$ we can set $M$ by: \n",
    "\n",
    "$$\n",
    "\\frac{D_{\\mathfrak{s}}^{\\ell}(\\mathbf{z})}{D_{\\mathbf{v}, \\mathfrak{s}}^{\\ell}(\\mathbf{z})}=\\exp \\left(\\frac{-2\\langle\\mathbf{z}, \\mathbf{v}\\rangle+\\|\\mathbf{v}\\|^2}{2 \\mathfrak{s}^2}\\right) \\leqslant \\exp \\left(\\frac{\\|\\mathbf{v}\\|^2}{2 \\mathfrak{s}^2}\\right)=M\n",
    "$$"
   ]
  },
  {
   "cell_type": "code",
   "execution_count": null,
   "metadata": {
    "vscode": {
     "languageId": "python"
    }
   },
   "outputs": [],
   "source": [
    "def rej2_M(gamma):\n",
    "    return sg.exp((1 / (2 * gamma**2)))\n",
    "\n",
    "\n",
    "def rej2(z, v, std, M):\n",
    "    \"\"\"Rej2 rejection sampling algorithm\"\"\"\n",
    "    if dot_Rql(z, v) < 0:\n",
    "        return True\n",
    "    \n",
    "    v_norm = norm_Rql(v)\n",
    "    expr = (1/M) * sg.exp(((-2)*dot_Rql(z, v) + (v_norm**2)) / (2*(std**2)))\n",
    "    u = random.random()\n",
    "    return u > expr\n"
   ]
  },
  {
   "cell_type": "markdown",
   "metadata": {},
   "source": [
    "##### Test Rej2"
   ]
  },
  {
   "cell_type": "markdown",
   "metadata": {},
   "source": [
    "Here, we test the correctness of the Rej2 rejection sampling code. We expect a repetition rate $M \\approx 3$ when we set $\\mathfrak{s}=0.675\\|\\mathbf{v}\\|$."
   ]
  },
  {
   "cell_type": "code",
   "execution_count": null,
   "metadata": {
    "vscode": {
     "languageId": "python"
    }
   },
   "outputs": [],
   "source": [
    "def rej2_M_test(std, v_norm):\n",
    "    \"\"\"Compute repetition rate M for Rej2 algorithm\"\"\"\n",
    "    return sg.exp((v_norm**2) / (2*(std**2)))\n",
    "\n",
    "def test_rej2(num_tests):\n",
    "    ell = 8  # polynomial ring vector dimension\n",
    "\n",
    "    # Generate dummy v (in the full protocol v is obtained by multiplying the challenge c with the secret s)\n",
    "    v = rand_Rql(ell)\n",
    "    v_norm = norm_Rql(v)\n",
    "    print(f\"v_norm = {float(v_norm)}\")\n",
    "\n",
    "    gamma = 0.675\n",
    "    std = gamma * v_norm  # standard deviation\n",
    "    print(f\"std = {float(std)}\")\n",
    "    M = rej2_M_test(std, v_norm)  # repetition rate\n",
    "    print(f\"M = {float(M)}\")\n",
    "\n",
    "    smplr = GaussianSampler(R, std, ell)\n",
    "\n",
    "    rejections = 0\n",
    "    for _ in range(num_tests):\n",
    "        y = smplr.get()\n",
    "        z = y + v\n",
    "\n",
    "        if rej2(z, v, std, M):\n",
    "            rejections += 1\n",
    "\n",
    "    if rejections == num_tests:\n",
    "        print(\"All rejected\")\n",
    "    else:\n",
    "        success_prob = 1 - (rejections / num_tests)\n",
    "        print(f\"Expected success prob: {float(1/(2*M))}\")\n",
    "        print(f\"Success prob: {float(success_prob)}\")\n",
    "        avg_reps = 1 / success_prob\n",
    "        print(f\"Avg repetitions: {float(avg_reps)}\")"
   ]
  },
  {
   "cell_type": "code",
   "execution_count": null,
   "metadata": {
    "vscode": {
     "languageId": "python"
    }
   },
   "outputs": [],
   "source": [
    "#test_rej2(500)"
   ]
  },
  {
   "attachments": {},
   "cell_type": "markdown",
   "metadata": {},
   "source": [
    "##### Bimodal Rejection Sampling Algorithm"
   ]
  },
  {
   "attachments": {},
   "cell_type": "markdown",
   "metadata": {},
   "source": [
    "Bimodal rejection sampling as in [[DDLL13]](https://eprint.iacr.org/2013/383.pdf) significantly reduces the needed standard deviation. However, this requires us to additionally commit to a sign $\\beta \\in \\{-1, 1\\}$, for which we also need to construct a proof that it is in the specified range.\n",
    "\n",
    "Similarly to Rej2, we can reduce the standard deviation in the following way:\n",
    "\n",
    "$$\n",
    "\\frac{D_{\\mathfrak{s}}^{\\ell}(\\mathbf{z})}{\\frac{1}{2} D_{\\mathbf{v}, \\mathfrak{s}}^{\\ell}(\\mathbf{z}) + \\frac{1}{2} D_{-\\mathbf{v}, \\mathfrak{s}}^{\\ell}(\\mathbf{z})}=\\exp \\left(\\frac{\\|\\mathbf{v}\\|^2}{2 \\mathfrak{s}^2}\\right) / \\cosh \\left(\\frac{\\langle\\mathbf{z}, \\mathbf{v}\\rangle}{\\mathfrak{s}^2}\\right) \\leqslant \\exp \\left(\\frac{\\|\\mathbf{v}\\|^2}{2 \\mathfrak{s}^2}\\right) = M\n",
    "$$"
   ]
  },
  {
   "cell_type": "code",
   "execution_count": null,
   "metadata": {
    "vscode": {
     "languageId": "python"
    }
   },
   "outputs": [],
   "source": [
    "def rej_bimodal_M(gamma):\n",
    "    return sg.exp((1 / (2 * gamma**2)))\n",
    "\n",
    "\n",
    "def rej_bimodal(z, v, std, M):\n",
    "    \"\"\"Bimodal rejection sampling algorithm\"\"\"\n",
    "    v_norm = norm_Rql(v)\n",
    "    expr = 1 / (M * sg.exp(-(v_norm**2) / (2*(std**2))) * sg.cosh(dot_Rql(z, v) / (std**2)))\n",
    "    u = random.random()\n",
    "    return u > expr\n"
   ]
  },
  {
   "cell_type": "markdown",
   "metadata": {},
   "source": [
    "##### Test Bimodal Rejection Sampling"
   ]
  },
  {
   "cell_type": "markdown",
   "metadata": {},
   "source": [
    "Here, we test the correctness of the bimodal rejection sampling code. We expect a repetition rate $M \\approx 3$ when we set $\\mathfrak{s}=0.675\\|\\mathbf{v}\\|$."
   ]
  },
  {
   "cell_type": "code",
   "execution_count": null,
   "metadata": {
    "vscode": {
     "languageId": "python"
    }
   },
   "outputs": [],
   "source": [
    "def rej_bimodal_M_test(std, v_norm):\n",
    "    \"\"\"Compute repetition rate M for bimodal rejection sampling algorithm\"\"\"\n",
    "    return sg.exp((v_norm**2) / (2*(std**2)))\n",
    "\n",
    "def test_rej_bimodal(num_tests):\n",
    "    ell = 8  # polynomial ring vector dimension\n",
    "\n",
    "    # Generate dummy v (in the full protocol v is obtained by multiplying the challenge c with the secret s)\n",
    "    v = rand_Rql(ell)\n",
    "    v_norm = norm_Rql(v)\n",
    "    print(f\"v_norm = {float(v_norm)}\")\n",
    "\n",
    "    gamma = 0.675\n",
    "    std = gamma * v_norm  # standard deviation\n",
    "    print(f\"std = {float(std)}\")\n",
    "    M = rej_bimodal_M_test(std, v_norm)  # repetition rate\n",
    "    print(f\"M = {float(M)}\")\n",
    "\n",
    "    smplr = GaussianSampler(R, std, ell)\n",
    "\n",
    "    rejections = 0\n",
    "    for _ in range(num_tests):\n",
    "        beta = random.choice([0, 1])\n",
    "        y = smplr.get()\n",
    "        z = y + (-1)**beta * v\n",
    "\n",
    "        if rej_bimodal(z, v, std, M):\n",
    "            rejections += 1\n",
    "\n",
    "    if rejections == num_tests:\n",
    "        print(\"All rejected\")\n",
    "    else:\n",
    "        success_prob = 1 - (rejections / num_tests)\n",
    "        print(f\"Expected success prob: {float(1/(M))}\")\n",
    "        print(f\"Success prob: {float(success_prob)}\")\n",
    "        avg_reps = 1 / success_prob\n",
    "        print(f\"Avg repetitions: {float(avg_reps)}\")"
   ]
  },
  {
   "cell_type": "code",
   "execution_count": null,
   "metadata": {
    "vscode": {
     "languageId": "python"
    }
   },
   "outputs": [],
   "source": [
    "#test_rej_bimodal(500)"
   ]
  },
  {
   "cell_type": "markdown",
   "metadata": {},
   "source": [
    "#### 4.1.4 Challenge Space"
   ]
  },
  {
   "attachments": {},
   "cell_type": "markdown",
   "metadata": {},
   "source": [
    "The challenge space $\\mathcal{C}$ from which we sample the challenge polynomials in our protocols is defined as:\n",
    "\n",
    "$$\n",
    "\\mathcal{C} := \\{ c \\in S_{\\omega}^{\\sigma} : \\sqrt{\\left\\|\\sigma_{-1}\\left(c\\right)c\\right\\|_1}\\leqslant\\eta \\}\n",
    "$$\n",
    "\n",
    "where $\\eta$ is a smallness bound and $\\sigma \\in \\{\\sigma_{1}, \\sigma_{-1} \\}$ is an automorphism of the polynomial ring $\\mathcal{R}_q$ defined as $\\sigma_i (X) := X^i$.\n",
    "\n",
    "For example, assume we have a polynomial\n",
    "\n",
    "$$\n",
    "a = a_0 + a_1 X + a_2 X^2 + ... + a_{d-1} X^{d-1}\n",
    "$$\n",
    "\n",
    "Automorphism $\\sigma_{-1}$ changes the polynomial to\n",
    " \n",
    "$$\n",
    "\\sigma_{-1}(a) = a_0 + a_1 X^{-1} + a_2 X^{-2} + ... + a_{d-1} X^{-(d-1)}\n",
    "$$\n",
    "\n",
    "$$\n",
    "= a_0 - a_{d-1} X - a_{d-2} X^2 - ... - a_1 X^{d-1}.\n",
    "$$\n",
    "\n",
    "Automorphism $\\sigma_{1}$ does not change the polynomial.\n",
    "\n",
    "Define the set $S_{\\omega}^{\\sigma}$ as a subset of $S_{\\omega}$, stable under the automorphism $\\sigma$:\n",
    "\n",
    "$$\n",
    "S_{\\omega}^{\\sigma} := \\{c \\in S_{\\omega} : \\sigma(c) = c \\}\n",
    "$$\n",
    "\n",
    "where the set $S_{\\omega}$ is a subset of the ring $\\mathcal{R}_q$ consisting of polynomials with small coefficients:\n",
    "\n",
    "$$\n",
    "S_{\\omega} := \\{ x \\in \\mathcal{R}_q : \\|x\\|_{\\infty} \\leqslant \\omega \\}.\n",
    "$$\n",
    "\n",
    "For example with $\\omega = 1$ only $\\{-1, 0, 1\\}$ coefficients are allowed, with $\\omega = 2$ only $\\{-2, -1, 0, 1, 2\\}$. Note that small negative integers modulo $q$ become large, but because of the way we defined the infinity norm, this results in small norm polynomials.\n"
   ]
  },
  {
   "cell_type": "code",
   "execution_count": null,
   "metadata": {
    "vscode": {
     "languageId": "python"
    }
   },
   "outputs": [],
   "source": [
    "def sigma_n1(poly):\n",
    "    \"\"\"Apply sigma_(-1) automorphism to a polynomial\"\"\"\n",
    "    return R_q([poly[0]] + [-coeff for coeff in reversed(list(poly)[1:])])\n",
    "\n",
    "def sigma_n1_vec(vec):\n",
    "    \"\"\"Apply sigma_(-1) automorphism to a vector of polynomials\"\"\"\n",
    "    return sg.vector(R_q, [sigma_n1(poly) for poly in vec])\n",
    "\n",
    "def sigma_n1_mat(mat):\n",
    "    \"\"\"Apply sigma_(-1) automorphism to a matrix of polynomials\"\"\"\n",
    "    return sg.matrix(R_q, [[sigma_n1(poly) for poly in vec] for vec in mat])\n"
   ]
  },
  {
   "cell_type": "markdown",
   "metadata": {},
   "source": [
    "For various applications, we will need to prove relations between the images of polynomial vectors under an automorphism $\\sigma \\in \\text{Aut}(\\mathcal{R})$. For this, we define the structure:\n",
    "\n",
    "$$\n",
    "\\langle x \\rangle_{\\sigma} := (x, \\sigma (x), ..., \\sigma^{k - 1} (x)) \\in \\mathcal{R}_q^k \\quad \\text{for}\\; x \\in \\mathcal{R}_q,\n",
    "$$\n",
    "\n",
    "where $k$ is the degree of the automorphism ( $ k_{\\sigma_1} = 1,\\; k_{\\sigma_{-1}} = 2 $ ). Note that $\\langle x \\rangle_{\\sigma_1} = x$, therefore this is only relevant if we use $\\sigma_{-1}$.\n",
    "\n",
    "Similarly for a vector $\\mathbf{x} = (x_1, ..., x_n)$ we define:\n",
    "\n",
    "$$\n",
    "\\langle \\mathbf{x} \\rangle_{\\sigma} := (\\langle x_1 \\rangle_{\\sigma}, ..., \\langle x_n \\rangle_{\\sigma}) \\in \\mathcal{R}_q^{kn}.\n",
    "$$\n",
    "\n",
    "For any $\\mathbf{x}, \\mathbf{y} \\in \\mathcal{R}_q^n$ and any $c \\in \\mathcal{R}_q$ such that $\\sigma (c) = c$ it holds that:\n",
    "\n",
    "$$\n",
    "\\langle \\mathbf{x} || \\mathbf{y} \\rangle_{\\sigma} = \\langle \\mathbf{x} \\rangle_{\\sigma} || \\langle \\mathbf{y} \\rangle_{\\sigma} \\quad \\text{and} \\quad \\langle \\mathbf{x} + c \\mathbf{y} \\rangle_{\\sigma} = \\langle \\mathbf{x} \\rangle_{\\sigma} + c \\langle \\mathbf{y} \\rangle_{\\sigma}\n",
    "$$"
   ]
  },
  {
   "cell_type": "code",
   "execution_count": null,
   "metadata": {
    "vscode": {
     "languageId": "python"
    }
   },
   "outputs": [],
   "source": [
    "k_sigma_1 = 1\n",
    "k_sigma_n1 = 2\n",
    "\n",
    "def sigma_n1_struct_poly(poly):\n",
    "    \"\"\"Create the <x>_(sigma_(-1)) structure for a polynomial\"\"\"\n",
    "    return sg.vector(R_q, [poly, sigma_n1(poly)])\n",
    "\n",
    "def sigma_n1_struct_vec(vec):\n",
    "    \"\"\"Create the <x>_(sigma_(-1)) structure for a vector (doubles vector size)\"\"\"\n",
    "    return sg.vector(R_q, [f(poly) for poly in vec for f in (lambda x: x, sigma_n1)])\n"
   ]
  },
  {
   "attachments": {},
   "cell_type": "markdown",
   "metadata": {},
   "source": [
    "##### Challenge Variant 1"
   ]
  },
  {
   "cell_type": "markdown",
   "metadata": {},
   "source": [
    "Challenge variant 1 uses the automorphism $\\sigma = \\sigma_{1}$, which is an identity function.\n",
    "\n",
    "Example parameters for a reasonably sized challenge space are\n",
    "\n",
    "$$ \n",
    "\\omega = 1,\\, \\eta = 27,\\, |S_{\\omega}^{\\sigma}| = 2^{202},\\, |C| = 2^{201}.\n",
    "$$\n"
   ]
  },
  {
   "cell_type": "code",
   "execution_count": null,
   "metadata": {
    "vscode": {
     "languageId": "python"
    }
   },
   "outputs": [],
   "source": [
    "eta_challenge_v1 = 27  # smallness bound\n",
    "\n",
    "def rand_c_v1():\n",
    "    \"\"\"\n",
    "    Generate random challenge polynomial in R_q^l \n",
    "    with only inf_norm_Zq <= 1 coefficients\n",
    "    \"\"\"\n",
    "    return R_q(random.choices([-1, 0, 1], k=d))\n",
    "\n",
    "\n",
    "def check_c_v1(c):\n",
    "    \"\"\"Return true if challenge polynomial fits the criteria\"\"\"\n",
    "    k = 32\n",
    "    c_pow_k = c**k\n",
    "    norm = p_norm_Rq(sigma_n1(c_pow_k) * c_pow_k, 1)\n",
    "    return bool(norm**(1 / (2 * k)) <= eta_challenge_v1)\n",
    "\n",
    "\n",
    "def get_challenge_v1():\n",
    "    c = rand_c_v1()\n",
    "    while not check_c_v1(c):\n",
    "        c = rand_c_v1()\n",
    "    return c\n"
   ]
  },
  {
   "cell_type": "code",
   "execution_count": null,
   "metadata": {
    "vscode": {
     "languageId": "python"
    }
   },
   "outputs": [],
   "source": [
    "def test_small_norm_lemma(get_challenge_func):\n",
    "    \"\"\"\n",
    "    Test if norm does not increase by more than fixed factor \n",
    "    after multiplying a challenge polynomial to a random vector in Rq^l\n",
    "    \"\"\"\n",
    "    test_c = get_challenge_func()\n",
    "    test_r = rand_Rql(8)\n",
    "    norm_r = norm_Rql(test_r)\n",
    "    print(f\"r norm: {float(norm_r)}\")\n",
    "    res = test_c * test_r\n",
    "    norm_res = norm_Rql(res)\n",
    "    print(f\"result norm: {float(norm_res)}\")\n",
    "    norm_increase = norm_res / norm_r\n",
    "    print(f\"norm increase: {float(norm_increase)}\")\n",
    "    k = 32\n",
    "    norm_bound = p_norm_Rq(sigma_n1(test_c**k) * test_c**k, 1)**(1/(2*k))\n",
    "    print(f\"norm bound: {float(norm_bound)}\")\n",
    "    assert(norm_increase < norm_bound)\n"
   ]
  },
  {
   "cell_type": "code",
   "execution_count": null,
   "metadata": {
    "vscode": {
     "languageId": "python"
    }
   },
   "outputs": [],
   "source": [
    "#test_small_norm_lemma(get_challenge_v1)"
   ]
  },
  {
   "cell_type": "markdown",
   "metadata": {},
   "source": [
    "##### Challenge Variant 2"
   ]
  },
  {
   "attachments": {},
   "cell_type": "markdown",
   "metadata": {},
   "source": [
    "Challenge variant 2 uses automorphism $\\sigma = \\sigma_{-1}$.\n",
    "\n",
    "Example parameters for reasonably sized challenge space are\n",
    "\n",
    "$$\n",
    "\\omega = 2,\\, \\eta = 59,\\, |S_{\\omega}^{\\sigma}| = 2^{148},\\, |C| = 2^{147}.\n",
    "$$\n"
   ]
  },
  {
   "cell_type": "code",
   "execution_count": null,
   "metadata": {
    "vscode": {
     "languageId": "python"
    }
   },
   "outputs": [],
   "source": [
    "eta_challenge_v2 = 59  # smallness bound\n",
    "\n",
    "def rand_c_v2():\n",
    "    \"\"\"\n",
    "    Generate random challenge polynomial in R_q^l\n",
    "    with only inf_norm_Zq <= 2 coefficients.\n",
    "    In order to satisfy sigma_n1(c) == c it must have symmetric coefficients\n",
    "    \"\"\"\n",
    "    first_half = random.choices([-2, -1, 0, 1, 2], k=d//2)\n",
    "    second_half = [-coeff for coeff in first_half[1:]]\n",
    "    second_half.reverse()\n",
    "    second_half = [0] + second_half\n",
    "    return R_q(first_half + second_half)\n",
    "\n",
    "\n",
    "def check_c_v2(c):\n",
    "    \"\"\"Return true if challenge polynomial fits the criteria\"\"\"\n",
    "    k = 32\n",
    "    c_pow_k = c**k\n",
    "    norm = p_norm_Rq(sigma_n1(c_pow_k) * c_pow_k, 1)\n",
    "    return bool(norm**(1 / (2 * k)) <= eta_challenge_v2)\n",
    "\n",
    "\n",
    "def get_challenge_v2():\n",
    "    c = rand_c_v2()\n",
    "    while not check_c_v2(c):\n",
    "        c = rand_c_v2()\n",
    "    return c\n"
   ]
  },
  {
   "cell_type": "code",
   "execution_count": null,
   "metadata": {
    "vscode": {
     "languageId": "python"
    }
   },
   "outputs": [],
   "source": [
    "#test_small_norm_lemma(get_challenge_v2)"
   ]
  },
  {
   "attachments": {},
   "cell_type": "markdown",
   "metadata": {},
   "source": [
    "### 4.2 ABDLOP Commitment Opening Proof with Linear Proofs over Rq"
   ]
  },
  {
   "attachments": {},
   "cell_type": "markdown",
   "metadata": {},
   "source": [
    "Here, we provide a protocol that gives an opening proof for the ABDLOP commitment scheme and proves a linear relation over $\\mathcal{R}_q$."
   ]
  },
  {
   "attachments": {},
   "cell_type": "markdown",
   "metadata": {},
   "source": [
    "Private information:\n",
    "\n",
    "$$\n",
    "\\mathbf{s}_{1} \\in \\mathcal{R}_{q}^{m_1},\\, \\mathbf{m} \\in \\mathcal{R}_{q}^{\\ell},\\, \\mathbf{s}_{2} \\in \\mathcal{R}_{q}^{m_2}\n",
    "$$\n",
    "\n",
    "Public information:\n",
    "\n",
    "$$\n",
    "\\mathbf{A}_{1} \\in {\\mathcal{R}}_{q}^{n \\times m_{1}},\\, \\mathbf{A}_{2} \\in {\\mathcal{R}}_{q}^{n \\times m_{2}},\\, \\mathbf{B} \\in {\\mathcal{R}}_{q}^{n \\times m_{2}},\\, \\mathbf{R}_{1} \\in {\\mathcal{R}}_{q}^{N \\times (m_{1} + \\ell)},\\, \\mathbf{r}_0 \\in \\mathcal{R}_{q}^{N}\n",
    "$$\n",
    "\n",
    "$$\n",
    "{\\Bigg[}{\\begin{array}{l}{\\mathbf{t}_{A}} \\\\ {\\mathbf{t}_{B}}\\end{array}}{\\Bigg]} = {\\Bigg[}{\\begin{array}{l}{\\mathbf{A}_{1}} \\\\ {\\mathbf{0}}\\end{array}}{\\Bigg]} \\cdot \\mathbf{s}_{1} + {\\Bigg[}{\\begin{array}{l}{\\mathbf{A}_{2}} \\\\ {\\mathbf{B}}\\end{array}}{\\Bigg]} \\cdot \\mathbf{s}_{2} + {\\Bigg[}{\\begin{array}{l}{\\mathbf{0}} \\\\ {\\mathbf{m}}\\end{array}}{\\Bigg]}\n",
    "$$\n",
    "\n",
    "Prove knowledge of $\\mathbf{s}_1$, $\\mathbf{m}$ and prove linear relations over $\\mathcal{R}_q$:\n",
    "\n",
    "$$\n",
    "\\mathbf{R}_{1} {\\begin{bmatrix}{\\mathbf{s_1}} \\\\ {\\mathbf{m}}\\end{bmatrix}} + \\mathbf{r}_0 = 0\n",
    "$$\n"
   ]
  },
  {
   "cell_type": "code",
   "execution_count": null,
   "metadata": {
    "vscode": {
     "languageId": "python"
    }
   },
   "outputs": [],
   "source": [
    "def abdlop_commit(m1, m2, ell, n, N,\n",
    "                  rej_u_1, rej_u_2, get_challenge_u,\n",
    "                  std1, rep_M1, std2, rep_M2,\n",
    "                  s1, s2, m, A1, A2, B, tA, tB,\n",
    "                  R1, r0):\n",
    "    \"\"\"\n",
    "    ABDLOP opening proof with linear proofs over Rq\n",
    "    \"\"\"\n",
    "    \n",
    "    #================================ Prover =================================\n",
    "    y1_smplr = GaussianSampler(R_q, std1, m1)\n",
    "    y1 = y1_smplr.get()\n",
    "    y2_smplr = GaussianSampler(R_q, std2, m2)\n",
    "    y2 = y2_smplr.get()\n",
    "\n",
    "    w = A1 * y1 + A2 * y2\n",
    "    v = R1 * stack_vec_Rql([y1, -B * y2])\n",
    "\n",
    "    #=============================== Verifier ================================\n",
    "    c = get_challenge_u()\n",
    "\n",
    "    #================================ Prover =================================\n",
    "    cs1 = c * s1\n",
    "    z1 = cs1 + y1\n",
    "    if rej_u_1(z1, cs1, std1, rep_M1):\n",
    "        return \"Rejected\"\n",
    "\n",
    "    cs2 = c * s2\n",
    "    z2 = cs2 + y2\n",
    "    if rej_u_2(z2, cs2, std2, rep_M2):\n",
    "        return \"Rejected\"\n",
    "\n",
    "    #=============================== Verifier ================================\n",
    "    cond1 = (norm_Rql(z1) <= std1 * sg.sqrt(2 * m1 * d)) and (norm_Rql(z2) <= std2 * sg.sqrt(2 * m2 * d))\n",
    "    cond2 = (A1 * z1 + A2 * z2 - c * tA == w)\n",
    "    cond3 = (R1 * stack_vec_Rql([z1, c * tB - B * z2]) + c * r0 == v)\n",
    "    \n",
    "    return cond1 and cond2 and cond3\n"
   ]
  },
  {
   "cell_type": "markdown",
   "metadata": {},
   "source": [
    "#### Test ABDLOP Commitment Opening Proof with Linear Relations over Rq"
   ]
  },
  {
   "cell_type": "markdown",
   "metadata": {},
   "source": [
    "Here, we provide example parameters to test the ABDLOP commitment opening proof with linear relations over $\\mathcal{R}_q$."
   ]
  },
  {
   "cell_type": "code",
   "execution_count": null,
   "metadata": {
    "vscode": {
     "languageId": "python"
    }
   },
   "outputs": [],
   "source": [
    "def test_abdlop_commit():\n",
    "    \"\"\"Call abdlop_commit with example parameters\"\"\"\n",
    "\n",
    "    # Size parameters\n",
    "    m1 = 8   # size of s1\n",
    "    m2 = 25  # size of s2\n",
    "    ell = 2  # size of m\n",
    "    n = 9    # dimension of the Module-SIS problem\n",
    "    N = 1    # number of linear functions to prove\n",
    "\n",
    "    # Algorithm parameters\n",
    "    is_sigma_1 = False  # automorphism: True for sigma_1, False for sigma_n1\n",
    "    if is_sigma_1:\n",
    "        eta = eta_challenge_v1              # challenge norm upper bound\n",
    "        get_challenge_u = get_challenge_v1  # challenge sampling algorithm\n",
    "    else:\n",
    "        eta = eta_challenge_v2\n",
    "        get_challenge_u = get_challenge_v2\n",
    "\n",
    "    rej_u_1 = rej1  # rejection sampling algorithm\n",
    "    rej_u_2 = rej2\n",
    "    \n",
    "    gamma1 = 19  # repetition rate parameter\n",
    "    nu_s1 = 1    # s1 max coefficient\n",
    "    alpha_s1 = norm_Rql_bound(m1, nu_s1)  # s1 norm upper bound\n",
    "    std1 = gamma1 * eta * alpha_s1  # standard deviation\n",
    "    rep_M1 = rej1_M(gamma1)  # repetition rate\n",
    "\n",
    "    gamma2 = 2\n",
    "    nu_s2 = 1\n",
    "    alpha_s2 = norm_Rql_bound(m2, nu_s2)\n",
    "    std2 = gamma2 * eta * alpha_s2\n",
    "    rep_M2 = rej2_M(gamma2)\n",
    "\n",
    "    global rep_rate_abdlop_commit \n",
    "    rep_rate_abdlop_commit = rep_M1 * 2*rep_M2\n",
    "\n",
    "    # Private information\n",
    "    s1 = rand_Rql_small(m1, nu_s1)  # ABDLOP Ajtai part message vector\n",
    "    s2 = rand_Rql_small(m2, nu_s2)  # ABDLOP randomness vector\n",
    "    m = rand_Rql(ell)               # ABDLOP BDLOP part message vector\n",
    "\n",
    "    # Public information\n",
    "    A1 = rand_Rq_mat(n, m1)   # ABDLOP A1\n",
    "    A2 = rand_Rq_mat(n, m2)   # ABDLOP A2\n",
    "    B = rand_Rq_mat(ell, m2)  # ABDLOP B\n",
    "\n",
    "    # ABDLOP commitment\n",
    "    tA_tB = A1.stack(ZM(ell, m1)) * s1 + A2.stack(B) * s2 + stack_vec_Rql([zv(n), m])\n",
    "    tA = tA_tB[:n]  # ABDLOP tA\n",
    "    tB = tA_tB[n:]  # ABDLOP tB\n",
    "\n",
    "    # Linear functions\n",
    "    R1 = rand_Rq_mat(N, m1 + ell)\n",
    "    r0 = -(R1 * stack_vec_Rql([s1, m]))\n",
    "\n",
    "    return abdlop_commit(m1, m2, ell, n, N,\n",
    "                         rej_u_1, rej_u_2, get_challenge_u,\n",
    "                         std1, rep_M1, std2, rep_M2,\n",
    "                         s1, s2, m, A1, A2, B, tA, tB,\n",
    "                         R1, r0)\n"
   ]
  },
  {
   "cell_type": "code",
   "execution_count": null,
   "metadata": {
    "vscode": {
     "languageId": "python"
    }
   },
   "outputs": [],
   "source": [
    "def repeat_until_accept(protocol_func):\n",
    "    \"\"\"Repeat protocol until it is not rejected anymore\"\"\"\n",
    "    result = protocol_func()\n",
    "    reps = 1\n",
    "    while result == \"Rejected\":\n",
    "        result = protocol_func()\n",
    "        reps += 1\n",
    "    return {\"success\": result, \"reps\": reps}\n",
    "\n",
    "\n",
    "def measure_rep_rate(protocol_func, exp_rep_rate, runs=100):\n",
    "    \"\"\"Measure repetition rate of protocol\"\"\"\n",
    "    print(f\"Expected repetition rate: {float(exp_rep_rate)}\")\n",
    "    results = [protocol_func() for _ in range(runs)]\n",
    "    result_dict = {res:results.count(res) for res in set(results)}\n",
    "    print(f\"Measured repetition rate: {float(runs / result_dict[True])}\")\n",
    "    print(f\"Results: {result_dict}\")\n"
   ]
  },
  {
   "cell_type": "code",
   "execution_count": null,
   "metadata": {
    "vscode": {
     "languageId": "python"
    }
   },
   "outputs": [],
   "source": [
    "# Run protocol with example parameters and repeat on rejection until acceptance\n",
    "repeat_until_accept(test_abdlop_commit)"
   ]
  },
  {
   "cell_type": "code",
   "execution_count": null,
   "metadata": {
    "vscode": {
     "languageId": "python"
    }
   },
   "outputs": [],
   "source": [
    "# Measure repetition rate\n",
    "#measure_rep_rate(test_abdlop_commit, rep_rate_abdlop_commit)"
   ]
  },
  {
   "attachments": {},
   "cell_type": "markdown",
   "metadata": {},
   "source": [
    "### 4.3 Linear Proofs over Zq"
   ]
  },
  {
   "attachments": {},
   "cell_type": "markdown",
   "metadata": {},
   "source": [
    "We transform the previous protocol which proves that committed values satisfy a linear relation over $\\mathcal{R}_q$ into one that proves knowledge of the *constant coefficient* of a linear relation of $\\mathcal{R}_q$.\n",
    "\n",
    "If $\\vec{r}, \\vec{s} \\in \\mathbb{Z}_q$ are vectors consisting of the coefficients of polynomials $r, s \\in \\mathcal{R}_q$ respectively, then $\\langle \\vec{r}, \\vec{s} \\rangle \\mod q$ is equal to the constant coefficient of the polynomial product $r(X^{-1}) * s(X)$.\n",
    "\n",
    "The procedure to prove that $\\langle \\vec{r}, \\vec{s} \\rangle \\mod q = \\alpha$ is to create polynomial vectors $\\mathbf{r}, \\mathbf{s} \\in \\mathcal{R}_q^k$, such that $\\widetilde{\\langle \\mathbf{r}, \\mathbf{s} \\rangle}$ (inner product over $\\mathcal{R}_q$) is equal to $\\langle \\vec{r}, \\vec{s} \\rangle$.\n",
    "\n",
    "Due to the need to mask all but the constant coefficient, additional commitments are created during the proof by appending these to the BDLOP part of the commitment scheme using public randomness $\\mathbf{B}_g$."
   ]
  },
  {
   "attachments": {},
   "cell_type": "markdown",
   "metadata": {},
   "source": [
    "Private information:\n",
    "\n",
    "$$\n",
    "\\mathbf{s}_{1} \\in \\mathcal{R}_{q}^{m_1}, \\mathbf{m} \\in \\mathcal{R}_{q}^{\\ell}, \\mathbf{s}_{2} \\in \\mathcal{R}_{q}^{m_2}\n",
    "$$\n",
    "\n",
    "Public information:\n",
    "\n",
    "$$\n",
    "\\mathbf{A}_{1} \\in {\\mathcal{R}}_{q}^{n \\times m_{1}},\\, \\mathbf{A}_{2} \\in {\\mathcal{R}}_{q}^{n \\times m_{2}},\\, \\mathbf{B} \\in {\\mathcal{R}}_{q}^{\\ell \\times m_{2}},\\, \\mathbf{B}_{g} \\in {\\mathcal{R}}_{q}^{\\lambda \\times m_{2}}\n",
    "$$\n",
    "\n",
    "$$\n",
    "{\\Bigg[}{\\begin{array}{l}{\\mathbf{t}_{A}} \\\\ {\\mathbf{t}_{B}}\\end{array}}{\\Bigg]} = {\\Bigg[}{\\begin{array}{l}{\\mathbf{A}_{1}} \\\\ {\\mathbf{0}}\\end{array}}{\\Bigg]} \\cdot \\mathbf{s}_{1} + {\\Bigg[}{\\begin{array}{l}{\\mathbf{A}_{2}} \\\\ {\\mathbf{B}}\\end{array}}{\\Bigg]} \\cdot \\mathbf{s}_{2} + {\\Bigg[}{\\begin{array}{l}{\\mathbf{0}} \\\\ {\\mathbf{m}}\\end{array}}{\\Bigg]}\n",
    ",\n",
    "$$\n",
    "\n",
    "Prove knowledge of $\\mathbf{s} = \\mathbf{s}_{1} || \\mathbf{m}$ and prove linear relations over $\\mathcal{R}_q$:\n",
    "\n",
    "$$\n",
    "\\mathbf{R}_{1} \\in {\\mathcal{R}}_{q}^{N \\times (m_{1} + \\ell)},\\, \\mathbf{r}_0 \\in \\mathcal{R}_{q}^{N}\n",
    "$$\n",
    "\n",
    "$$\n",
    "\\mathbf{R}_1 \\mathbf{s} + \\mathbf{r}_0 = \\mathbf{0}\n",
    "$$\n",
    "\n",
    "and prove that the constant coefficient is $0$ for:\n",
    "\n",
    "$$\n",
    "\\mathbf{u}_{1,1}^{T}, \\dots, \\mathbf{u}_{M,1}^{T} \\in \\mathcal{R}_{q}^{m_1 + \\ell},\\, u_{1,0}, \\dots, u_{M,0} \\in \\mathcal{R}_{q}\n",
    "$$\n",
    "\n",
    "$$\n",
    "\\mathbf{u}_{i,1}^{T} \\mathbf{s} + u_{i,0} = 0 \\quad \\,\\text{for}\\; i = 1,\\dots,M\n",
    "$$"
   ]
  },
  {
   "cell_type": "code",
   "execution_count": null,
   "metadata": {
    "vscode": {
     "languageId": "python"
    }
   },
   "outputs": [],
   "source": [
    "def abdlop_linear(m1, m2, ell, n, N, M, lambd,\n",
    "                  rej_u_1, rej_u_2, get_challenge_u,\n",
    "                  std1, rep_M1, std2, rep_M2, \n",
    "                  s1, s2, m, s, A1, A2, B, Bg, tA, tB,\n",
    "                  R1, r0, u1, u0):\n",
    "    \"\"\"ABDLOP linear proofs over Zq\"\"\"\n",
    "    \n",
    "    #================================ Prover =================================\n",
    "    g = rand_Rql_first_zero(lambd)\n",
    "    tg = Bg * s2 + g\n",
    "\n",
    "    #=============================== Verifier ================================\n",
    "    Y = rand_Zq_mat(lambd, M)\n",
    "\n",
    "    #================================ Prover =================================\n",
    "    h = g + Y * stack_vec_Rql([u1[i].row() * s + u0[i] for i in range(M)])\n",
    "\n",
    "    # Append Bg to B, g to m and tg to tB\n",
    "    tB = stack_vec_Rql([tB, tg])\n",
    "    B = B.stack(Bg)\n",
    "    m = stack_vec_Rql([m, g])\n",
    "    ell = ell + lambd\n",
    "\n",
    "    # To prove well-formedness of h[1],...,h[lambd]\n",
    "    u1_mat = u1[0].row()\n",
    "    for i in range(1, M):\n",
    "        u1_mat = u1_mat.stack(u1[i].row())\n",
    "    V1 = Y * u1_mat\n",
    "    v0 = Y * stack_vec_Rql([u0[i] for i in range(M)]) - h\n",
    "    R1 = R1.augment(ZM(N, lambd)).stack(V1.augment(IM(lambd)))\n",
    "    r0 = stack_vec_Rql([r0, v0])\n",
    "\n",
    "    # Run ABDLOP commit sub-protocol\n",
    "    cond1 = abdlop_commit(m1, m2, ell, n, N,\n",
    "                          rej_u_1, rej_u_2, get_challenge_u,\n",
    "                          std1, rep_M1, std2, rep_M2,\n",
    "                          s1, s2, m, A1, A2, B, tA, tB,\n",
    "                          R1, r0)\n",
    "    if cond1 == \"Rejected\":\n",
    "        return \"Rejected\"\n",
    "\n",
    "    #=============================== Verifier ================================\n",
    "    cond2 = all(h[i][0] == 0 for i in range(lambd))  # constant coefficient is 0\n",
    "\n",
    "    return cond1 and cond2\n"
   ]
  },
  {
   "cell_type": "markdown",
   "metadata": {},
   "source": [
    "#### Test Linear Proofs over Zq"
   ]
  },
  {
   "cell_type": "markdown",
   "metadata": {},
   "source": [
    "Here, we provide example parameters to test linear proofs over $\\mathbb{Z}_q$."
   ]
  },
  {
   "cell_type": "code",
   "execution_count": null,
   "metadata": {
    "vscode": {
     "languageId": "python"
    }
   },
   "outputs": [],
   "source": [
    "def test_abdlop_linear():\n",
    "    \"\"\"Call abdlop_linear with example parameters\"\"\"\n",
    "\n",
    "    # Size parameters\n",
    "    m1 = 16    # size of s1\n",
    "    m2 = 47    # size of s2\n",
    "    ell = 8    # size of m\n",
    "    n = 4      # dimension of the Module-SIS problem\n",
    "    N = 1      # number of linear functions over Rq\n",
    "    M = 1      # number of linear functions over Zq\n",
    "    lambd = M  # number of random challenges for each of the M linear functions (must be M)\n",
    "\n",
    "    # Algorithm parameters\n",
    "    is_sigma_1 = False  # automorphism: True for sigma_1, False for sigma_n1\n",
    "    if is_sigma_1:\n",
    "        eta = eta_challenge_v1              # challenge norm upper bound\n",
    "        get_challenge_u = get_challenge_v1  # challenge sampling algorithm\n",
    "    else:\n",
    "        eta = eta_challenge_v2\n",
    "        get_challenge_u = get_challenge_v2\n",
    "\n",
    "    rej_u_1 = rej1  # rejection sampling algorithm\n",
    "    rej_u_2 = rej2\n",
    "\n",
    "    gamma1 = 19  # repetition rate parameter\n",
    "    nu_s1 = 1    # s1 max coefficient\n",
    "    alpha_s1 = norm_Rql_bound(m1, nu_s1)  # s1 norm upper bound\n",
    "    std1 = gamma1 * eta * alpha_s1  # standard deviation\n",
    "    rep_M1 = rej1_M(gamma1)  # repetition rate\n",
    "\n",
    "    gamma2 = 2\n",
    "    nu_s2 = 1\n",
    "    alpha_s2 = norm_Rql_bound(m2, nu_s2)\n",
    "    std2 = gamma2 * eta * alpha_s2\n",
    "    rep_M2 = rej2_M(gamma2)\n",
    "\n",
    "    global rep_rate_abdlop_linear \n",
    "    rep_rate_abdlop_linear = rep_M1 * 2*rep_M2\n",
    "    \n",
    "    # Private information\n",
    "    s1 = rand_Rql_small(m1, nu_s1)  # ABDLOP Ajtai part message vector\n",
    "    s2 = rand_Rql_small(m2, nu_s2)  # ABDLOP randomness vector\n",
    "    m = rand_Rql(ell)               # ABDLOP BDLOP part message vector\n",
    "    s = stack_vec_Rql([s1, m])\n",
    "\n",
    "    # Public information\n",
    "    A1 = rand_Rq_mat(n, m1)      # ABDLOP A1\n",
    "    A2 = rand_Rq_mat(n, m2)      # ABDLOP A2\n",
    "    B = rand_Rq_mat(ell, m2)     # ABDLOP B\n",
    "    Bg = rand_Rq_mat(lambd, m2)  # randomness matrix\n",
    "\n",
    "    # ABDLOP commitment\n",
    "    tA_tB = (A1.stack(ZM(ell, m1)) * s1\n",
    "            + A2.stack(B) * s2\n",
    "            + stack_vec_Rql([zv(n), m]))\n",
    "    tA = tA_tB[:n]  # ABDLOP tA\n",
    "    tB = tA_tB[n:]  # ABDLOP tB\n",
    "\n",
    "    # Linear functions\n",
    "    R1 = rand_Rq_mat(N, m1 + ell)\n",
    "    r0 = -(R1 * stack_vec_Rql([s1, m]))\n",
    "    u1 = [rand_Rql(m1 + ell) for i in range(M)]\n",
    "    u0 = [-u1[i].row() * s for i in range(M)]\n",
    "\n",
    "    return abdlop_linear(m1, m2, ell, n, N, M, lambd,\n",
    "                         rej_u_1, rej_u_2, get_challenge_u,\n",
    "                         std1, rep_M1, std2, rep_M2, \n",
    "                         s1, s2, m, s, A1, A2, B, Bg, tA, tB,\n",
    "                         R1, r0, u1, u0)\n"
   ]
  },
  {
   "cell_type": "code",
   "execution_count": null,
   "metadata": {
    "vscode": {
     "languageId": "python"
    }
   },
   "outputs": [],
   "source": [
    "# Run protocol with example parameters and repeat on rejection until acceptance\n",
    "repeat_until_accept(test_abdlop_linear)"
   ]
  },
  {
   "cell_type": "code",
   "execution_count": null,
   "metadata": {
    "vscode": {
     "languageId": "python"
    }
   },
   "outputs": [],
   "source": [
    "# Measure repetition rate\n",
    "#measure_rep_rate(test_abdlop_linear, rep_rate_abdlop_linear)"
   ]
  },
  {
   "attachments": {},
   "cell_type": "markdown",
   "metadata": {},
   "source": [
    "### 4.4 Quadratic Proofs over Rq "
   ]
  },
  {
   "attachments": {},
   "cell_type": "markdown",
   "metadata": {},
   "source": [
    "#### 4.4.1 Single Quadratic Relation"
   ]
  },
  {
   "cell_type": "markdown",
   "metadata": {},
   "source": [
    "Here, we provide a protocol to prove a single quadratic relation using an ABLDOP commitment opening proof."
   ]
  },
  {
   "attachments": {},
   "cell_type": "markdown",
   "metadata": {},
   "source": [
    "Private information:\n",
    "\n",
    "$$\n",
    "\\mathbf{s}_{1} \\in \\mathcal{R}_{q}^{m_1},\\, \\mathbf{m} \\in \\mathcal{R}_{q}^{\\ell},\\, \\mathbf{s}_{2} \\in \\mathcal{R}_{q}^{m_2}\n",
    "$$\n",
    "\n",
    "Public information: \n",
    "\n",
    "$$\n",
    "\\mathbf{A}_{1} \\in {\\mathcal{R}}_{q}^{n \\times m_{1}},\\, \\mathbf{A}_{2} \\in {\\mathcal{R}}_{q}^{n \\times m_{2}},\\, \\mathbf{B} \\in {\\mathcal{R}}_{q}^{\\ell \\times m_{2}},\\, \\mathbf{b} \\in {\\mathcal{R}}_{q}^{m_{2}},\n",
    "$$\n",
    "\n",
    "$$\n",
    "{\\Bigg[}{\\begin{array}{l}{\\mathbf{t}_{A}} \\\\ {\\mathbf{t}_{B}}\\end{array}}{\\Bigg]} = {\\Bigg[}{\\begin{array}{l}{\\mathbf{A}_{1}} \\\\ {\\mathbf{0}}\\end{array}}{\\Bigg]} \\cdot \\mathbf{s}_{1} + {\\Bigg[}{\\begin{array}{l}{\\mathbf{A}_{2}} \\\\ {\\mathbf{B}}\\end{array}}{\\Bigg]} \\cdot \\mathbf{s}_{2} + {\\Bigg[}{\\begin{array}{l}{\\mathbf{0}} \\\\ {\\mathbf{m}}\\end{array}}{\\Bigg]}\n",
    ",\n",
    "$$\n",
    "\n",
    "Prove knowledge of $\\mathbf{s} = {\\begin{bmatrix}{\\mathbf{s_1}} \\\\ {\\mathbf{m}}\\end{bmatrix}}$ and prove quadratic relation over $\\mathcal{R}_q$:\n",
    "\n",
    "$$\n",
    "r_0 \\in \\mathcal{R}_{q},\\, r_1 \\in \\mathcal{R}_{q}^{k(m_1 + \\ell)},\\, \\mathbf{R}_2 \\in \\mathcal{R}_{q}^{k(m_1 + \\ell) \\times k(m_1 + \\ell)},\n",
    "$$\n",
    "\n",
    "$$\n",
    "\\mathbf{s}^{T}\\mathbf{R}_{2}\\mathbf{s} + \\mathbf{r}_{1}^{T}\\mathbf{s} + r_0 = 0\n",
    "$$\n",
    "\n",
    "where $k$ is the degree of the used automorphism $\\sigma \\in \\{ \\sigma_{1}, \\sigma_{-1} \\}$.\n",
    "\n"
   ]
  },
  {
   "cell_type": "code",
   "execution_count": null,
   "metadata": {
    "vscode": {
     "languageId": "python"
    }
   },
   "outputs": [],
   "source": [
    "def abdlop_single_quadratic(m1, m2, ell, n,\n",
    "                            is_sigma_1, rej_u_1, rej_u_2, get_challenge_u,\n",
    "                            std1, rep_M1, std2, rep_M2,\n",
    "                            s1, s2, m, A1, A2, B, b, tA, tB,\n",
    "                            R2, r1, r0):\n",
    "    \"\"\"ABDLOP proof of single quadratic relation\"\"\"\n",
    "    \n",
    "    #================================ Prover =================================\n",
    "    s = stack_vec_Rql([s1, m])\n",
    "    if not is_sigma_1:\n",
    "        s = sigma_n1_struct_vec(s)\n",
    "    \n",
    "    y1_smplr = GaussianSampler(R_q, std1, m1)\n",
    "    y1 = y1_smplr.get()\n",
    "    y2_smplr = GaussianSampler(R_q, std2, m2)\n",
    "    y2 = y2_smplr.get()\n",
    "\n",
    "    w = A1 * y1 + A2 * y2\n",
    "    y = stack_vec_Rql([y1, -B*y2])\n",
    "    if not is_sigma_1:\n",
    "        y = sigma_n1_struct_vec(y)\n",
    "    g1 = s.dot_product(R2 * y) + y.dot_product(R2 * s) + r1.dot_product(y)\n",
    "    t = b.dot_product(s2) + g1\n",
    "    v = y.dot_product(R2 * y) + b.dot_product(y2)\n",
    "\n",
    "    #=============================== Verifier ================================\n",
    "    if is_sigma_1:\n",
    "        c = get_challenge_v1()\n",
    "    else:\n",
    "        c = get_challenge_v2()\n",
    "\n",
    "    #================================ Prover =================================\n",
    "    cs1 = c * s1\n",
    "    z1 = cs1 + y1\n",
    "    if rej_u_1(z1, cs1, std1, rep_M1):\n",
    "        return \"Rejected\"\n",
    "\n",
    "    cs2 = c * s2\n",
    "    z2 = cs2 + y2\n",
    "    if rej_u_2(z2, cs2, std2, rep_M2):\n",
    "        return \"Rejected\"\n",
    "    \n",
    "    #=============================== Verifier ================================\n",
    "    z = stack_vec_Rql([z1, c*tB - B*z2])\n",
    "    if not is_sigma_1:\n",
    "        z = sigma_n1_struct_vec(z)\n",
    "    f = c * t - b.dot_product(z2)\n",
    "\n",
    "    cond1 = ((norm_Rql(z1) <= std1 * sg.sqrt(2 * m1 * d))\n",
    "             and (norm_Rql(z2) <= std2 * sg.sqrt(2 * m2 * d)))\n",
    "    cond2 = (A1 * z1 + A2 * z2 - c * tA == w)\n",
    "    cond3 = (z.dot_product(R2 * z) + c * r1.dot_product(z) + c**2 * r0 - f == v)\n",
    "    \n",
    "    return cond1 and cond2 and cond3\n"
   ]
  },
  {
   "cell_type": "markdown",
   "metadata": {},
   "source": [
    "##### Test Single Quadratic Relation"
   ]
  },
  {
   "cell_type": "markdown",
   "metadata": {},
   "source": [
    "Here, we provide example parameters to test single quadratic relation proofs over $\\mathcal{R}_q$."
   ]
  },
  {
   "cell_type": "code",
   "execution_count": null,
   "metadata": {
    "vscode": {
     "languageId": "python"
    }
   },
   "outputs": [],
   "source": [
    "def test_abdlop_single_quadratic():\n",
    "    \"\"\"Call abdlop_single_quadratic with example parameters\"\"\"\n",
    "\n",
    "    # Size parameters\n",
    "    m1 = 8     # size of s1\n",
    "    m2 = 25    # size of s2\n",
    "    ell = 2    # size of m\n",
    "    n = 9      # dimension of the Module-SIS problem\n",
    "    \n",
    "    # Algorithm parameters\n",
    "    is_sigma_1 = False  # automorphism: True for sigma_1, False for sigma_n1\n",
    "    if is_sigma_1:\n",
    "        k = k_sigma_1                       # degree of automorphism\n",
    "        eta = eta_challenge_v1              # challenge norm upper bound\n",
    "        get_challenge_u = get_challenge_v1  # challenge sampling algorithm\n",
    "    else:\n",
    "        k = k_sigma_n1\n",
    "        eta = eta_challenge_v2\n",
    "        get_challenge_u = get_challenge_v2\n",
    "    \n",
    "    rej_u_1 = rej1  # rejection sampling algorithm\n",
    "    rej_u_2 = rej2\n",
    "\n",
    "    gamma1 = 19  # repetition rate parameter\n",
    "    nu_s1 = 1    # s1 max coefficient\n",
    "    alpha_s1 = norm_Rql_bound(m1, nu_s1)  # s1 norm upper bound\n",
    "    std1 = gamma1 * eta * alpha_s1  # standard deviation\n",
    "    rep_M1 = rej1_M(gamma1)  # repetition rate\n",
    "\n",
    "    gamma2 = 2\n",
    "    nu_s2 = 1\n",
    "    alpha_s2 = norm_Rql_bound(m2, nu_s2)\n",
    "    std2 = gamma2 * eta * alpha_s2\n",
    "    rep_M2 = rej2_M(gamma2)\n",
    "\n",
    "    global rep_rate_abdlop_single_quadratic\n",
    "    rep_rate_abdlop_single_quadratic = rep_M1 * 2*rep_M2\n",
    "\n",
    "    # Private information\n",
    "    s1 = rand_Rql_small(m1, nu_s1)  # ABDLOP Ajtai part message vector\n",
    "    s2 = rand_Rql_small(m2, nu_s2)  # ABDLOP randomness vector\n",
    "    m = rand_Rql(ell)               # ABDLOP BDLOP part message vector\n",
    "    s = stack_vec_Rql([s1, m])\n",
    "    if not is_sigma_1:\n",
    "        s = sigma_n1_struct_vec(s)\n",
    "    \n",
    "    # Public information\n",
    "    A1 = rand_Rq_mat(n, m1)   # ABDLOP A1\n",
    "    A2 = rand_Rq_mat(n, m2)   # ABDLOP A2\n",
    "    B = rand_Rq_mat(ell, m2)  # ABDLOP B\n",
    "    b = rand_Rql(m2)          # randomness vector\n",
    "\n",
    "    # ABDLOP commitment\n",
    "    tA_tB = A1.stack(ZM(ell, m1)) * s1 + A2.stack(B) * s2 + stack_vec_Rql([zv(n), m])\n",
    "    tA = tA_tB[:n]  # ABDLOP tA\n",
    "    tB = tA_tB[n:]  # ABDLOP tB\n",
    "\n",
    "    # Quadratic function\n",
    "    R2 = rand_Rq_mat(k * (m1 + ell), k * (m1 + ell))\n",
    "    r1 = rand_Rql(k *(m1 + ell))\n",
    "    r0 = -(s.dot_product(R2 * s) + r1.dot_product(s))\n",
    "\n",
    "    return abdlop_single_quadratic(m1, m2, ell, n,\n",
    "                                   is_sigma_1, rej_u_1, rej_u_2, get_challenge_u,\n",
    "                                   std1, rep_M1, std2, rep_M2,\n",
    "                                   s1, s2, m, A1, A2, B, b, tA, tB,\n",
    "                                   R2, r1, r0)\n"
   ]
  },
  {
   "cell_type": "code",
   "execution_count": null,
   "metadata": {
    "vscode": {
     "languageId": "python"
    }
   },
   "outputs": [],
   "source": [
    "# Run protocol with example parameters and repeat on rejection until acceptance\n",
    "repeat_until_accept(test_abdlop_single_quadratic)"
   ]
  },
  {
   "cell_type": "code",
   "execution_count": null,
   "metadata": {
    "vscode": {
     "languageId": "python"
    }
   },
   "outputs": [],
   "source": [
    "# Measure repetition rate\n",
    "#measure_rep_rate(test_abdlop_single_quadratic, rep_rate_abdlop_single_quadratic)"
   ]
  },
  {
   "attachments": {},
   "cell_type": "markdown",
   "metadata": {},
   "source": [
    "#### 4.4.2 Multiple Quadratic Relations"
   ]
  },
  {
   "cell_type": "markdown",
   "metadata": {},
   "source": [
    "To prove multiple quadratic relations in $\\mathcal{R}_q$ we linearly combine them into one and run the protocol for proving a single quadratic relation."
   ]
  },
  {
   "attachments": {},
   "cell_type": "markdown",
   "metadata": {},
   "source": [
    "Private information: \n",
    "\n",
    "$$\n",
    "\\mathbf{s}_{1} \\in \\mathcal{R}_{q}^{m_1},\\, \\mathbf{m} \\in \\mathcal{R}_{q}^{\\ell},\\, \\mathbf{s}_{2} \\in \\mathcal{R}_{q}^{m_2}\n",
    "$$\n",
    "\n",
    "Public information:\n",
    "\n",
    "$$\n",
    "\\mathbf{A}_{1} \\in {\\mathcal{R}}_{q}^{n \\times m_{1}},\\, \\mathbf{A}_{2} \\in {\\mathcal{R}}_{q}^{n \\times m_{2}},\\, \\mathbf{B} \\in {\\mathcal{R}}_{q}^{\\ell \\times m_{2}},\\, \\mathbf{b} \\in {\\mathcal{R}}_{q}^{m_{2}},\n",
    "$$\n",
    "\n",
    "$$\n",
    "{\\Bigg[}{\\begin{array}{l}{\\mathbf{t}_{A}} \\\\ {\\mathbf{t}_{B}}\\end{array}}{\\Bigg]} = {\\Bigg[}{\\begin{array}{l}{\\mathbf{A}_{1}} \\\\ {\\mathbf{0}}\\end{array}}{\\Bigg]} \\cdot \\mathbf{s}_{1} + {\\Bigg[}{\\begin{array}{l}{\\mathbf{A}_{2}} \\\\ {\\mathbf{B}}\\end{array}}{\\Bigg]} \\cdot \\mathbf{s}_{2} + {\\Bigg[}{\\begin{array}{l}{\\mathbf{0}} \\\\ {\\mathbf{m}}\\end{array}}{\\Bigg]}\n",
    "$$\n",
    "\n",
    "Prove knowledge of $\\mathbf{s} = {\\begin{bmatrix}{\\mathbf{s_1}} \\\\ {\\mathbf{m}}\\end{bmatrix}}$ and prove $N$ quadratic relations over $\\mathcal{R}_q$:\n",
    "\n",
    "$$\n",
    "f_1,...,f_N : \\mathcal{R}_{q}^{k(m_1 + \\ell)} \\rightarrow \\mathcal{R}_{q}\n",
    "$$\n",
    "\n",
    "where $k$ is the degree of the used automorphism $\\sigma \\in \\{ \\sigma_{1}, \\sigma_{-1} \\}$."
   ]
  },
  {
   "cell_type": "code",
   "execution_count": null,
   "metadata": {
    "vscode": {
     "languageId": "python"
    }
   },
   "outputs": [],
   "source": [
    "def abdlop_multiple_quadratic(m1, m2, ell, n, N,\n",
    "                              is_sigma_1, rej_u_1, rej_u_2, get_challenge_u,\n",
    "                              std1, rep_M1, std2, rep_M2,\n",
    "                              s1, s2, m, A1, A2, B, b, tA, tB,\n",
    "                              R2_is, r1_is, r0_is):\n",
    "    \"\"\"ABDLOP proof of multiple quadratic relations\"\"\"\n",
    "    \n",
    "    #=============================== Verifier ================================\n",
    "    mu_is = rand_Rql(N)\n",
    "    \n",
    "    #================================ Prover =================================\n",
    "    # Linear-combine the N equations into one\n",
    "    R2 = sum([mu_is[i] * R2_is[i] for i in range(N)])\n",
    "    r1 = sum([mu_is[i] * r1_is[i] for i in range(N)])\n",
    "    r0 = sum([mu_is[i] * r0_is[i] for i in range(N)])\n",
    "\n",
    "    # Run adblop single quadratic with combined equation\n",
    "    return abdlop_single_quadratic(m1, m2, ell, n,\n",
    "                                   is_sigma_1, rej_u_1, rej_u_2, get_challenge_u,\n",
    "                                   std1, rep_M1, std2, rep_M2,\n",
    "                                   s1, s2, m, A1, A2, B, b, tA, tB,\n",
    "                                   R2, r1, r0)"
   ]
  },
  {
   "cell_type": "markdown",
   "metadata": {},
   "source": [
    "##### Test Multiple Quadratic Relations"
   ]
  },
  {
   "cell_type": "markdown",
   "metadata": {},
   "source": [
    "Here, we provide example parameters to test proofs of multiple quadratic relations over $\\mathcal{R}_q$."
   ]
  },
  {
   "cell_type": "code",
   "execution_count": null,
   "metadata": {
    "vscode": {
     "languageId": "python"
    }
   },
   "outputs": [],
   "source": [
    "def test_abdlop_multiple_quadratic():\n",
    "    \"\"\"Call abdlop_multiple_quadratic with example parameters\"\"\"\n",
    "\n",
    "    # Size parameters\n",
    "    m1 = 8     # size of s1\n",
    "    m2 = 8     # size of s2\n",
    "    ell = 8    # size of m\n",
    "    n = 4      # dimension of the Module-SIS problem\n",
    "    N = 2      # number of quadratic equations\n",
    "\n",
    "    # Algorithm parameters\n",
    "    is_sigma_1 = False  # automorphism: True for sigma_1, False for sigma_n1\n",
    "    if is_sigma_1:\n",
    "        k = k_sigma_1                       # degree of automorphism\n",
    "        eta = eta_challenge_v1              # challenge norm upper bound\n",
    "        get_challenge_u = get_challenge_v1  # challenge sampling algorithm\n",
    "    else:\n",
    "        k = k_sigma_n1\n",
    "        eta = eta_challenge_v2\n",
    "        get_challenge_u = get_challenge_v2\n",
    "    \n",
    "    rej_u_1 = rej1  # rejection sampling algorithm\n",
    "    rej_u_2 = rej2\n",
    "\n",
    "    gamma1 = 19  # repetition rate parameter\n",
    "    nu_s1 = 1    # s1 max coefficient\n",
    "    alpha_s1 = norm_Rql_bound(m1, nu_s1)  # s1 norm upper bound\n",
    "    std1 = gamma1 * eta * alpha_s1  # standard deviation\n",
    "    rep_M1 = rej1_M(gamma1)  # repetition rate\n",
    "\n",
    "    gamma2 = 2\n",
    "    nu_s2 = 1\n",
    "    alpha_s2 = norm_Rql_bound(m2, nu_s2)\n",
    "    std2 = gamma2 * eta * alpha_s2\n",
    "    rep_M2 = rej2_M(gamma2)\n",
    "\n",
    "    global rep_rate_abdlop_multiple_quadratic\n",
    "    rep_rate_abdlop_multiple_quadratic = rep_M1 * 2*rep_M2\n",
    "\n",
    "    # Private information\n",
    "    s1 = rand_Rql_small(m1, nu_s1)  # ABDLOP Ajtai part message vector\n",
    "    s2 = rand_Rql_small(m2, nu_s2)  # ABDLOP randomness vector\n",
    "    m = rand_Rql(ell)               # ABDLOP BDLOP part message vector\n",
    "    s = stack_vec_Rql([s1, m])\n",
    "    if not is_sigma_1:\n",
    "        s = sigma_n1_struct_vec(s)\n",
    "\n",
    "    # Public information\n",
    "    A1 = rand_Rq_mat(n, m1)   # ABDLOP A1\n",
    "    A2 = rand_Rq_mat(n, m2)   # ABDLOP A2\n",
    "    B = rand_Rq_mat(ell, m2)  # ABDLOP B\n",
    "    b = rand_Rql(m2)          # randomness vector\n",
    "\n",
    "    # ABDLOP commitment\n",
    "    tA_tB = A1.stack(ZM(ell, m1)) * s1 + A2.stack(B) * s2 + stack_vec_Rql([zv(n), m])\n",
    "    tA = tA_tB[:n]  # ABDLOP tA\n",
    "    tB = tA_tB[n:]  # ABDLOP tB\n",
    "\n",
    "    # Quadratic functions\n",
    "    R2_is = [rand_Rq_mat(k * (m1 + ell), k * (m1 + ell)) for i in range(N)]\n",
    "    r1_is = [rand_Rql(k * (m1 + ell)) for i in range(N)]\n",
    "    r0_is = [-(s.dot_product(R2_is[i] * s) + r1_is[i].dot_product(s)) for i in range(N)]\n",
    "\n",
    "    return abdlop_multiple_quadratic(m1, m2, ell, n, N,\n",
    "                                     is_sigma_1, rej_u_1, rej_u_2, get_challenge_u,\n",
    "                                     std1, rep_M1, std2, rep_M2,\n",
    "                                     s1, s2, m, A1, A2, B, b, tA, tB,\n",
    "                                     R2_is, r1_is, r0_is)\n"
   ]
  },
  {
   "cell_type": "code",
   "execution_count": null,
   "metadata": {
    "vscode": {
     "languageId": "python"
    }
   },
   "outputs": [],
   "source": [
    "# Run protocol with example parameters and repeat on rejection until acceptance\n",
    "repeat_until_accept(test_abdlop_multiple_quadratic)"
   ]
  },
  {
   "cell_type": "code",
   "execution_count": null,
   "metadata": {
    "vscode": {
     "languageId": "python"
    }
   },
   "outputs": [],
   "source": [
    "# Measure repetition rate\n",
    "#measure_rep_rate(test_abdlop_multiple_quadratic, rep_rate_abdlop_multiple_quadratic)"
   ]
  },
  {
   "attachments": {},
   "cell_type": "markdown",
   "metadata": {},
   "source": [
    "### 4.5 Quadratic Proofs over Zq"
   ]
  },
  {
   "attachments": {},
   "cell_type": "markdown",
   "metadata": {},
   "source": [
    "Here, we make the step from relations over $\\mathcal{R}_q$ to relations over $\\mathbb{Z}_q$ by proving that the constant coefficient of some polynomials is $0$. The provided protocol allows us to prove simultaneously $N$ quadratic relations and that $M$ quadratic polynomials have evaluations with constant coefficient zero."
   ]
  },
  {
   "attachments": {},
   "cell_type": "markdown",
   "metadata": {},
   "source": [
    "Private information:\n",
    "\n",
    "$$\n",
    "\\mathbf{s}_{1} \\in \\mathcal{R}_{q}^{m_1},\\, \\mathbf{m} \\in \\mathcal{R}_{q}^{\\ell},\\, \\mathbf{s}_{2} \\in \\mathcal{R}_{q}^{m_2}\n",
    "$$\n",
    "\n",
    "Public information:\n",
    "\n",
    "$$\n",
    "\\mathbf{A}_{1} \\in {\\mathcal{R}}_{q}^{n \\times m_{1}},\\, \\mathbf{A}_{2} \\in {\\mathcal{R}}_{q}^{n \\times m_{2}},\\, \\mathbf{B} \\in {\\mathcal{R}}_{q}^{\\ell \\times m_{2}},\\, \\mathbf{B}_{g} \\in {\\mathcal{R}}_{q}^{\\lambda \\times m_{2}},\\, \\mathbf{b} \\in {\\mathcal{R}}_{q}^{m_{2}},\n",
    "$$\n",
    "\n",
    "$$\n",
    "{\\Bigg[}{\\begin{array}{l}{\\mathbf{t}_{A}} \\\\ {\\mathbf{t}_{B}}\\end{array}}{\\Bigg]} = {\\Bigg[}{\\begin{array}{l}{\\mathbf{A}_{1}} \\\\ {\\mathbf{0}}\\end{array}}{\\Bigg]} \\cdot \\mathbf{s}_{1} + {\\Bigg[}{\\begin{array}{l}{\\mathbf{A}_{2}} \\\\ {\\mathbf{B}}\\end{array}}{\\Bigg]} \\cdot \\mathbf{s}_{2} + {\\Bigg[}{\\begin{array}{l}{\\mathbf{0}} \\\\ {\\mathbf{m}}\\end{array}}{\\Bigg]}\n",
    ",\n",
    "$$\n",
    "\n",
    "$$\n",
    "f_1,...,f_N, F_1,...,F_M : \\mathcal{R}_{q}^{k(m_1 + \\ell)} \\rightarrow \\mathcal{R}_{q}\n",
    "$$\n",
    "\n",
    "where $k$ is the degree of the used automorphism $\\sigma \\in \\{ \\sigma_{1}, \\sigma_{-1} \\}$."
   ]
  },
  {
   "cell_type": "code",
   "execution_count": null,
   "metadata": {
    "vscode": {
     "languageId": "python"
    }
   },
   "outputs": [],
   "source": [
    "def Tr(poly):\n",
    "    \"\"\"\n",
    "    Create polynomials such that for any a,b in R_q,\n",
    "    the polynomial y = Tr(a) + X^d/2 * Tr(b) has y_0 = 0 and y_d/2 = 0\n",
    "    \"\"\"\n",
    "    return (poly + sigma_n1(poly)) / 2\n",
    "\n",
    "\n",
    "def get_U(n):\n",
    "    \"\"\"Create permutation matrix that swaps every 2nd element of the vector it is multiplied with\"\"\"\n",
    "    P = IM(n)\n",
    "    for i in range(1, n, 2):\n",
    "        P.swap_rows(i - 1, i)\n",
    "    return P\n"
   ]
  },
  {
   "cell_type": "code",
   "execution_count": null,
   "metadata": {
    "vscode": {
     "languageId": "python"
    }
   },
   "outputs": [],
   "source": [
    "def abdlop_quadratic_poly(m1, m2, ell, n, k, N, M, lambd,\n",
    "                          is_sigma_1, is_opti, rej_u_1, rej_u_2, get_challenge_u,\n",
    "                          std1, rep_M1, std2, rep_M2,\n",
    "                          s1, s2, m, A1, A2, B, Bg, b, tA, tB,\n",
    "                          R2_is, r1_is, r0_is,\n",
    "                          R2_p_is, r1_p_is, r0_p_is):\n",
    "    \"\"\"\n",
    "    ABDLOP proof of\n",
    "    - multiple quadratic relations \n",
    "    - multiple quadratic polynomials have evaluations with constant coefficient zero\n",
    "    \"\"\"\n",
    "    \n",
    "    #================================ Prover =================================\n",
    "    s = stack_vec_Rql([s1, m])\n",
    "    if not is_sigma_1:\n",
    "        s = sigma_n1_struct_vec(s)\n",
    "\n",
    "    g = rand_Rql_first_zero(lambd)\n",
    "    tg = Bg * s2 + g\n",
    "\n",
    "    #=============================== Verifier ================================\n",
    "    if not is_opti:\n",
    "        Y = rand_Zq_mat(lambd, M)\n",
    "    else:\n",
    "        Y = rand_Zq_mat(2*lambd, M)\n",
    "\n",
    "    #================================ Prover =================================\n",
    "    if not is_opti:\n",
    "        h = [g[i] + sum([Y[i][j] * (s.dot_product(R2_p_is[j] * s) + r1_p_is[j].dot_product(s) + r0_p_is[j])\n",
    "                         for j in range(M)])\n",
    "             for i in range(lambd)]\n",
    "    else:\n",
    "        h = [g[i] + sum([(Y[2*i][j] + X_q**(d//2) * Y[2*i + 1][j])\n",
    "                          * Tr(s.dot_product(R2_p_is[j] * s) + r1_p_is[j].dot_product(s) + r0_p_is[j])\n",
    "                         for j in range(M)])\n",
    "             for i in range(lambd)]\n",
    "\n",
    "    # Append Bg to B, g to m and tg to tB\n",
    "    tB = stack_vec_Rql([tB, tg])\n",
    "    B = B.stack(Bg)\n",
    "    m = stack_vec_Rql([m, g])\n",
    "\n",
    "    R2_is = [sg.block_matrix(R_q, [\n",
    "                [R2_is[i], ZM(k*(m1 + ell), k*lambd)],\n",
    "                [ZM(k*lambd, k*(m1 + ell)), ZM(k*lambd, k*lambd)]\n",
    "            ]) for i in range(N)]\n",
    "\n",
    "    r1_is = [stack_vec_Rql([r1_is[i], zv(k*lambd)]) for i in range(N)]\n",
    "    \n",
    "    if is_sigma_1:\n",
    "        e = [sg.vector(R_q, [1 if j == i else 0 for j in range(lambd)]) for i in range(lambd)]\n",
    "    else:\n",
    "        e = [sg.vector(R_q, [1 if j == 2 * i else 0 for j in range(k*lambd)]) for i in range(lambd)]\n",
    "\n",
    "    if not is_opti:\n",
    "        R2_is.extend([sg.block_matrix(R_q, [\n",
    "            [sum([Y[i][j] * R2_p_is[j] for j in range(M)]), ZM(k*(m1 + ell), k*lambd)],\n",
    "            [ZM(k*lambd, k*(m1 + ell)), ZM(k*lambd, k*lambd)]\n",
    "        ]) for i in range(lambd)])\n",
    "\n",
    "        r1_is.extend([stack_vec_Rql([\n",
    "            sum([Y[i][j] * r1_p_is[j] for j in range(M)]),\n",
    "            e[i]\n",
    "        ]) for i in range(lambd)])\n",
    "\n",
    "        r0_is.extend([sum([Y[i][j] * r0_p_is[j] for j in range(M)]) - h[i] for i in range(lambd)])\n",
    "        \n",
    "        N = N + lambd\n",
    "        ell = ell + lambd\n",
    "    else:\n",
    "        U = get_U(2*(m1 + ell))\n",
    "        Ut = U.transpose()\n",
    "        Y_ijs = [[(Y[2*i][j] + X_q**(d//2) * Y[2*i + 1][j]) / 2 for j in range(M)] for i in range(lambd)]\n",
    "        R2pU_js = [R2_p_is[j] + Ut * sigma_n1_mat(R2_p_is[j]) * U for j in range(M)]\n",
    "        r1p_js = [r1_p_is[j] + Ut * sigma_n1_vec(r1_p_is[j]) for j in range(M)]\n",
    "        r0p_js = [r0_p_is[j] + sigma_n1(r0_p_is[j]) for j in range(M)]\n",
    "\n",
    "        R2_is.extend([sg.block_matrix(R_q, [\n",
    "            [sum([Y_ijs[i][j] * R2pU_js[j] for j in range(M)]), ZM(k*(m1 + ell), k*lambd)],\n",
    "            [ZM(k*lambd, k*(m1 + ell)), ZM(k*lambd, k*lambd)]\n",
    "        ]) for i in range(lambd)])\n",
    "\n",
    "        r1_is.extend([stack_vec_Rql([\n",
    "            sum([Y_ijs[i][j] * r1p_js[j] for j in range(M)]),\n",
    "            e[i]\n",
    "        ]) for i in range(lambd)])\n",
    "\n",
    "        r0_is.extend([sum([Y_ijs[i][j] * r0p_js[j] for j in range(M)]) - h[i] for i in range(lambd)])\n",
    "\n",
    "        N = N + lambd\n",
    "        ell = ell + lambd\n",
    "\n",
    "    # Run ABDLOP multiple quadratic sub-protocol\n",
    "    cond1 = abdlop_multiple_quadratic(m1, m2, ell, n, N,\n",
    "                                      is_sigma_1, rej_u_1, rej_u_2, get_challenge_u,\n",
    "                                      std1, rep_M1, std2, rep_M2,\n",
    "                                      s1, s2, m, A1, A2, B, b, tA, tB,\n",
    "                                      R2_is, r1_is, r0_is)\n",
    "    if cond1 == \"Rejected\":\n",
    "        return \"Rejected\"\n",
    "\n",
    "    #=============================== Verifier ================================\n",
    "    cond2 = all(h[i][0] == 0 for i in range(lambd))  # check constant coefficient is 0\n",
    "    \n",
    "    return cond1 and cond2\n"
   ]
  },
  {
   "cell_type": "markdown",
   "metadata": {},
   "source": [
    "#### Test Quadratic Proofs over Zq"
   ]
  },
  {
   "cell_type": "markdown",
   "metadata": {},
   "source": [
    "Here, we provide example parameters to test quadratic proofs over $\\mathbb{Z}_q$."
   ]
  },
  {
   "cell_type": "code",
   "execution_count": null,
   "metadata": {
    "vscode": {
     "languageId": "python"
    }
   },
   "outputs": [],
   "source": [
    "def test_abdlop_quadratic_poly():\n",
    "    \"\"\"Call abdlop_quadratic_poly with example parameters\"\"\"\n",
    "\n",
    "    # Size parameters\n",
    "    m1 = 8     # size of s1\n",
    "    m2 = 25    # size of s2\n",
    "    ell = 2    # size of m\n",
    "    n = 9      # dimension of the Module-SIS problem\n",
    "    N = 1      # number of quadratic euqations\n",
    "    M = 1      # number of quadratic polynomials with constant coefficient zero\n",
    "    lambd = 4  # number of random masking polynomials (boosting soundness to q1^-lambda)\n",
    "\n",
    "    # Algorithm parameters\n",
    "    is_sigma_1 = False  # automorphism: True for sigma_1, False for sigma_n1\n",
    "    is_opti = True      # proof size optimized sigma_n1 version with reduced garbage commitments\n",
    "    assert(not(is_sigma_1 and is_opti))  # is_opti only works with sigma_n1\n",
    "    if is_sigma_1:\n",
    "        k = k_sigma_1                       # degree of automorphism\n",
    "        eta = eta_challenge_v1              # challenge norm upper bound\n",
    "        get_challenge_u = get_challenge_v1  # challenge sampling algorithm\n",
    "    else:\n",
    "        k = k_sigma_n1\n",
    "        eta = eta_challenge_v2\n",
    "        get_challenge_u = get_challenge_v2\n",
    "        if is_opti:\n",
    "            lambd = lambd//2  # reduced garbage commitments\n",
    "    \n",
    "    rej_u_1 = rej1  # rejection sampling algorithm\n",
    "    rej_u_2 = rej2\n",
    "    \n",
    "    gamma1 = 19  # repetition rate parameter\n",
    "    nu_s1 = 1    # s1 max coefficient\n",
    "    alpha_s1 = norm_Rql_bound(m1, nu_s1)  # s1 norm upper bound\n",
    "    std1 = gamma1 * eta * alpha_s1  # standard deviation\n",
    "    rep_M1 = rej1_M(gamma1)  # repetition rate\n",
    "\n",
    "    gamma2 = 2\n",
    "    nu_s2 = 1\n",
    "    alpha_s2 = norm_Rql_bound(m2, nu_s2)\n",
    "    std2 = gamma2 * eta * alpha_s2\n",
    "    rep_M2 = rej2_M(gamma2)\n",
    "\n",
    "    global rep_rate_abdlop_quadratic_poly\n",
    "    rep_rate_abdlop_quadratic_poly = rep_M1 * 2*rep_M2\n",
    "\n",
    "    # Private information\n",
    "    s1 = rand_Rql_small(m1, nu_s1)  # ABDLOP Ajtai part message vector\n",
    "    s2 = rand_Rql_small(m2, nu_s2)  # ABDLOP randomness vector\n",
    "    m = rand_Rql(ell)               # ABDLOP BDLOP part message vector\n",
    "    s = stack_vec_Rql([s1, m])\n",
    "    if not is_sigma_1:\n",
    "        s = sigma_n1_struct_vec(s)\n",
    "\n",
    "    # Public information\n",
    "    A1 = rand_Rq_mat(n, m1)      # ABDLOP A1\n",
    "    A2 = rand_Rq_mat(n, m2)      # ABDLOP A2\n",
    "    B = rand_Rq_mat(ell, m2)     # ABDLOP B\n",
    "    Bg = rand_Rq_mat(lambd, m2)  # randomness matrix\n",
    "    b = rand_Rql(m2)             # randomness vector\n",
    "\n",
    "    # ABDLOP commitment\n",
    "    tA_tB = A1.stack(ZM(ell, m1)) * s1 + A2.stack(B) * s2 + stack_vec_Rql([zv(n), m])\n",
    "    tA = tA_tB[:n]  # ABDLOP tA\n",
    "    tB = tA_tB[n:]  # ABDLOP tB\n",
    "\n",
    "    # Quadratic functions\n",
    "    R2_is = [rand_Rq_mat(k * (m1 + ell), k * (m1 + ell)) for i in range(N)]\n",
    "    r1_is = [rand_Rql(k * (m1 + ell)) for i in range(N)]\n",
    "    r0_is = [-(s.dot_product(R2_is[i] * s) + r1_is[i].dot_product(s)) for i in range(N)]\n",
    "\n",
    "    # Quadratic polynomials with constant coefficient zero\n",
    "    R2_p_is = [rand_Rq_mat_first_zero(k * (m1 + ell), k * (m1 + ell)) for i in range(M)]\n",
    "    r1_p_is = [rand_Rql_first_zero(k *(m1 + ell)) for i in range(M)]\n",
    "    r0_p_is = [-(s.dot_product(R2_p_is[i] * s) + r1_p_is[i].dot_product(s)) for i in range(M)]\n",
    "\n",
    "    return abdlop_quadratic_poly(m1, m2, ell, n, k, N, M, lambd,\n",
    "                                 is_sigma_1, is_opti, rej_u_1, rej_u_2, get_challenge_u,\n",
    "                                 std1, rep_M1, std2, rep_M2,\n",
    "                                 s1, s2, m, A1, A2, B, Bg, b, tA, tB,\n",
    "                                 R2_is, r1_is, r0_is,\n",
    "                                 R2_p_is, r1_p_is, r0_p_is)\n"
   ]
  },
  {
   "cell_type": "code",
   "execution_count": null,
   "metadata": {
    "vscode": {
     "languageId": "python"
    }
   },
   "outputs": [],
   "source": [
    "# Run protocol with example parameters and repeat on rejection until acceptance\n",
    "repeat_until_accept(test_abdlop_quadratic_poly)"
   ]
  },
  {
   "cell_type": "code",
   "execution_count": null,
   "metadata": {
    "vscode": {
     "languageId": "python"
    }
   },
   "outputs": [],
   "source": [
    "# Measure repetition rate\n",
    "#measure_rep_rate(test_abdlop_quadratic_poly, rep_rate_abdlop_quadratic_poly)"
   ]
  },
  {
   "cell_type": "markdown",
   "metadata": {},
   "source": [
    "### 4.6 Proving Knowledge of a Module-LWE Secret"
   ]
  },
  {
   "cell_type": "markdown",
   "metadata": {},
   "source": [
    "Here, we provide the full protocol for proving knowledge of a Module-LWE secret $\\mathbf{s}_1$ such that $\\mathbf{A} \\mathbf{s}_1 + \\mathbf{e} = \\mathbf{u}$ and prove that $\\| (\\mathbf{s}_1, \\mathbf{e}) \\| \\leq \\mathcal{B}$\n",
    "\n",
    "This is a simplified version of the toolbox protocol in the next section, where we only left the parts relevant for this specific proof.\n",
    "\n",
    "In the code, we give references to the corresponding equations as described in [[Ngu22]](https://www.research-collection.ethz.ch/bitstream/handle/20.500.11850/574844/1/PhD_Thesis-3.pdf) (6.25, 6.33, 6.24, 6.26, 6.29)."
   ]
  },
  {
   "cell_type": "markdown",
   "metadata": {},
   "source": [
    "Private information: \n",
    "\n",
    "$$\n",
    "\\mathbf{s}_{1} \\in \\mathcal{R}_{q}^{m_1},\\, \\mathbf{m} = [\\,],\\, \\mathbf{s}_{2} \\in \\mathcal{R}_{q}^{m_2},\\, \\mathbf{\\vartheta} = \\vartheta_1 \\in \\{0, 1\\}\n",
    "$$\n",
    "\n",
    "Public information:\n",
    "\n",
    "$$\n",
    "\\mathbf{A}_{1} \\in {\\mathcal{R}}_{q}^{n \\times m_{1}},\\, \\mathbf{A}_{2} \\in {\\mathcal{R}}_{q}^{n \\times m_{2}},\\, \\mathbf{B} = [\\,],\\, \\mathbf{b} \\in {\\mathcal{R}}_{q}^{m_{2}},\n",
    "$$\n",
    "\n",
    "$$\n",
    "\\mathbf{B}_{\\gamma} \\in {\\mathcal{R}}_{q}^{256/d \\times m2},\\, \\mathbf{B}_{\\beta} \\in {\\mathcal{R}}_{q}^{1 \\times m2},\\, \\mathbf{B}_{\\text{ext}} \\in {\\mathcal{R}}_{q}^{\\lambda \\times m2},\\, \\mathbf{b}_{\\text{ext}} \\in {\\mathcal{R}}_{q}^{m2}\n",
    "$$\n",
    "\n",
    "$$\n",
    "{\\Bigg[}{\\begin{array}{l}{\\mathbf{t}_{A}} \\\\ {\\mathbf{t}_{B}}\\end{array}}{\\Bigg]} = {\\Bigg[}{\\begin{array}{l}{\\mathbf{A}_{1}} \\\\ {\\mathbf{0}}\\end{array}}{\\Bigg]} \\cdot {\\begin{bmatrix}{\\mathbf{s}_1} \\\\ {\\mathbf{\\vartheta}}\\end{bmatrix}} + {\\Bigg[}{\\begin{array}{l}{\\mathbf{A}_{2}} \\\\ {\\mathbf{B}}\\end{array}}{\\Bigg]} \\cdot \\mathbf{s}_{2} + {\\Bigg[}{\\begin{array}{l}{\\mathbf{0}} \\\\ {\\mathbf{m}}\\end{array}}{\\Bigg]}\n",
    "$$\n",
    "\n",
    "which with empty $\\mathbf{B}$ and $\\mathbf{m}$ becomes\n",
    "\n",
    "$$\n",
    "\\mathbf{t}_{A} = \\mathbf{A}_{1} \\cdot {\\begin{bmatrix}{\\mathbf{s}_1} \\\\ {\\mathbf{\\vartheta}}\\end{bmatrix}} + \\mathbf{A}_{2} \\cdot \\mathbf{s}_{2}.\n",
    "$$\n",
    "\n",
    "We prove knowledge of $\\mathbf{s}_1$ and a shortness bound in the Euclidean norm of\n",
    "\n",
    "$$\n",
    "\\|\\mathbf{E}_s \\mathbf{s}_1 + \\mathbf{E}_m \\mathbf{m} + \\mathbf{v}\\| \\leq \\mathcal{B}\n",
    "$$\n",
    "\n",
    "which is equivalent to proving knowledge of the binary polynomial $\\vartheta_1$ such that\n",
    "\n",
    "$$\n",
    "\\langle \\text{pow}(\\mathcal{B^2}), \\vartheta_1 \\rangle = \\mathcal{B}^2 - \\|\\mathbf{E}_s \\mathbf{s}_1 + \\mathbf{E}_m \\mathbf{m} + \\mathbf{v}\\|^2 \\quad \\text{over}\\, \\mathbb{Z}\n",
    "$$\n",
    "\n",
    "where $\\mathbf{E}_s = {\\begin{bmatrix}{\\mathbf{I}_m} \\\\ {\\mathbf{A}}\\end{bmatrix}},\\, \\mathbf{E}_m = [\\,],\\, \\mathbf{v} = -{\\begin{bmatrix}{\\mathbf{0}} \\\\ {\\mathbf{u}}\\end{bmatrix}}$.\n"
   ]
  },
  {
   "cell_type": "code",
   "execution_count": null,
   "metadata": {
    "vscode": {
     "languageId": "python"
    }
   },
   "outputs": [],
   "source": [
    "def get_J(n, k):\n",
    "    \"\"\"Get x from <x>_(sigma_(-1)) structure of sigma_n1_struct_vec(x)\"\"\"\n",
    "    return IM(n).tensor_product(sg.matrix(R_q, [1] + [0 for _ in range(k-1)]))\n",
    "\n",
    "\n",
    "def get_pow(B_square):\n",
    "    \"\"\"Get polynomial representing powers of 2 up to B_square\"\"\"\n",
    "    return R_q(sum([2**i * X_q**i for i in range(int(sg.log(B_square, 2)) + 1)]))\n",
    "\n",
    "\n",
    "def N_2_binary_Rq(x):\n",
    "    \"\"\"Represent positive integer as binary polynomial compatible with get_pow()\"\"\"\n",
    "    bin_rep = [int(i) for i in bin(x)[2:]]\n",
    "    bin_rep.reverse()\n",
    "    return R_q(bin_rep)\n"
   ]
  },
  {
   "cell_type": "code",
   "execution_count": null,
   "metadata": {
    "vscode": {
     "languageId": "python"
    }
   },
   "outputs": [],
   "source": [
    "def abdlop_mlwe(m1, m2, n, k, Z, n_is, lambd,\n",
    "                is_opti, rej_u_1, rej_u_2, rej_u_3, get_challenge_u,\n",
    "                std1, rep_M1, std2, rep_M2, std3, rep_M3, roh,\n",
    "                s1, s2, A1, A2, B_gamma, B_beta, B_ext, b_ext, theta, tA,\n",
    "                E_s_is, v_is, B_is):\n",
    "    \"\"\"\n",
    "    Prove knowledge of a Module-LWE Secret\n",
    "    \"\"\"\n",
    "    is_sigma_1 = False  # always uses sigma_n1 automorphism\n",
    "\n",
    "    #================================ Prover =================================\n",
    "    n_ex = sum(n_is) + Z\n",
    "    s3 = stack_vec_Rql([E_s_is[i]*s1 + v_is[i] for i in range(Z)]\n",
    "                       + [theta])\n",
    "\n",
    "    y3_smplr = GaussianSampler(R_q, std3, 256//d)\n",
    "    y3 = y3_smplr.get()\n",
    "    beta3 = random.choice([-1, 1])\n",
    "\n",
    "    t_gamma = B_gamma*s2 + y3\n",
    "    t_beta = B_beta*s2 + sg.vector([beta3])\n",
    "\n",
    "    #=============================== Verifier ================================\n",
    "    R_ = rand_ZZ_mat_binomial(256, n_ex * d, 2)\n",
    "\n",
    "    #================================ Prover =================================\n",
    "    Rs3 = ZZl_2_Rql(R_ * Rql_2_ZZl(s3))\n",
    "    z3 = y3 + beta3 * Rs3\n",
    "    if rej_u_3(z3, Rs3, std3, rep_M3):\n",
    "        return \"Rejected\"\n",
    "    \n",
    "    # Convenience matrices and vectors\n",
    "    U = get_U(2*(m1 + Z + 256//d + 1))\n",
    "    J = get_J(m1 + Z + 256//d + 1, 2)\n",
    "\n",
    "    e_is = [sg.vector(R_q, [R_q([1 if k + d*j == i else 0 for k in range(d)]) for j in range(256//d)])\n",
    "            for i in range(256)]\n",
    "\n",
    "    K_s = sg.block_matrix(R_q, [\n",
    "        [IM(m1), ZM(m1, Z), ZM(m1, 256//d + 1)]\n",
    "    ]) * J\n",
    "\n",
    "    k_theta_is = [stack_vec_Rql([zv(m1 + i), [1], zv(Z - i - 1 + 256//d + 1)]) * J for i in range(Z)]\n",
    "\n",
    "    K_y3 = sg.block_matrix(R_q, [\n",
    "        [ZM(256//d, m1 + Z), IM(256//d), ZM(256//d, 1)]\n",
    "    ]) * J\n",
    "\n",
    "    k_beta3 = (ZM(1, m1 + Z + 256//d).augment(sg.matrix(R_q, [1])) * J)[0]\n",
    "    \n",
    "    # Quadratic relations over Rq\n",
    "    R2_is = []\n",
    "    r1_is = []\n",
    "    r0_is = []\n",
    "    N = 0\n",
    "\n",
    "    # Quadratic relations over Zq\n",
    "    R2_p_is = []\n",
    "    r1_p_is = []\n",
    "    r0_p_is = []\n",
    "    M = 0\n",
    "\n",
    "    # Extend R2\n",
    "    # 6.25, 6.33\n",
    "    R2_is.extend([k_beta3.column() * k_beta3.row()])\n",
    "    r1_is.extend([zv(2 * (m1 + Z + 256//d + 1))])\n",
    "    r0_is.extend([R_q(-1)])\n",
    "\n",
    "    N = N + 1\n",
    "\n",
    "    # Extend R2_p\n",
    "    # Exact Shortness Extensions\n",
    "    # 6.24 (prove approximate shortness)\n",
    "    block_PsEsi = sg.block_matrix(R_q, [\n",
    "        [sg.block_matrix(R_q, [[E_s_is[j], ZM(n_is[j], Z)] for j in range(Z)])],\n",
    "        [sg.block_matrix(R_q, [[ZM(Z, m1), IM(Z)]])]\n",
    "    ])\n",
    "    block_Kskthetai = sg.block_matrix(R_q, [\n",
    "        [K_s], \n",
    "        [sg.block_matrix(R_q, [[k_theta_is[j].row()] for j in range(Z)])]\n",
    "    ])\n",
    "    block_PsEsi_Kskthetai = block_PsEsi * block_Kskthetai\n",
    "\n",
    "    R2_p_is.extend([\n",
    "        k_beta3.column()\n",
    "        * sigma_n1_vec(ZZl_2_Rql(R_[i])).row()\n",
    "        * block_PsEsi_Kskthetai\n",
    "    for i in range(256)])\n",
    "\n",
    "    block_fvi = stack_vec_Rql([v_is[j] for j in range(Z)] + [sg.zero_vector(Z)])\n",
    "\n",
    "    r1_p_is.extend([\n",
    "        sigma_n1_vec(e_is[i]) * K_y3\n",
    "        + (sigma_n1_vec(ZZl_2_Rql(R_[i])) * block_fvi * k_beta3)\n",
    "    for i in range(256)])\n",
    "\n",
    "    r0_p_is.extend([R_q(-dot_Rql(z3, e_is[i])) for i in range(256)])\n",
    "\n",
    "    M = M + 256\n",
    "\n",
    "    # 6.26 (prove beta3 in {-1, 1})\n",
    "    R2_p_is.extend([ZM(2*(m1 + Z + 256//d + 1), 2*(m1 + Z + 256//d + 1)) for i in range(1, d)])\n",
    "    r1_p_is.extend([X_q**i * k_beta3 for i in range(1, d)])\n",
    "    r0_p_is.extend([R_q(0) for i in range(1, d)])\n",
    "\n",
    "    M = M + (d - 1)\n",
    "\n",
    "    # Euclidean Norm Extensions\n",
    "    # 6.29 (exact shortness over Zq)\n",
    "    R2_p_is.extend([\n",
    "        U.transpose() * sigma_n1_mat(K_s).transpose()\n",
    "        * sigma_n1_mat(E_s_is[i]).transpose() * E_s_is[i]\n",
    "        * K_s\n",
    "    for i in range(Z)])\n",
    "\n",
    "    r1_p_is.extend([\n",
    "        v_is[i] * sigma_n1_mat(E_s_is[i]) * sigma_n1_mat(K_s) * U\n",
    "        + sigma_n1_vec(v_is[i]) * E_s_is[i] * K_s\n",
    "        + sigma_n1(get_pow(B_is[i]**2)) * k_theta_is[i]\n",
    "    for i in range(Z)])\n",
    "\n",
    "    r0_p_is.extend([R_q(dot_Rql(v_is[i], v_is[i]) - B_is[i]**2) for i in range(Z)])\n",
    "\n",
    "    M = M + Z\n",
    "\n",
    "    # Append (B_gamma, B_beta) to B, theta to s1, (y3, beta3) to m and (t_gamma, t_beta) to tB\n",
    "    B = B_gamma.stack(B_beta)\n",
    "    Bg = B_ext\n",
    "    b = b_ext\n",
    "\n",
    "    s1 = stack_vec_Rql([s1, theta])\n",
    "    m1 = m1 + Z\n",
    "    m = stack_vec_Rql([y3, [beta3]])\n",
    "    ell = 256//d + 1\n",
    "\n",
    "    tB = stack_vec_Rql([t_gamma, t_beta])\n",
    "\n",
    "    # Run quadratic poly sub-protocol\n",
    "    cond1 = abdlop_quadratic_poly(m1, m2, ell, n, k, N, M, lambd,\n",
    "                                  is_sigma_1, is_opti, rej_u_1, rej_u_2, get_challenge_u,\n",
    "                                  std1, rep_M1, std2, rep_M2,\n",
    "                                  s1, s2, m, A1, A2, B, Bg, b, tA, tB,\n",
    "                                  R2_is, r1_is, r0_is,\n",
    "                                  R2_p_is, r1_p_is, r0_p_is)\n",
    "    if cond1 == \"Rejected\":\n",
    "        return \"Rejected\"\n",
    "\n",
    "    #=============================== Verifier ================================\n",
    "    cond2 = (float(norm_Rql(z3)) <= float(roh * std3 * sg.sqrt(256)))\n",
    "\n",
    "    return cond1 and cond2\n"
   ]
  },
  {
   "cell_type": "markdown",
   "metadata": {},
   "source": [
    "#### Test Proving Knowledge of a Module-LWE Secret"
   ]
  },
  {
   "cell_type": "markdown",
   "metadata": {},
   "source": [
    "Here, we provide example parameters to test the Module-LWE secret proof."
   ]
  },
  {
   "cell_type": "code",
   "execution_count": null,
   "metadata": {
    "vscode": {
     "languageId": "python"
    }
   },
   "outputs": [],
   "source": [
    "def test_abdlop_mlwe():\n",
    "    \"\"\"Call abdlop_mlwe with example parameters\"\"\"\n",
    "\n",
    "    # Size parameters\n",
    "    m1 = 8     # size of s1\n",
    "    m2 = 25    # size of s2\n",
    "    n = 9      # dimension of the Module-SIS problem\n",
    "    Z = 1      # number of equations for Euclidean norm\n",
    "    lambd = 4  # number of random masking polynomials (boosting soundness to q1^-lambda)\n",
    "    n_A = 8    # height of A matrix\n",
    "    m_A = m1   # width of A matrix (must be same size as m1)\n",
    "\n",
    "    # Algorithm parameters\n",
    "    is_opti = False  # proof size optimized sigma_n1 version with reduced garbage commitments\n",
    "    if is_opti:\n",
    "        lambd = lambd//2  # reduced garbage commitments\n",
    "    \n",
    "    k = k_sigma_n1                      # degree of automorphism\n",
    "    eta = eta_challenge_v2              # challenge norm upper bound\n",
    "    get_challenge_u = get_challenge_v2  # challenge sampling algorithm\n",
    "\n",
    "    rej_u_1 = rej1  # rejection sampling algorithm\n",
    "    rej_u_2 = rej2\n",
    "    rej_u_3 = rej_bimodal\n",
    "\n",
    "    gamma1 = 19  # repetition rate parameter\n",
    "    nu_s1 = 1    # s1 max coefficient\n",
    "    alpha_s1 = norm_Rql_bound(m1, nu_s1)  # s1 norm upper bound\n",
    "    std1 = gamma1 * eta * sg.sqrt(alpha_s1**2 + d)  # standard deviation\n",
    "    rep_M1 = rej1_M(gamma1)  # repetition rate\n",
    "\n",
    "    gamma2 = 1\n",
    "    nu_s2 = 1\n",
    "    alpha_s2 = norm_Rql_bound(m2, nu_s2)\n",
    "    std2 = gamma2 * eta * alpha_s2\n",
    "    rep_M2 = rej2_M(gamma2)\n",
    "\n",
    "    # Private information\n",
    "    s1 = rand_Rql_small(m1, nu_s1)  # ABDLOP Ajtai part message vector\n",
    "    s2 = rand_Rql_small(m2, nu_s2)  # ABDLOP randomness vector\n",
    "\n",
    "    # Public information\n",
    "    # ABDLOP commitment\n",
    "    A1 = rand_Rq_mat(n, m1 + Z)\n",
    "    A2 = rand_Rq_mat(n, m2)\n",
    "    B_gamma = rand_Rq_mat(256//d, m2)\n",
    "    B_beta = rand_Rq_mat(1, m2)\n",
    "    B_ext = rand_Rq_mat(lambd, m2)\n",
    "    b_ext = rand_Rql(m2)\n",
    "\n",
    "    # MLWE\n",
    "    A = rand_Rq_mat(n_A, m_A)\n",
    "    e = rand_Rql_bin(m_A)\n",
    "    u = A * s1 + e\n",
    "\n",
    "    # Shortness in the Euclidean norm\n",
    "    n_is = [m_A + m_A]  # size of vectors for Euclidean norm equations\n",
    "    E_s_is = [IM(m_A).stack(A)]\n",
    "    v_is = [-stack_vec_Rql([zv(m_A), u])]\n",
    "    norms = [norm_Rql(E_s_is[0]*s1 + v_is[0])]\n",
    "    B_is = [sg.sqrt(2048)]  # integer Euclidean norm bound (sqrt(2048) is upper bound of norm for nu_s1 = 1)\n",
    "\n",
    "    gamma3 = 6\n",
    "    std3 = gamma3 * sg.sqrt(337) * sg.sqrt(d + B_is[0]**2)\n",
    "    rep_M3 = rej_bimodal_M(gamma3)\n",
    "\n",
    "    global rep_rate_abdlop_mlwe\n",
    "    rep_rate_abdlop_mlwe = rep_M1 * 2*rep_M2 * rep_M3\n",
    "\n",
    "    roh = 1.64  # z3 norm bound (for kappa=128)\n",
    "\n",
    "    # ABDLOP tA\n",
    "    squared_norm_diffs = [B_is[0]**2 - round(norms[0]**2)]  # squared norm is always an int (round float errors)\n",
    "    theta = sg.vector(R_q, [N_2_binary_Rq(squared_norm_diffs[0])])\n",
    "    tA = A1 * stack_vec_Rql([s1, theta]) + A2 * s2  # ABDLOP tA\n",
    "\n",
    "    return abdlop_mlwe(m1, m2, n, k, Z, n_is, lambd,\n",
    "                       is_opti, rej_u_1, rej_u_2, rej_u_3, get_challenge_u,\n",
    "                       std1, rep_M1, std2, rep_M2, std3, rep_M3, roh,\n",
    "                       s1, s2, A1, A2, B_gamma, B_beta, B_ext, b_ext, theta, tA,\n",
    "                       E_s_is, v_is, B_is)\n"
   ]
  },
  {
   "cell_type": "code",
   "execution_count": null,
   "metadata": {
    "vscode": {
     "languageId": "python"
    }
   },
   "outputs": [],
   "source": [
    "# Run protocol with example parameters and repeat on rejection until acceptance\n",
    "repeat_until_accept(test_abdlop_mlwe)"
   ]
  },
  {
   "cell_type": "code",
   "execution_count": null,
   "metadata": {
    "vscode": {
     "languageId": "python"
    }
   },
   "outputs": [],
   "source": [
    "# This will take a few minutes!\n",
    "\n",
    "# Measure repetition rate\n",
    "#measure_rep_rate(test_abdlop_mlwe, rep_rate_abdlop_mlwe)"
   ]
  },
  {
   "cell_type": "markdown",
   "metadata": {},
   "source": [
    "### 4.7 Toolbox for Proving Lattice Relations"
   ]
  },
  {
   "cell_type": "markdown",
   "metadata": {},
   "source": [
    "This is a general protocol for proving various lattice relations by combining all the techniques discussed in previous sections. It can for example be instantiated to provide proofs for verifiable encryption or group signature schemes.\n",
    "\n",
    "In the code, we give references to the corresponding equations as described in [[Ngu22]](https://www.research-collection.ethz.ch/bitstream/handle/20.500.11850/574844/1/PhD_Thesis-3.pdf) (6.20, 6.25, 6.33, 6.21, 6.24, 6.26, 6.27, 6.28, 6.29, 6.32, 6.34)."
   ]
  },
  {
   "cell_type": "markdown",
   "metadata": {},
   "source": [
    "Private information: \n",
    "\n",
    "$$\n",
    "\\mathbf{s}_{1} \\in \\mathcal{R}_{q}^{m_1},\\, \\mathbf{m} \\in \\mathcal{R}_{q}^{\\ell},\\, \\mathbf{s}_{2} \\in \\mathcal{R}_{q}^{m_2},\\, \\mathbf{\\vartheta} = (\\vartheta_1, ..., \\vartheta_Z) \\in \\{0, 1\\}^{Zd}\n",
    "$$\n",
    "\n",
    "Public information:\n",
    "\n",
    "$$\n",
    "\\mathbf{A}_{1} \\in {\\mathcal{R}}_{q}^{n \\times m_{1}},\\, \\mathbf{A}_{2} \\in {\\mathcal{R}}_{q}^{n \\times m_{2}},\\, \\mathbf{B} \\in {\\mathcal{R}}_{q}^{\\ell \\times m_{2}},\\, \\mathbf{b} \\in {\\mathcal{R}}_{q}^{m_{2}},\n",
    "$$\n",
    "\n",
    "$$\n",
    "\\mathbf{B}_{\\gamma} \\in {\\mathcal{R}}_{q}^{2*256/d \\times m2},\\, \\mathbf{B}_{\\beta} \\in {\\mathcal{R}}_{q}^{2 \\times m2},\\, \\mathbf{B}_{\\text{ext}} \\in {\\mathcal{R}}_{q}^{\\lambda \\times m2},\\, \\mathbf{b}_{\\text{ext}} \\in {\\mathcal{R}}_{q}^{m2}\n",
    "$$\n",
    "\n",
    "$$\n",
    "{\\Bigg[}{\\begin{array}{l}{\\mathbf{t}_{A}} \\\\ {\\mathbf{t}_{B}}\\end{array}}{\\Bigg]} = {\\Bigg[}{\\begin{array}{l}{\\mathbf{A}_{1}} \\\\ {\\mathbf{0}}\\end{array}}{\\Bigg]} \\cdot {\\begin{bmatrix}{\\mathbf{s}_1} \\\\ {\\mathbf{\\vartheta}}\\end{bmatrix}} + {\\Bigg[}{\\begin{array}{l}{\\mathbf{A}_{2}} \\\\ {\\mathbf{B}}\\end{array}}{\\Bigg]} \\cdot \\mathbf{s}_{2} + {\\Bigg[}{\\begin{array}{l}{\\mathbf{0}} \\\\ {\\mathbf{m}}\\end{array}}{\\Bigg]}\n",
    "$$\n",
    "\n",
    "We prove knowledge of the secret vectors $\\mathbf{s_1} \\in \\mathcal{R_q^{m_1}}$ and $\\mathbf{m} \\in \\mathcal{R_q^{\\ell}}$ which satisfy all the following relations (with $\\sigma = \\sigma_{-1}$):\n",
    "\n",
    "1.) *Quadratic relations over $\\mathcal{R}_q$ with automorphisms.* For $i \\in [N]$ and public \n",
    "\n",
    "$$\n",
    "{(\\mathbf{R}_{i,2}, \\mathbf{r}_{i,1}, r_{i,0}) \\in \\mathcal{R}_q^{2(m_1 + \\ell) \\times 2(m_1 + \\ell)} \\times \\mathcal{R}_q^{2(m_1 + \\ell)} \\times \\mathcal{R}_q}:\n",
    "$$\n",
    "\n",
    "$$\n",
    "{\\langle \\mathbf{s}_1 || \\mathbf{m} \\rangle_{\\sigma}^{T}} \\mathbf{R}_{i,2} {\\langle \\mathbf{s}_1 || \\mathbf{m} \\rangle_{\\sigma}} + \\mathbf{r}_{i,1}^{T} {\\langle \\mathbf{s}_1 || \\mathbf{m} \\rangle_{\\sigma}} + r_{i,0} = 0.\n",
    "$$\n",
    "\n",
    "2.) *Quadratic relations over $\\mathbb{Z}_q$ with automorphisms.* For $i \\in [M]$ and public \n",
    "\n",
    "$$\n",
    "(\\mathbf{R}'_{i,2}, \\mathbf{r}'_{i,1}, r'_{i,0}) \\in \\mathcal{R}_q^{2(m_1 + \\ell) \\times 2(m_1 + \\ell)} \\times \\mathcal{R}_q^{2(m_1 + \\ell)} \\times \\mathcal{R}_q:\n",
    "$$\n",
    "\n",
    "$$\n",
    "\\text{const. coeff. of}\\; {\\langle \\mathbf{s}_1 || \\mathbf{m} \\rangle_{\\sigma}^{T}} \\mathbf{R}'_{i,2} {\\langle \\mathbf{s}_1 || \\mathbf{m} \\rangle_{\\sigma}} + \\mathbf{r}_{i,1}^{'T} {\\langle \\mathbf{s}_1 || \\mathbf{m} \\rangle_{\\sigma}} + r'_{i,0}\\; \\text{equals}\\, 0.\n",
    "$$\n",
    "\n",
    "3.) *Shortness in the infinity norm.* The following polynomial vector has binary coefficients for public \n",
    "\n",
    "$$\n",
    "{\\mathbf{P}_{s} \\in \\mathcal{R}_q^{n_{\\text{bin} \\times m_1}},\\, \\mathbf{P}_{m} \\in \\mathcal{R}_q^{n_{\\text{bin} \\times \\ell}}\\,}, {\\,\\mathbf{f} \\in \\mathcal{R}_q^{n_{\\text{bin}}}}:\n",
    "$$\n",
    "\n",
    "$$\n",
    "\\mathbf{P}_{s} \\mathbf{s}_1 + \\mathbf{P}_{m} \\mathbf{m} + \\mathbf{f} \\in \\{ 0,1 \\}^{n_{\\text{bin}}d}\n",
    "$$\n",
    "\n",
    "4.) *Shortness in the Euclidean norm.* For $i \\in [Z]$, public \n",
    "\n",
    "$$\n",
    "\\text{bound}\\; \\mathcal{B}_i,\\, \\mathbf{E}_s^{(i)} \\in \\mathcal{R}_q^{n_i \\times m_1},\\, \\mathbf{E}_m^{(i)} \\in \\mathcal{R}_q^{n_i \\times \\ell},\\, \\mathbf{v}_s^{(i)} \\in \\mathcal{R}_q^{n_i}:\n",
    "$$\n",
    "\n",
    "$$\n",
    "\\|\\mathbf{E}_s^{(i)} \\mathbf{s}_1 + \\mathbf{E}_m^{(i)} \\mathbf{m} + \\mathbf{v}^{(i)}\\| \\leq \\mathcal{B}_i\n",
    "$$\n",
    "\n",
    "which is equivalent to proving knowledge of the binary polynomial $\\vartheta_{i}$ such that\n",
    "\n",
    "$$\n",
    "\\langle \\text{pow}(\\mathcal{B_i^2}), \\vartheta_i \\rangle = \\mathcal{B}_i^2 - \\|\\mathbf{E}_s^{(i)} \\mathbf{s}_1 + \\mathbf{E}_m^{(i)} \\mathbf{m} + \\mathbf{v}^{(i)}\\|^2 \\quad \\text{over}\\, \\mathbb{Z}.\n",
    "$$\n",
    "\n",
    "5.) *Approximate Shortness.* For a public bound $\\mathcal{B_i}$\n",
    "\n",
    "$$\n",
    "\\mathbf{D}_s \\in \\mathcal{R}_q^{n' \\times m_1},\\, \\mathbf{D}_m \\in \\mathcal{R}_q^{n' \\times \\ell,\\, \\mathbf{u} \\in \\mathcal{R}_q^{n'}}:\n",
    "$$\n",
    "\n",
    "$$\n",
    "\\|\\mathbf{D}_s\\mathbf{s}_1 + \\mathbf{D}_m \\mathbf{m} + \\mathbf{u}\\| \\leq \\mathcal{B}_i\n",
    "$$\n",
    "\n",
    "however, we are fine with convincing the verifier that\n",
    "\n",
    "$$\n",
    "\\|\\mathbf{D}_s\\mathbf{s}_1 + \\mathbf{D}_m \\mathbf{m} + \\mathbf{u}\\|_{\\infty} \\leq \\psi \\mathcal{B}_i\n",
    "$$\n",
    "\n",
    "where $\\psi > 1$ is a public approximation factor.\n"
   ]
  },
  {
   "cell_type": "code",
   "execution_count": null,
   "metadata": {
    "vscode": {
     "languageId": "python"
    }
   },
   "outputs": [],
   "source": [
    "def abdlop_toolbox(m1, m2, ell, n, k, N, M, n_bin, Z, n_is, n_p, lambd,\n",
    "                   is_opti, rej_u_1, rej_u_2, rej_u_3, rej_u_4, get_challenge_u,\n",
    "                   std1, rep_M1, std2, rep_M2, std3, rep_M3, std4, rep_M4, roh,\n",
    "                   s1, s2, m, A1, A2, B, B_gamma, B_beta, B_ext, b_ext, theta, tA, tB,\n",
    "                   R2_is, r1_is, r0_is,\n",
    "                   R2_p_is, r1_p_is, r0_p_is,\n",
    "                   P_s, P_m, f,\n",
    "                   E_s_is, E_m_is, v_is, B_is,\n",
    "                   D_s, D_m, u, B_p):\n",
    "    \"\"\"\n",
    "    ABDLOP toolbox to prove various quadratic relations\n",
    "    - Quadratic relations over Rq\n",
    "    - Quadratic relations over Zq\n",
    "    - Shortness in the infinity norm\n",
    "    - Shortness in the Euclidean norm\n",
    "    - Approximate shortness\n",
    "    \"\"\"\n",
    "    is_sigma_1 = False  # always uses sigma_n1 automorphism\n",
    "\n",
    "    #================================ Prover =================================\n",
    "    n_ex = n_bin + sum(n_is) + Z\n",
    "    s3 = stack_vec_Rql([P_s*s1 + P_m*m + f]\n",
    "                       + [E_s_is[i]*s1 + E_m_is[i]*m + v_is[i] for i in range(Z)]\n",
    "                       + [theta])\n",
    "    s4 = D_s*s1 + D_m*m + u\n",
    "\n",
    "    y3_smplr = GaussianSampler(R_q, std3, 256//d)\n",
    "    y3 = y3_smplr.get()\n",
    "    y4_smplr = GaussianSampler(R_q, std4, 256//d)\n",
    "    y4 = y4_smplr.get()\n",
    "    beta3 = random.choice([-1, 1])\n",
    "    beta4 = random.choice([-1, 1])\n",
    "\n",
    "    t_gamma = B_gamma*s2 + stack_vec_Rql([y3, y4])\n",
    "    t_beta = B_beta*s2 + sg.vector([beta3, beta4])\n",
    "\n",
    "    #=============================== Verifier ================================\n",
    "    R_ = rand_ZZ_mat_binomial(256, n_ex * d, 2)\n",
    "    R_p = rand_ZZ_mat_binomial(256, n_p * d, 2)\n",
    "\n",
    "    #================================ Prover =================================\n",
    "    Rs3 = ZZl_2_Rql(R_ * Rql_2_ZZl(s3))\n",
    "    z3 = y3 + beta3 * Rs3\n",
    "    if rej_u_3(z3, Rs3, std3, rep_M3):\n",
    "        return \"Rejected\"\n",
    "\n",
    "    Rps4 = ZZl_2_Rql(R_p * Rql_2_ZZl(s4))\n",
    "    z4 = y4 + beta4 * Rps4\n",
    "    if rej_u_4(z4, Rps4, std4, rep_M4):\n",
    "        return \"Rejected\"\n",
    "    \n",
    "    # Convenience matrices and vectors\n",
    "    U = get_U(2*(m1 + Z + ell + 512//d + 2))\n",
    "    J = get_J(m1 + Z + ell + 512//d + 2, 2)\n",
    "\n",
    "    e_is = [sg.vector(R_q, [R_q([1 if k + d*j == i else 0 for k in range(d)]) for j in range(256//d)])\n",
    "            for i in range(256)]\n",
    "\n",
    "    K_s = sg.block_matrix(R_q, [\n",
    "        [IM(m1), ZM(m1, Z), ZM(m1, ell), ZM(m1, 512//d + 2)],\n",
    "        [ZM(ell, m1), ZM(ell, Z), IM(ell), ZM(ell, 512//d + 2)]\n",
    "    ]) * J\n",
    "\n",
    "    K_s_sigma = sg.block_matrix(R_q, [\n",
    "        [IM(2*m1), ZM(2*m1, 2*Z), ZM(2*m1, 2*ell),\n",
    "         ZM(2*m1, 2*(512//d + 2))],\n",
    "        [ZM(2*ell, 2*m1), ZM(2*ell, 2*Z), IM(2*ell),\n",
    "         ZM(2*ell, 2*(512//d + 2))]\n",
    "    ])\n",
    "\n",
    "    k_theta_is = [stack_vec_Rql([zv(m1 + i), [1], zv(Z - i - 1 + ell + 512//d + 2)]) * J\n",
    "                  for i in range(Z)]\n",
    "\n",
    "    K_y3_K_y4 = sg.block_matrix(R_q, [\n",
    "        [ZM(256//d, m1 + Z + ell), IM(256//d), ZM(256//d, 256//d),\n",
    "         ZM(256//d, 2)],\n",
    "        [ZM(256//d, m1 + Z + ell), ZM(256//d, 256//d), IM(256//d),\n",
    "         ZM(256//d, 2)]\n",
    "    ]) * J\n",
    "    K_y3 = K_y3_K_y4[:256//d]\n",
    "    K_y4 = K_y3_K_y4[256//d:]\n",
    "\n",
    "    k_beta3_k_beta4 = sg.block_matrix(R_q, [\n",
    "        [ZM(1, m1 + Z + ell + 512//d), sg.matrix(R_q, [1, 0])],\n",
    "        [ZM(1, m1 + Z + ell + 512//d), sg.matrix(R_q, [0, 1])]\n",
    "    ]) * J\n",
    "    k_beta3 = k_beta3_k_beta4[0]\n",
    "    k_beta4 = k_beta3_k_beta4[1]\n",
    "\n",
    "    # Extend R2    \n",
    "    # 6.20\n",
    "    R2_is = [K_s_sigma.transpose() * R2_is[i] * K_s_sigma for i in range(N)]\n",
    "    r1_is = [r1_is[i] * K_s_sigma for i in range(N)]    \n",
    "    \n",
    "    # 6.25, 6.33\n",
    "    R2_is.extend([k_beta3.column() * k_beta3.row(), k_beta4.column() * k_beta4.row()])\n",
    "    r1_is.extend([zv(2 * (m1 + Z + ell + 512//d + 2)), zv(2 * (m1 + Z + ell + 512//d + 2))])\n",
    "    r0_is.extend([R_q(-1), R_q(-1)])\n",
    "\n",
    "    N = N + 2\n",
    "\n",
    "    # Extend R2_p\n",
    "    # 6.21\n",
    "    R2_p_is = [K_s_sigma.transpose() * R2_p_is[i] * K_s_sigma for i in range(M)]\n",
    "    r1_p_is = [r1_p_is[i] * K_s_sigma for i in range(M)]   \n",
    "\n",
    "    # Exact Shortness Extensions\n",
    "    # 6.24\n",
    "    block_PsEsi = sg.block_matrix(R_q, [\n",
    "        [sg.block_matrix(R_q, [[P_s, P_m, ZM(n_bin, Z)]])], \n",
    "        [sg.block_matrix(R_q, [[E_s_is[j], E_m_is[j], ZM(n_is[j], Z)] for j in range(Z)])],\n",
    "        [sg.block_matrix(R_q, [[ZM(Z, m1), ZM(Z, ell), IM(Z)]])]\n",
    "    ])\n",
    "    block_Kskthetai = sg.block_matrix(R_q, [\n",
    "        [K_s], \n",
    "        [sg.block_matrix(R_q, [[k_theta_is[j].row()] for j in range(Z)])]\n",
    "    ])\n",
    "    block_PsEsi_Kskthetai = block_PsEsi * block_Kskthetai\n",
    "\n",
    "    R2_p_is.extend([\n",
    "        k_beta3.column()\n",
    "        * sigma_n1_vec(ZZl_2_Rql(R_[i])).row()\n",
    "        * block_PsEsi_Kskthetai\n",
    "    for i in range(256)])\n",
    "\n",
    "    block_fvi = stack_vec_Rql([f] + [v_is[j] for j in range(Z)] + [sg.zero_vector(Z)])\n",
    "\n",
    "    r1_p_is.extend([\n",
    "        sigma_n1_vec(e_is[i]) * K_y3\n",
    "        + (sigma_n1_vec(ZZl_2_Rql(R_[i])) * block_fvi * k_beta3)\n",
    "    for i in range(256)])\n",
    "\n",
    "    r0_p_is.extend([R_q(-dot_Rql(z3, e_is[i])) for i in range(256)])\n",
    "\n",
    "    M = M + 256\n",
    "\n",
    "    # 6.26\n",
    "    R2_p_is.extend([ZM(2*(m1 + Z + ell + 512//d + 2), 2*(m1 + Z + ell + 512//d + 2)) for i in range(1, d)])\n",
    "    r1_p_is.extend([X_q**i * k_beta3 for i in range(1, d)])\n",
    "    r0_p_is.extend([R_q(0) for i in range(1, d)])\n",
    "\n",
    "    M = M + (d - 1)\n",
    "\n",
    "    # Infinity Norm Extensions\n",
    "    x = sg.vector(R_q, [R_q([1 for _ in range(d)]) for i in range(n_bin)])\n",
    "\n",
    "    # 6.27\n",
    "    R2_p_is.extend([\n",
    "        U.transpose() * sigma_n1_mat(K_s).transpose() \n",
    "        * sg.block_matrix(R_q, [\n",
    "            [sigma_n1_mat(P_s).transpose() * P_s, sigma_n1_mat(P_s).transpose() * P_m],\n",
    "            [sigma_n1_mat(P_m).transpose() * P_s, sigma_n1_mat(P_m).transpose() * P_m]\n",
    "        ])\n",
    "        * K_s\n",
    "    ])\n",
    "\n",
    "    r1_p_is.extend([\n",
    "        (f - x) * sg.block_matrix([[sigma_n1_mat(P_s), sigma_n1_mat(P_m)]]) * sigma_n1_mat(K_s) * U\n",
    "        + sigma_n1_vec(f) * sg.block_matrix([[P_s, P_m]]) * K_s\n",
    "    ])\n",
    "\n",
    "    r0_p_is.extend([R_q(dot_Rql(f, f - x))])\n",
    "\n",
    "    M = M + 1\n",
    "\n",
    "    # 6.28\n",
    "    R2_p_is.extend([U.transpose() * sigma_n1_vec(k_theta_is[i]).column() * k_theta_is[i].row() for i in range(Z)])\n",
    "    r1_p_is.extend([R_q([-1 for _ in range(d)]) * sigma_n1_vec(k_theta_is[i]) * U for i in range(Z)])\n",
    "    r0_p_is.extend([R_q(0) for i in range(Z)])\n",
    "\n",
    "    M = M + Z\n",
    "\n",
    "    # Euclidean Norm Extensions\n",
    "    # 6.29\n",
    "    R2_p_is.extend([\n",
    "        U.transpose() * sigma_n1_mat(K_s).transpose()\n",
    "        * sg.block_matrix(R_q, [\n",
    "            [sigma_n1_mat(E_s_is[i]).transpose() * E_s_is[i], sigma_n1_mat(E_s_is[i]).transpose() * E_m_is[i]],\n",
    "            [sigma_n1_mat(E_m_is[i]).transpose() * E_s_is[i], sigma_n1_mat(E_m_is[i]).transpose() * E_m_is[i]]\n",
    "        ])\n",
    "        * K_s\n",
    "    for i in range(Z)])\n",
    "\n",
    "    r1_p_is.extend([\n",
    "        v_is[i] * sg.block_matrix(R_q, [[sigma_n1_mat(E_s_is[i]), sigma_n1_mat(E_m_is[i])]]) * sigma_n1_mat(K_s) * U\n",
    "        + sigma_n1_vec(v_is[i]) * sg.block_matrix(R_q, [[E_s_is[i], E_m_is[i]]]) * K_s\n",
    "        + sigma_n1(get_pow(B_is[i]**2)) * k_theta_is[i]\n",
    "    for i in range(Z)])\n",
    "\n",
    "    r0_p_is.extend([R_q(dot_Rql(v_is[i], v_is[i]) - B_is[i]**2) for i in range(Z)])\n",
    "\n",
    "    M = M + Z\n",
    "\n",
    "    # Approximate Shortness\n",
    "    # 6.32\n",
    "    R2_p_is.extend([k_beta4.column() * sigma_n1_vec(ZZl_2_Rql(R_p[i])).row() * sg.block_matrix(R_q, [[D_s, D_m]]) * K_s\n",
    "                    for i in range(256)])\n",
    "    r1_p_is.extend([sigma_n1_vec(e_is[i]) * K_y4 + sigma_n1_vec(ZZl_2_Rql(R_p[i])) * u * k_beta4 for i in range(256)])\n",
    "    r0_p_is.extend([R_q(-dot_Rql(z4, e_is[i])) for i in range(256)])\n",
    "\n",
    "    M = M + 256\n",
    "\n",
    "    # 6.34\n",
    "    R2_p_is.extend([ZM(2*(m1 + Z + ell + 512//d + 2), 2*(m1 + Z + ell + 512//d + 2)) for i in range(1, d)])\n",
    "    r1_p_is.extend([X_q**i * k_beta4 for i in range(1, d)])\n",
    "    r0_p_is.extend([R_q(0) for i in range(1, d)])\n",
    "\n",
    "    M = M + (d - 1)\n",
    "\n",
    "    # Append (B_gamma, B_beta) to B, theta to s1, (y3, y4, beta3, beta4) to m and (t_gamma, t_beta) to tB\n",
    "    B = B.stack(B_gamma).stack(B_beta)\n",
    "    Bg = B_ext\n",
    "    b = b_ext\n",
    "\n",
    "    s1 = stack_vec_Rql([s1, theta])\n",
    "    m1 = m1 + Z\n",
    "    m = stack_vec_Rql([m, y3, y4, [beta3], [beta4]])\n",
    "    ell = ell + 256//d + 256//d + 1 + 1\n",
    "\n",
    "    tB = stack_vec_Rql([tB, t_gamma, t_beta])\n",
    "\n",
    "    # Run quadratic poly sub-protocol\n",
    "    cond1 = abdlop_quadratic_poly(m1, m2, ell, n, k, N, M, lambd,\n",
    "                                  is_sigma_1, is_opti, rej_u_1, rej_u_2, get_challenge_u,\n",
    "                                  std1, rep_M1, std2, rep_M2,\n",
    "                                  s1, s2, m, A1, A2, B, Bg, b, tA, tB,\n",
    "                                  R2_is, r1_is, r0_is,\n",
    "                                  R2_p_is, r1_p_is, r0_p_is)\n",
    "    if cond1 == \"Rejected\":\n",
    "        return \"Rejected\"\n",
    "\n",
    "    #=============================== Verifier ================================\n",
    "    cond2 = (float(norm_Rql(z3)) <= float(roh * std3 * sg.sqrt(256)))\n",
    "    cond3 = (float(inf_norm_Rql(z4)) <= float(sg.sqrt(2 * kappa) * std4))\n",
    "\n",
    "    return cond1 and cond2 and cond3\n"
   ]
  },
  {
   "cell_type": "markdown",
   "metadata": {},
   "source": [
    "#### Test Toolbox for Proving Lattice Relations"
   ]
  },
  {
   "cell_type": "markdown",
   "metadata": {},
   "source": [
    "Here, we provide example parameters to test toolbox proofs."
   ]
  },
  {
   "cell_type": "code",
   "execution_count": null,
   "metadata": {
    "vscode": {
     "languageId": "python"
    }
   },
   "outputs": [],
   "source": [
    "def test_abdlop_toolbox():\n",
    "    \"\"\"Call abdlop_toolbox with example parameters\"\"\"\n",
    "\n",
    "    # Size parameters\n",
    "    m1 = 8     # size of s1\n",
    "    m2 = 25    # size of s2\n",
    "    ell = 2    # size of m\n",
    "    n = 9      # dimension of the Module-SIS problem\n",
    "    N = 2      # number of quadratic equations\n",
    "    M = 3      # number of quadratic polynomials with constant coefficient zero\n",
    "    n_bin = 3  # size of infinity norm vector\n",
    "    Z = 2      # number of equations for Euclidean norm\n",
    "    n_is = random.choices(range(1, 4), k=Z)  # size of vectors for Euclidean norm equations\n",
    "    n_p = 3    # size of approximate shortness vector\n",
    "    lambd = 4  # number of random masking polynomials (boosting soundness to q1^-lambda)\n",
    "   \n",
    "    # Algorithm parameters\n",
    "    is_opti = False  # proof size optimized sigma_n1 version with reduced garbage commitments\n",
    "    if is_opti:\n",
    "        lambd = lambd//2  # reduced garbage commitments\n",
    "\n",
    "    k = k_sigma_n1                      # degree of automorphism\n",
    "    eta = eta_challenge_v2              # challenge norm upper bound\n",
    "    get_challenge_u = get_challenge_v2  # challenge sampling algorithm\n",
    "\n",
    "    rej_u_1 = rej1  # rejection sampling algorithm\n",
    "    rej_u_2 = rej2\n",
    "    rej_u_3 = rej_bimodal\n",
    "    rej_u_4 = rej_bimodal\n",
    "\n",
    "    gamma1 = 19  # repetition rate parameter\n",
    "    nu_s1 = 1    # s1 max coefficient\n",
    "    alpha_s1 = norm_Rql_bound(m1, nu_s1)  # s1 norm upper bound\n",
    "    std1 = gamma1 * eta * sg.sqrt(alpha_s1**2 + d)  # standard deviation\n",
    "    rep_M1 = rej1_M(gamma1)  # repetition rate\n",
    "\n",
    "    gamma2 = 2\n",
    "    nu_s2 = 1\n",
    "    alpha_s2 = norm_Rql_bound(m2, nu_s2)\n",
    "    std2 = gamma2 * eta * alpha_s2\n",
    "    rep_M2 = rej2_M(gamma2)\n",
    "\n",
    "    # Private information\n",
    "    s1 = rand_Rql_small(m1, nu_s1)  # ABDLOP Ajtai part message vector\n",
    "    s2 = rand_Rql_small(m2, nu_s2)  # ABDLOP randomness vector\n",
    "    m = rand_Rql(ell)               # ABDLOP BDLOP part message vector\n",
    "    s = sigma_n1_struct_vec(stack_vec_Rql([s1, m]))\n",
    "\n",
    "    # Public information\n",
    "    # ABDLOP commitment\n",
    "    A1 = rand_Rq_mat(n, m1 + Z)\n",
    "    A2 = rand_Rq_mat(n, m2)\n",
    "    B = rand_Rq_mat(ell, m2)\n",
    "    B_gamma = rand_Rq_mat(512//d, m2)\n",
    "    B_beta = rand_Rq_mat(2, m2)\n",
    "    B_ext = rand_Rq_mat(lambd, m2)\n",
    "    b_ext = rand_Rql(m2)\n",
    "\n",
    "    # Quadratic relations over Rq\n",
    "    R2_is = [rand_Rq_mat(k * (m1 + ell), k * (m1 + ell)) for i in range(N)]\n",
    "    r1_is = [rand_Rql(k * (m1 + ell)) for i in range(N)]\n",
    "    r0_is = [-(s.dot_product(R2_is[i] * s) + r1_is[i].dot_product(s)) for i in range(N)]\n",
    "\n",
    "    # Quadratic relations over Zq\n",
    "    R2_p_is = [rand_Rq_mat_first_zero(k * (m1 + ell), k * (m1 + ell)) for i in range(M)]\n",
    "    r1_p_is = [rand_Rql_first_zero(k * (m1 + ell)) for i in range(M)]\n",
    "    r0_p_is = [-(s.dot_product(R2_p_is[i] * s) + r1_p_is[i].dot_product(s)) for i in range(M)]\n",
    "\n",
    "    # Shortness in the infinity norm\n",
    "    P_s = rand_Rq_mat(n_bin, m1)\n",
    "    P_m = rand_Rq_mat(n_bin, ell)\n",
    "    f = -(P_s*s1 + P_m*m) + rand_Rql_bin(n_bin)  # P_s*s1 + P_m*m + f is polynomial vector with binary coefficients\n",
    "\n",
    "    # Shortness in the Euclidean norm\n",
    "    E_s_is = [rand_Rq_mat(n_is[i], m1) for i in range(Z)]\n",
    "    E_m_is = [rand_Rq_mat(n_is[i], ell) for i in range(Z)]\n",
    "    v_is = [-(E_s_is[i]*s1 + E_m_is[i]*m) + rand_Rql_bin(n_is[i]) for i in range(Z)]\n",
    "    norms = [norm_Rql(E_s_is[i]*s1 + E_m_is[i]*m + v_is[i]) for i in range(Z)]\n",
    "    B_is = [int(norms[i] + 2) for i in range(Z)]  # integer Euclidean norm bounds, all B_is should be < sqrt(q)\n",
    "\n",
    "    gamma3 = 6\n",
    "    std3 = gamma3 * sg.sqrt(337) * sg.sqrt(d + B_is[0]**2)\n",
    "    rep_M3 = rej_bimodal_M(gamma3)\n",
    "\n",
    "    roh = 1.64  # z3 norm bound (for kappa=128)\n",
    "\n",
    "    # Approximate Shortness\n",
    "    D_s = rand_Rq_mat(n_p, m1)\n",
    "    D_m = rand_Rq_mat(n_p, ell)\n",
    "    u = rand_Rql(n_p)\n",
    "    B_p = norm_Rql(D_s*s1 + D_m*m + u)\n",
    "\n",
    "    gamma4 = 6\n",
    "    std4 = gamma4 * sg.sqrt(337) * B_p\n",
    "    rep_M4 = rej_bimodal_M(gamma4)\n",
    "\n",
    "    global rep_rate_abdlop_toolbox\n",
    "    rep_rate_abdlop_toolbox = rep_M1 * 2*rep_M2 * rep_M3 * rep_M4\n",
    "\n",
    "    # ABDLOP tA, tB\n",
    "    # squared norm is always an int (round float errors)\n",
    "    squared_norm_diffs = [B_is[i]**2 - round(norms[i]**2) for i in range(Z)]\n",
    "    theta = sg.vector(R_q, [N_2_binary_Rq(squared_norm_diffs[i]) for i in range(Z)])\n",
    "    tA_tB = (A1.stack(ZM(ell, m1 + Z)) * stack_vec_Rql([s1, theta])\n",
    "             + A2.stack(B) * s2 \n",
    "             + stack_vec_Rql([zv(n), m]))\n",
    "    tA = tA_tB[:n]  # ABDLOP tA\n",
    "    tB = tA_tB[n:]  # ABDLOP tB\n",
    "\n",
    "    return abdlop_toolbox(m1, m2, ell, n, k, N, M, n_bin, Z, n_is, n_p, lambd,\n",
    "                          is_opti, rej_u_1, rej_u_2, rej_u_3, rej_u_4, get_challenge_u,\n",
    "                          std1, rep_M1, std2, rep_M2, std3, rep_M3, std4, rep_M4, roh,\n",
    "                          s1, s2, m, A1, A2, B, B_gamma, B_beta, B_ext, b_ext, theta, tA, tB,\n",
    "                          R2_is, r1_is, r0_is,\n",
    "                          R2_p_is, r1_p_is, r0_p_is,\n",
    "                          P_s, P_m, f,\n",
    "                          E_s_is, E_m_is, v_is, B_is,\n",
    "                          D_s, D_m, u, B_p)\n"
   ]
  },
  {
   "cell_type": "code",
   "execution_count": null,
   "metadata": {
    "vscode": {
     "languageId": "python"
    }
   },
   "outputs": [],
   "source": [
    "# This will take a few minutes!\n",
    "\n",
    "# Run protocol with example parameters and repeat on rejection until acceptance\n",
    "#repeat_until_accept(test_abdlop_toolbox)"
   ]
  },
  {
   "cell_type": "code",
   "execution_count": null,
   "metadata": {
    "vscode": {
     "languageId": "python"
    }
   },
   "outputs": [],
   "source": [
    "# This will take a few minutes!\n",
    "\n",
    "# Measure repetition rate\n",
    "#measure_rep_rate(test_abdlop_toolbox, rep_rate_abdlop_toolbox, runs=10)"
   ]
  },
  {
   "cell_type": "markdown",
   "metadata": {},
   "source": [
    "### 4.7 Benchmark Code"
   ]
  },
  {
   "cell_type": "markdown",
   "metadata": {},
   "source": [
    "This is the code for benchmarking the implementation."
   ]
  },
  {
   "cell_type": "code",
   "execution_count": null,
   "metadata": {
    "vscode": {
     "languageId": "python"
    }
   },
   "outputs": [],
   "source": [
    "def benchmark_protocol(func, runs):\n",
    "    \"\"\"Measure runtime of a protocol, only counting successful runs\"\"\"\n",
    "    \n",
    "    i = 0\n",
    "    total_time = 0\n",
    "    while i < runs:\n",
    "        start_time = time.time()\n",
    "        res = func()\n",
    "        end_time = time.time()\n",
    "        if res != \"Rejected\":\n",
    "            i += 1\n",
    "            total_time += end_time - start_time\n",
    "    \n",
    "    return total_time / runs\n"
   ]
  },
  {
   "cell_type": "code",
   "execution_count": null,
   "metadata": {
    "vscode": {
     "languageId": "python"
    }
   },
   "outputs": [],
   "source": [
    "# This will take a few minutes!\n",
    "#time_commit = benchmark_protocol(test_abdlop_commit, 10)\n",
    "#print(f\"Prove ABDLOP opening and 1 lin. rel. over Rq: {time_commit:.3f}s\")\n",
    "\n",
    "#time_linear = benchmark_protocol(test_abdlop_linear, 10)\n",
    "#print(f\"Prove ABDLOP opening, 1 lin. rel. over Rq and 1 lin. rel. over Zq: {time_linear:.3f}s\")\n",
    "\n",
    "#time_quadratic = benchmark_protocol(test_abdlop_single_quadratic, 10)\n",
    "#print(f\"Prove ABDLOP opening and 1 quad. rel. over Rq: {time_quadratic:.3f}s\")\n",
    "\n",
    "#time_quadratic_poly = benchmark_protocol(test_abdlop_quadratic_poly, 10)\n",
    "#print(f\"Prove ABDLOP opening, 1 quad. rel. over Rq and 1 quad. rel. over Zq: {time_quadratic_poly:.3f}s\")\n",
    "\n",
    "#time_mlwe = benchmark_protocol(test_abdlop_mlwe, 3)\n",
    "#print(f\"Prove Module-LWE secret: {time_mlwe:.3f}s\")\n"
   ]
  },
  {
   "cell_type": "markdown",
   "metadata": {},
   "source": [
    "## 5. Benchmarks"
   ]
  },
  {
   "cell_type": "markdown",
   "metadata": {},
   "source": [
    "We measure the runtime of our implemented protocols. Remember that rejection sampling forces us to restart a protocol with a certain probability, increasing the runtime. However, the most computationally expensive parts of the protocols are independent of the randomly sampled values, so they would not have to be repeated on rejection. For example, in the Module-LWE secret proof, computing the $\\mathbf{R'}_{i,2}$ matrices is very expensive. Since we focus on readability in our implementation and restructuring the code for efficiency would make it harder to read, we simply repeat the entire protocol on rejection. For the benchmarks, we measure the expected time of a successful run without repetitions, giving us a more realistic picture of the protocol runtimes.\n",
    "\n",
    "The following measurements were made on a consumer laptop (AMD Ryzen 7 PRO 4750U) using the configurations given in the code above, which give us 128 bits of security.\n",
    "\n",
    "$$\n",
    "\\begin{array}{l|r}\n",
    "    \\text{Proof Type} & \\text{Runtime} \\\\\n",
    "    \\hline\n",
    "    \\text{ABDLOP opening + 1 lin. rel. over Rq}                         & \\text{390 ms} \\\\\n",
    "    \\text{ABDLOP opening + 1 lin. rel. over Rq + 1 lin. rel. over Zq}   & \\text{620 ms} \\\\\n",
    "    \\text{ABDLOP opening + 1 quad. rel. over Rq}                        & \\text{510 ms} \\\\\n",
    "    \\text{ABDLOP opening + 1 quad. rel. over Rq + 1 quad. rel. over Zq} & \\text{830 ms} \\\\\n",
    "    \\text{Module-LWE secret}                                            & \\text{35 s} \\\\\n",
    "\\end{array}\n",
    "$$\n",
    "<br>\n",
    "\n",
    "Proving knowledge of a simple ABLDOP opening together with one linear relation over Rq takes around 400ms using our unoptimized Python/Sage implementation. Moving to relations over Zq and to the quadratic variants does not increase the proof time significantly. However, there is a big jump when proving knowledge of a Module-LWE secret. This is because in this proof we need to prove relations over $\\mathbb{Z}$, which we do using the approximate range proof technique. This technique requires us to construct around 300 large commitment matrices (see \"Exact Shortness Extensions\" in the code), which is a major performance bottleneck of Lantern. Speeding up matrix multiplication of polynomial matrices is therefore key to the performance of the scheme, similar to other lattice-based schemes.\n",
    "\n",
    "Esgin et al. [[ENS20]](https://link.springer.com/chapter/10.1007/978-3-030-64834-3_9), who proposed the previously most efficient lattice-based scheme report a runtime (prover + verifier) of around 4ms. Their implementation is heavily optimized for Intel CPUs using AVX2 instructions and they used many of the implementation techniques that have been used to speed up the popular Kyber [[BDK+18]](https://ieeexplore.ieee.org/document/8406610), Dilithium [[DKL+18]](https://tches.iacr.org/index.php/TCHES/article/view/839), and NTTRU [[LS19]](https://tches.iacr.org/index.php/TCHES/article/view/8293) lattice-based schemes. For fast polynomial multiplication and fast computation of automorphisms, they use the number theoretic transform (NTT) and heavily vectorized computations. This shows the potential for an optimized Lantern implementation since many of these techniques can also be applied to speed up our implementation. However there are some difficulties with Lantern: First, the modulus is not NTT-friendly, so standard fast algorithms for polynomial multiplication cannot be applied. Recent work by Chung et al. [[Chu+21]](https://tches.iacr.org/index.php/TCHES/article/view/8791) which provides fast polynomial multiplication for NTT-unfriendly rings could be used instead. Secondly, sampling from a Gaussian distribution is difficult to implement efficiently and securely, i.e., hard to protect against side-channel attacks [[HPR+20]](https://link.springer.com/chapter/10.1007/978-3-030-44223-1_4).\n",
    "\n",
    "For the hash-based schemes, a Module-LWE proof implementation was done by Boschini et. al [[Bos+20]](https://link.springer.com/chapter/10.1007/978-3-030-44223-1_14), who encoded the required relations in R1CS and used the [`libiop`](https://github.com/scipr-lab/libiop) C++ implementation of the Aurora [[Ben+19]](https://link.springer.com/chapter/10.1007/978-3-030-17653-2_4) proof system to construct the proof of 72kB size. They needed roughly 40s on a consumer laptop, a similar runtime to our unoptimized implementation.\n"
   ]
  },
  {
   "cell_type": "markdown",
   "metadata": {},
   "source": [
    "## Conclusion"
   ]
  },
  {
   "cell_type": "markdown",
   "metadata": {},
   "source": [
    "We have seen how to construct various efficient lattice-based zero-knowledge proofs using the techniques of Lantern [[LNP22]](https://link.springer.com/chapter/10.1007/978-3-031-15979-4_3). This allows us to construct the currently shortest known Module-LWE secret proof with a proof size of 13kB. We have shown that this proof and its various sub-proofs can be constructed on a consumer laptop. Our unoptimized Python/Sage implementation does this in 35s. The major performance bottleneck of our implementation turns out to be the large polynomial matrix multiplications required to construct the commitment matrices. The authors of the previously shortest proof scheme [[ENS20]](https://link.springer.com/chapter/10.1007/978-3-030-64834-3_9) applied many optimization techniques for lattice computation like AVX2 vectorization and fast polynomial multiplication to their scheme to bring their runtime down to 4ms. Many of these techniques can also be applied to Lantern, which shows the practical potential of the Lantern scheme.\n",
    "\n",
    "We also provide a toolbox implementation, which can be used to construct proofs for various applications like verifiable encryption or group signatures [[Ngu22]](https://www.research-collection.ethz.ch/bitstream/handle/20.500.11850/574844/1/PhD_Thesis-3.pdf). These proofs should also be very efficient thanks to the techniques of Lantern.\n",
    "\n",
    "However, there remain some open problems with Lantern. First, the Gaussian sampling required by Lantern is difficult to implement in such a way that it is efficient and protected against side-channel attacks [[HPR+20]](https://link.springer.com/chapter/10.1007/978-3-030-44223-1_4). Secondly, Lantern proofs are unfortunately not succinct, meaning they grow linearly in the number of committed messages. This means Lantern is not suited for proving large statements like circuit satisfiability. The hash-based alternatives for proving lattice statements are asymptotically succinct but unpractical because they are too slow and require unfeasible amounts of memory for more advanced proofs [[Bos+20]](https://link.springer.com/chapter/10.1007/978-3-030-44223-1_14). Succinct and concretely efficient lattice proof systems therefore remain an open problem.\n",
    "<br>\n",
    "<br>\n"
   ]
  },
  {
   "cell_type": "markdown",
   "metadata": {},
   "source": []
  }
 ],
 "metadata": {
  "kernelspec": {
   "display_name": "SageMath 10.1",
   "language": "sage",
   "name": "sagemath"
  },
  "language_info": {
   "codemirror_mode": {
    "name": "ipython",
    "version": 3
   },
   "file_extension": ".py",
   "mimetype": "text/x-python",
   "name": "sage",
   "nbconvert_exporter": "python",
   "pygments_lexer": "ipython3",
   "version": "3.11.5"
  },
  "orig_nbformat": 4,
  "vscode": {
   "interpreter": {
    "hash": "e7370f93d1d0cde622a1f8e1c04877d8463912d04d973331ad4851f04de6915a"
   }
  }
 },
 "nbformat": 4,
 "nbformat_minor": 2
}
